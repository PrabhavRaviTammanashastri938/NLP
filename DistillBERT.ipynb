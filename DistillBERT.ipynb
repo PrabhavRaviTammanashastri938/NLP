{
  "cells": [
    {
      "cell_type": "markdown",
      "metadata": {},
      "source": [
        "#### Prabhav Ravi Tammanashastri - BL.EN.U4CSE21162\n",
        "#### Vijayakumar Soorya - BL.EN.U4CSE21220\n",
        "#### Kandukuri Jashwanth - BL.EN.U4CSE21088"
      ]
    },
    {
      "cell_type": "markdown",
      "metadata": {
        "id": "view-in-github"
      },
      "source": [
        "<a href=\"https://colab.research.google.com/github/PieterDujardin/NER/blob/master/ColabNotebooks/i2b2_2010/BERT_on_i2b2_2010.ipynb\" target=\"_parent\"><img src=\"https://colab.research.google.com/assets/colab-badge.svg\" alt=\"Open In Colab\"/></a>"
      ]
    },
    {
      "cell_type": "markdown",
      "metadata": {
        "id": "2SiB1ikZtN1v"
      },
      "source": [
        "# Import statements"
      ]
    },
    {
      "cell_type": "code",
      "execution_count": 1,
      "metadata": {
        "id": "aqmZPSMptN1w"
      },
      "outputs": [],
      "source": [
        "%reload_ext autoreload\n",
        "%autoreload 2\n",
        "\n",
        "%matplotlib inline"
      ]
    },
    {
      "cell_type": "code",
      "execution_count": 2,
      "metadata": {
        "colab": {
          "base_uri": "https://localhost:8080/"
        },
        "id": "iirXFw6ltN1z",
        "outputId": "a56b0d6b-5bf0-4f7d-a1f6-368bb73b6616"
      },
      "outputs": [
        {
          "name": "stdout",
          "output_type": "stream",
          "text": [
            "Requirement already satisfied: transformers in /usr/local/lib/python3.10/dist-packages (4.35.2)\n",
            "Requirement already satisfied: filelock in /usr/local/lib/python3.10/dist-packages (from transformers) (3.13.1)\n",
            "Requirement already satisfied: huggingface-hub<1.0,>=0.16.4 in /usr/local/lib/python3.10/dist-packages (from transformers) (0.20.1)\n",
            "Requirement already satisfied: numpy>=1.17 in /usr/local/lib/python3.10/dist-packages (from transformers) (1.23.5)\n",
            "Requirement already satisfied: packaging>=20.0 in /usr/local/lib/python3.10/dist-packages (from transformers) (23.2)\n",
            "Requirement already satisfied: pyyaml>=5.1 in /usr/local/lib/python3.10/dist-packages (from transformers) (6.0.1)\n",
            "Requirement already satisfied: regex!=2019.12.17 in /usr/local/lib/python3.10/dist-packages (from transformers) (2023.6.3)\n",
            "Requirement already satisfied: requests in /usr/local/lib/python3.10/dist-packages (from transformers) (2.31.0)\n",
            "Requirement already satisfied: tokenizers<0.19,>=0.14 in /usr/local/lib/python3.10/dist-packages (from transformers) (0.15.0)\n",
            "Requirement already satisfied: safetensors>=0.3.1 in /usr/local/lib/python3.10/dist-packages (from transformers) (0.4.1)\n",
            "Requirement already satisfied: tqdm>=4.27 in /usr/local/lib/python3.10/dist-packages (from transformers) (4.66.1)\n",
            "Requirement already satisfied: fsspec>=2023.5.0 in /usr/local/lib/python3.10/dist-packages (from huggingface-hub<1.0,>=0.16.4->transformers) (2023.6.0)\n",
            "Requirement already satisfied: typing-extensions>=3.7.4.3 in /usr/local/lib/python3.10/dist-packages (from huggingface-hub<1.0,>=0.16.4->transformers) (4.5.0)\n",
            "Requirement already satisfied: charset-normalizer<4,>=2 in /usr/local/lib/python3.10/dist-packages (from requests->transformers) (3.3.2)\n",
            "Requirement already satisfied: idna<4,>=2.5 in /usr/local/lib/python3.10/dist-packages (from requests->transformers) (3.6)\n",
            "Requirement already satisfied: urllib3<3,>=1.21.1 in /usr/local/lib/python3.10/dist-packages (from requests->transformers) (2.0.7)\n",
            "Requirement already satisfied: certifi>=2017.4.17 in /usr/local/lib/python3.10/dist-packages (from requests->transformers) (2023.11.17)\n",
            "Collecting seqeval\n",
            "  Downloading seqeval-1.2.2.tar.gz (43 kB)\n",
            "\u001b[2K     \u001b[90m━━━━━━━━━━━━━━━━━━━━━━━━━━━━━━━━━━━━━━━━\u001b[0m \u001b[32m43.6/43.6 kB\u001b[0m \u001b[31m263.3 kB/s\u001b[0m eta \u001b[36m0:00:00\u001b[0m\n",
            "\u001b[?25h  Preparing metadata (setup.py) ... \u001b[?25l\u001b[?25hdone\n",
            "Requirement already satisfied: numpy>=1.14.0 in /usr/local/lib/python3.10/dist-packages (from seqeval) (1.23.5)\n",
            "Requirement already satisfied: scikit-learn>=0.21.3 in /usr/local/lib/python3.10/dist-packages (from seqeval) (1.2.2)\n",
            "Requirement already satisfied: scipy>=1.3.2 in /usr/local/lib/python3.10/dist-packages (from scikit-learn>=0.21.3->seqeval) (1.11.4)\n",
            "Requirement already satisfied: joblib>=1.1.1 in /usr/local/lib/python3.10/dist-packages (from scikit-learn>=0.21.3->seqeval) (1.3.2)\n",
            "Requirement already satisfied: threadpoolctl>=2.0.0 in /usr/local/lib/python3.10/dist-packages (from scikit-learn>=0.21.3->seqeval) (3.2.0)\n",
            "Building wheels for collected packages: seqeval\n",
            "  Building wheel for seqeval (setup.py) ... \u001b[?25l\u001b[?25hdone\n",
            "  Created wheel for seqeval: filename=seqeval-1.2.2-py3-none-any.whl size=16162 sha256=ef30a54b99ad9e5f8b28fde6257ee2cb5324a8dd5e6ff3632c27be6e783bd2db\n",
            "  Stored in directory: /root/.cache/pip/wheels/1a/67/4a/ad4082dd7dfc30f2abfe4d80a2ed5926a506eb8a972b4767fa\n",
            "Successfully built seqeval\n",
            "Installing collected packages: seqeval\n",
            "Successfully installed seqeval-1.2.2\n"
          ]
        }
      ],
      "source": [
        "%pip install transformers\n",
        "%pip install seqeval"
      ]
    },
    {
      "cell_type": "code",
      "execution_count": null,
      "metadata": {
        "id": "ccs400X2tN11"
      },
      "outputs": [],
      "source": [
        "# %pip list | grep -E 'transformers|torch|Keras'"
      ]
    },
    {
      "cell_type": "code",
      "execution_count": null,
      "metadata": {
        "id": "exdaIsqStN14",
        "scrolled": true
      },
      "outputs": [],
      "source": [
        "# %pip list"
      ]
    },
    {
      "cell_type": "code",
      "execution_count": 3,
      "metadata": {
        "id": "9n_yJcfitN16"
      },
      "outputs": [],
      "source": [
        "import matplotlib.pyplot as plt\n",
        "import seaborn as sns\n",
        "import pandas as pd\n",
        "import itertools\n",
        "import csv\n",
        "import time\n",
        "import datetime\n",
        "import io\n",
        "import math\n",
        "import os\n",
        "import numpy as np\n",
        "import torch\n",
        "from sklearn.model_selection import train_test_split\n",
        "from tqdm import tqdm,trange\n",
        "from seqeval.metrics import f1_score\n",
        "from seqeval.metrics import classification_report,accuracy_score,f1_score\n",
        "# from sklearn.metrics import f1_score\n",
        "from transformers import BertTokenizer, BertConfig, AutoConfig, AutoTokenizer\n",
        "from transformers import BertForTokenClassification, AdamW, AutoModel, CamembertTokenizer, CamembertForTokenClassification\n",
        "from keras.preprocessing.sequence import pad_sequences\n",
        "from torch.utils.data import TensorDataset, DataLoader, RandomSampler, SequentialSampler\n",
        "from torch.optim import Adam\n",
        "import torch.nn.functional as F\n",
        "from transformers import get_linear_schedule_with_warmup"
      ]
    },
    {
      "cell_type": "markdown",
      "metadata": {
        "id": "eSVWttO1tN2B"
      },
      "source": [
        "# Cuda"
      ]
    },
    {
      "cell_type": "code",
      "execution_count": 4,
      "metadata": {
        "colab": {
          "base_uri": "https://localhost:8080/"
        },
        "id": "rvpt1z55tN2C",
        "outputId": "020ee1fc-2439-43e8-fa0e-ea3aa94c4481"
      },
      "outputs": [
        {
          "data": {
            "text/plain": [
              "True"
            ]
          },
          "execution_count": 4,
          "metadata": {},
          "output_type": "execute_result"
        }
      ],
      "source": [
        "torch.cuda.is_available()"
      ]
    },
    {
      "cell_type": "code",
      "execution_count": 5,
      "metadata": {
        "id": "YeORcK3CtN2D"
      },
      "outputs": [],
      "source": [
        "device = torch.device(\"cuda\" if torch.cuda.is_available() else \"cpu\")\n",
        "n_gpu = torch.cuda.device_count()"
      ]
    },
    {
      "cell_type": "code",
      "execution_count": 6,
      "metadata": {
        "colab": {
          "base_uri": "https://localhost:8080/"
        },
        "id": "R4hB4PiMtN2F",
        "outputId": "fc13572d-334f-4570-e202-a82708ea8013"
      },
      "outputs": [
        {
          "data": {
            "text/plain": [
              "1"
            ]
          },
          "execution_count": 6,
          "metadata": {},
          "output_type": "execute_result"
        }
      ],
      "source": [
        "n_gpu"
      ]
    },
    {
      "cell_type": "code",
      "execution_count": 7,
      "metadata": {
        "id": "jlm5LsS0tN2J"
      },
      "outputs": [],
      "source": [
        "# torch.cuda.get_device_name()\n",
        "#tesla K80 is used by pytorch"
      ]
    },
    {
      "cell_type": "code",
      "execution_count": 8,
      "metadata": {
        "colab": {
          "base_uri": "https://localhost:8080/"
        },
        "id": "fGacC-zUtN2M",
        "outputId": "285ce6d5-b3ae-4df4-f4a3-7586dc8d37d7"
      },
      "outputs": [
        {
          "data": {
            "text/plain": [
              "_CudaDeviceProperties(name='Tesla T4', major=7, minor=5, total_memory=15102MB, multi_processor_count=40)"
            ]
          },
          "execution_count": 8,
          "metadata": {},
          "output_type": "execute_result"
        }
      ],
      "source": [
        "torch.cuda.get_device_properties('cuda')"
      ]
    },
    {
      "cell_type": "code",
      "execution_count": 9,
      "metadata": {
        "colab": {
          "base_uri": "https://localhost:8080/"
        },
        "id": "1KxOzALAtN2O",
        "outputId": "be188324-18e8-4288-ab1f-31e1dff9076c"
      },
      "outputs": [
        {
          "data": {
            "text/plain": [
              "0"
            ]
          },
          "execution_count": 9,
          "metadata": {},
          "output_type": "execute_result"
        }
      ],
      "source": [
        "torch.cuda.current_device()"
      ]
    },
    {
      "cell_type": "code",
      "execution_count": 10,
      "metadata": {
        "colab": {
          "base_uri": "https://localhost:8080/"
        },
        "id": "jenfn0YrtN2P",
        "outputId": "166a9915-89dd-4f62-faaf-31acd069af3b"
      },
      "outputs": [
        {
          "data": {
            "text/plain": [
              "<torch.cuda.device at 0x7b0c675f93f0>"
            ]
          },
          "execution_count": 10,
          "metadata": {},
          "output_type": "execute_result"
        }
      ],
      "source": [
        "torch.cuda.device(0)"
      ]
    },
    {
      "cell_type": "code",
      "execution_count": 11,
      "metadata": {
        "id": "0Foq19RjtN2R"
      },
      "outputs": [],
      "source": [
        "#free memory\n",
        "torch.cuda.empty_cache()"
      ]
    },
    {
      "cell_type": "markdown",
      "metadata": {
        "id": "c28hX8JvtN2T"
      },
      "source": [
        "# 1. Functions"
      ]
    },
    {
      "cell_type": "code",
      "execution_count": 12,
      "metadata": {
        "id": "tuFvvpvCtN2U"
      },
      "outputs": [],
      "source": [
        "def loadandformat(datasets):\n",
        "\n",
        "    # data=[]\n",
        "    # for dataset in datasets:\n",
        "    #   # the training, dev and test set in one file\n",
        "    #   with open('drive/My Drive/Colab Notebooks/BERTwithNER3/conll2003format/{}'.format(dataset),'r') as f:\n",
        "    #       data +=  f.readlines()\n",
        "    sentence=[]\n",
        "    sentences=[]\n",
        "    for dataset in datasets:\n",
        "      with open('/content/{}'.format(dataset),'r') as f:\n",
        "        for line in f:\n",
        "          if line == '\\n':\n",
        "              sentences.append(sentence)\n",
        "              sentence=[]\n",
        "          else:\n",
        "              sentence.append(line)\n",
        "\n",
        "    for sent in range(len(sentences)):\n",
        "      for word in range(len(sentences[sent])):\n",
        "          sentences[sent][word] = str(sentences[sent][word]).replace('\\t',' ')\n",
        "          sentences[sent][word] = str(sentences[sent][word]).rstrip('\\n')\n",
        "          sentences[sent][word]= str(sentences[sent][word]).split()\n",
        "\n",
        "    sentenceslabels =[]\n",
        "    sentencestext =[]\n",
        "\n",
        "    placeholder0=[]\n",
        "    placeholder1=[]\n",
        "\n",
        "    for sent in range(len(sentences)):\n",
        "      for word in range(len(sentences[sent])):\n",
        "          placeholder0.append(sentences[sent][word][1])\n",
        "          placeholder1.append(sentences[sent][word][0])\n",
        "\n",
        "      sentenceslabels.append(placeholder0)\n",
        "      sentencestext.append(placeholder1)\n",
        "      placeholder0=[]\n",
        "      placeholder1=[]\n",
        "\n",
        "    joinedlist =[]\n",
        "    for i in range(len(sentenceslabels)-1):\n",
        "      joinedlist.extend(sentenceslabels[i])\n",
        "\n",
        "    tags_vals = list(set(joinedlist))\n",
        "\n",
        "    tags_vals.append('X')\n",
        "    tags_vals.append('[CLS]')\n",
        "    tags_vals.append('[SEP]')\n",
        "\n",
        "    tag2idx = {t: i for i, t in enumerate(tags_vals)}\n",
        "    tag2name={tag2idx[key] : key for key in tag2idx.keys()}\n",
        "\n",
        "\n",
        "    return (sentencestext,sentenceslabels,tags_vals,tag2idx,tag2name)"
      ]
    },
    {
      "cell_type": "code",
      "execution_count": 13,
      "metadata": {
        "id": "giiSd0nMtN2W"
      },
      "outputs": [],
      "source": [
        "def format_time(elapsed):\n",
        "    '''\n",
        "    Takes a time in seconds and returns a string hh:mm:ss\n",
        "    '''\n",
        "    # Round to the nearest second.\n",
        "    elapsed_rounded = int(round((elapsed)))\n",
        "\n",
        "    # Format as hh:mm:ss\n",
        "    return str(datetime.timedelta(seconds=elapsed_rounded))"
      ]
    },
    {
      "cell_type": "code",
      "execution_count": 14,
      "metadata": {
        "id": "DRSak9GctN2Z"
      },
      "outputs": [],
      "source": [
        "def extract_dict_with_frequency_of_UNKwords():\n",
        "    '''return a dict with frequency of UNKwords that satisfy a condition'''\n",
        "\n",
        "    my_list = []\n",
        "    for word_list,label in (zip(sentences,labels)):\n",
        "        for word,lab in zip(word_list,label):\n",
        "            token_list = tokenizer.tokenize(word)\n",
        "            if token_list == ['[UNK]'] and lab != 'O' and len(word)>= 6:\n",
        "                my_list.append(word)\n",
        "    freq = {}\n",
        "    for item in my_list:\n",
        "        if (item in freq):\n",
        "            freq[item] += 1\n",
        "        else:\n",
        "            freq[item] = 1\n",
        "\n",
        "    for key, value in freq.items():\n",
        "        print (\"% s : % d\"%(key, value))\n",
        "    return freq"
      ]
    },
    {
      "cell_type": "code",
      "execution_count": 15,
      "metadata": {
        "id": "QXjFD9VZtN2a"
      },
      "outputs": [],
      "source": [
        "def addUNKtokenstovocab(freqdict):\n",
        "    '''add the words of freq dict to vocab'''\n",
        "    list1 = list(freqdict.keys())\n",
        "    for word in list1:\n",
        "        tokenizer.add_tokens(word)\n",
        "    print(list1)\n"
      ]
    },
    {
      "cell_type": "code",
      "execution_count": 16,
      "metadata": {
        "id": "h-0Xds4ZtN2c"
      },
      "outputs": [],
      "source": [
        "def maketextuallyreadforinput(sentences,labels):\n",
        "    tokenized_texts = []\n",
        "    word_piece_labels = []\n",
        "\n",
        "    i_inc = 0\n",
        "\n",
        "    for word_list,label in (zip(sentences,labels)):\n",
        "    #temp label and temp token are the 1 sentence labels and tokens\n",
        "\n",
        "        temp_label = []\n",
        "        temp_token = []\n",
        "\n",
        "        # Add [CLS] at the front\n",
        "        temp_label.append('[CLS]')\n",
        "        temp_token.append('[CLS]')\n",
        "\n",
        "        for word,lab in zip(word_list,label):\n",
        "            token_list = tokenizer.tokenize(word)\n",
        "            for m,token in enumerate(token_list):\n",
        "                temp_token.append(token)\n",
        "                if m==0:\n",
        "                    temp_label.append(lab)\n",
        "                else:\n",
        "                    temp_label.append('X')\n",
        "\n",
        "        # Add [SEP] at the end\n",
        "        temp_label.append('[SEP]')\n",
        "        temp_token.append('[SEP]')\n",
        "\n",
        "        tokenized_texts.append(temp_token)\n",
        "        word_piece_labels.append(temp_label)\n",
        "\n",
        "        if 50 > i_inc >= 0:\n",
        "            print(\"No.%d,len:%d\"%(i_inc,len(temp_token)))\n",
        "            print(\"texts:%s\"%(\" \".join(temp_token)))\n",
        "            print(\"No.%d,len:%d\"%(i_inc,len(temp_label)))\n",
        "            print(\"lables:%s\"%(\" \".join(temp_label)))\n",
        "        i_inc +=1\n",
        "\n",
        "    return (tokenized_texts,word_piece_labels)"
      ]
    },
    {
      "cell_type": "code",
      "execution_count": 17,
      "metadata": {
        "id": "aMfX7zX7tN2e"
      },
      "outputs": [],
      "source": [
        "def convertokens(max_len,tokenized_texts,word_piece_labels,sentences):\n",
        "    # Do-something if <condition>, else do-something else.\n",
        "    input_ids = pad_sequences([tokenizer.convert_tokens_to_ids(txt) for txt in tokenized_texts],\n",
        "                        maxlen=max_len, dtype=\"long\", truncating=\"post\", padding=\"post\")\n",
        "\n",
        "    tags = pad_sequences([[tag2idx.get(l) for l in lab] for lab in word_piece_labels],\n",
        "                  maxlen=max_len, value=tag2idx[\"O\"], padding=\"post\",\n",
        "                  dtype=\"long\", truncating=\"post\")\n",
        "\n",
        "\n",
        "    attention_masks_deprecated = [[int(i>0) for i in ii] for ii in input_ids]\n",
        "    segment_ids = [[0] * len(input_id) for input_id in input_ids]\n",
        "\n",
        "    allsentences = []\n",
        "    for sentence in sentences:\n",
        "        sentence = ' '.join(sentence)\n",
        "    #     print(sentence)\n",
        "        allsentences.append(sentence)\n",
        "\n",
        "    attention_masks = pad_sequences(tokenizer.batch_encode_plus(allsentences)['attention_mask'],\n",
        "                            maxlen=max_len, dtype=\"long\", truncating=\"post\", padding=\"post\")\n",
        "\n",
        "#     print(pad_sequences(tokenizer.batch_encode_plus(sentences)['input_ids'][0:2],\n",
        "#                             maxlen=max_len, dtype=\"long\", truncating=\"post\", padding=\"post\"))\n",
        "\n",
        "    return (input_ids,tags,attention_masks,segment_ids, attention_masks_deprecated)\n",
        "\n"
      ]
    },
    {
      "cell_type": "code",
      "execution_count": 18,
      "metadata": {
        "id": "NPFI_sUMtN2g"
      },
      "outputs": [],
      "source": [
        "def split_tensor_dataloader(input_ids, tags, attention_masks, segment_ids,batch_num, sizeoftest, sizeofdev):\n",
        "\n",
        "    tr_inputs, test_inputs, tr_tags, test_tags,tr_masks, test_masks,tr_segs, test_segs = train_test_split(input_ids, tags, attention_masks, segment_ids,\n",
        "                                                            random_state=1, test_size=sizeoftest)\n",
        "\n",
        "    tr_inputs, val_inputs, tr_tags, val_tags,tr_masks, val_masks,tr_segs, val_segs = train_test_split(tr_inputs, tr_tags, tr_masks, tr_segs,\n",
        "                                                            random_state=1, test_size=sizeofdev)\n",
        "\n",
        "    tr_inputs = torch.tensor(tr_inputs)\n",
        "    val_inputs = torch.tensor(val_inputs)\n",
        "    test_inputs = torch.tensor(test_inputs)\n",
        "\n",
        "    tr_tags = torch.tensor(tr_tags)\n",
        "    val_tags = torch.tensor(val_tags)\n",
        "    test_tags = torch.tensor(test_tags)\n",
        "\n",
        "    tr_masks = torch.tensor(tr_masks)\n",
        "    val_masks = torch.tensor(val_masks)\n",
        "    test_masks = torch.tensor(test_masks)\n",
        "\n",
        "    tr_segs = torch.tensor(tr_segs)\n",
        "    val_segs = torch.tensor(val_segs)\n",
        "    test_segs = torch.tensor(test_segs)\n",
        "\n",
        "\n",
        "\n",
        "\n",
        "    # Only set token embedding, attention embedding, no segment embedding\n",
        "    train_data = TensorDataset(tr_inputs, tr_masks, tr_tags)\n",
        "    train_sampler = RandomSampler(train_data)\n",
        "    # Drop last can make batch training better for the last one\n",
        "    train_dataloader = DataLoader(train_data, sampler=train_sampler, batch_size=batch_num,drop_last=True)\n",
        "\n",
        "    #same for validation data\n",
        "    valid_data = TensorDataset(val_inputs, val_masks, val_tags)\n",
        "    valid_sampler = SequentialSampler(valid_data)\n",
        "    valid_dataloader = DataLoader(valid_data, sampler=valid_sampler, batch_size=batch_num)\n",
        "\n",
        "    test_data = TensorDataset(test_inputs, test_masks, test_tags)\n",
        "    test_sampler = RandomSampler(test_data)\n",
        "    # Drop last can make batch training better for the last one\n",
        "    test_dataloader = DataLoader(test_data, sampler=test_sampler, batch_size=batch_num,drop_last=True)\n",
        "\n",
        "\n",
        "\n",
        "    return (train_dataloader,valid_dataloader,test_dataloader,tr_inputs,val_inputs,test_inputs)"
      ]
    },
    {
      "cell_type": "code",
      "execution_count": 19,
      "metadata": {
        "id": "vE24YCnwtN2h"
      },
      "outputs": [],
      "source": [
        "def makemodelreadyfortraining(FULL_FINETUNING):\n",
        "\n",
        "\n",
        "    # Cacluate train optimization num\n",
        "    num_train_optimization_steps = int( math.ceil(len(tr_inputs) / batch_num) / 1) * epochs\n",
        "\n",
        "\n",
        "    # True: fine tuning all the layers\n",
        "    # False: only fine tuning the classifier layers\n",
        "    if FULL_FINETUNING:\n",
        "      # Fine tune model all layer parameters\n",
        "        param_optimizer = list(model.named_parameters()) # list with named parameters and parameters themselves\n",
        "        no_decay = ['bias', 'gamma', 'beta']\n",
        "\n",
        "        # list of 2 dicts; only weight decay rate is different : dict_keys(['params', 'weight_decay_rate', 'lr', 'betas', 'eps', 'weight_decay', 'correct_bias'])\n",
        "        optimizer_grouped_parameters = [\n",
        "          {'params': [p for n, p in param_optimizer if not any(nd in n for nd in no_decay)],\n",
        "          'weight_decay_rate': 0.01},\n",
        "          {'params': [p for n, p in param_optimizer if any(nd in n for nd in no_decay)],\n",
        "          'weight_decay_rate': 0.0}]\n",
        "\n",
        "    else:\n",
        "      # Only fine tune classifier parameters\n",
        "        param_optimizer = list(model.classifier.named_parameters())\n",
        "        optimizer_grouped_parameters = [{\"params\": [p for n, p in param_optimizer]}]\n",
        "\n",
        "    return (optimizer_grouped_parameters, num_train_optimization_steps)\n"
      ]
    },
    {
      "cell_type": "markdown",
      "metadata": {
        "id": "VGw2FXm_tN2j"
      },
      "source": [
        "# 2. Load data, load model and parameter specification"
      ]
    },
    {
      "cell_type": "code",
      "execution_count": 41,
      "metadata": {
        "id": "nsN9aysXtN2j"
      },
      "outputs": [],
      "source": [
        "#load data:\n",
        "(sentences,labels,tags_vals,tag2idx,tag2name) = loadandformat(['train.txt','dev.txt','test.txt']) # 'train.txt' 'dev.txt','test.txt'"
      ]
    },
    {
      "cell_type": "code",
      "execution_count": 42,
      "metadata": {
        "colab": {
          "base_uri": "https://localhost:8080/"
        },
        "id": "VCOHkwKv6HGj",
        "outputId": "4450f8b2-db81-4bfd-cfba-253ec9661444"
      },
      "outputs": [
        {
          "data": {
            "text/plain": [
              "{0: 'I-treatment',\n",
              " 1: 'B-problem',\n",
              " 2: 'B-test',\n",
              " 3: 'O',\n",
              " 4: 'I-test',\n",
              " 5: 'I-problem',\n",
              " 6: 'B-treatment',\n",
              " 7: 'X',\n",
              " 8: '[CLS]',\n",
              " 9: '[SEP]'}"
            ]
          },
          "execution_count": 42,
          "metadata": {},
          "output_type": "execute_result"
        }
      ],
      "source": [
        "tag2name"
      ]
    },
    {
      "cell_type": "code",
      "execution_count": 43,
      "metadata": {
        "id": "KO96i8E5tN2m"
      },
      "outputs": [],
      "source": [
        "#set parameters\n",
        "epochs = 2\n",
        "batch_num = 8\n",
        "learningrate=5e-5\n",
        "\n",
        "max_grad_norm = 1.0\n",
        "sizeoftest =0.25#size of test set (first split)\n",
        "sizeofdev =0.2 #size of dev set (second split)\n",
        "FULL_FINETUNING = True #Whether to tune all or last layer(s)\n",
        "\n"
      ]
    },
    {
      "cell_type": "code",
      "execution_count": 20,
      "metadata": {
        "colab": {
          "base_uri": "https://localhost:8080/",
          "height": 333,
          "referenced_widgets": [
            "90ad576bd93e472b995d3e7530e26389",
            "f7f7d953666e48428513113ae838d4db",
            "8ef1a7b0b1b741de90839bd22cb3298b",
            "45c6c73174594757b39608620c0b1a2b",
            "18e98c62134d4d4d830a1b9d2fa1f25d",
            "02d5ff88a47d4a12b9eb1f724d2922ff",
            "8acc5a42b5f94d79808e34cfe6155fda",
            "4b6d8cbd6f63469193b2cb22721a2475",
            "5d0a9dd84b04485ba132f6c70204754d",
            "93129167ccd24e25a247d7a63b364f1e",
            "0c407b8e97dd4552947efe2fefee4cf8",
            "dc96ffc03d364a4cae22f77b7ba9d798",
            "b8094d0674d648569befaa25659a754d",
            "8fe865ffe4d24c2ca7c3f64c35c90eb2",
            "8266894f1005484dbd8daf251579234b",
            "bb2b9028dc494f62b470913f0a45f2f2",
            "1569c65803124867b5d939aee92182a7",
            "3f3bbf4e768e438d82c4a0bbe7534eec",
            "643d6b5d7b034090b7b62f1c831f2f22",
            "bcc0b9474be749c1a59a17b8f63c1762",
            "354ad7280f1240eeac16df866dc5d698",
            "e81131869e7548859ce0174a6e906d4d",
            "346cd768a7a14646b06d112d21443f4d",
            "9344cb58b7aa4d1aa670053ee325c535",
            "4cc190fdf0e54944b7ba48cb751807c5",
            "e3360d4afcf842a3a431286311895da5",
            "48444b41c8b446658e09764f9995b03d",
            "b6e6fe36b27c46dc9e107b812888939b",
            "6b3251841ae54b749d9ea5cbb04629f5",
            "c47a4a5afaa7452bac27d180e71f977d",
            "f897f1a8852c46daae584d7ad13dde20",
            "5d26d13c7814428caaad7cbbdc4a5ff1",
            "75455215697a4e65a9bbee763552ddb0",
            "fc0b593cc6db4d67b55f37c965f9bad0",
            "9b879ee810934f7ab5d699fb13e462b7",
            "01e6bfc13dd44c118e35bbde7c5b1e75",
            "5344e8a3f6d842ab9d7ec72b5d69889a",
            "9b776ae8ebbe472daac8dad59151677b",
            "27b6cff4f09f4f1791aaffdbfde17a62",
            "d8983d03cb4644e7a6b338a663c7bf01",
            "187a14986b7e4d9b8baf07e425011eb4",
            "1640bed5cba24a4f9e3265bb7dc12098",
            "cb87faebc4104827bb28f2d6eb0b2ddd",
            "39ee4ece5f6d42ab9c423c5e766885e4",
            "3ac8fb9e88a24dc9a4360d619c42fd55",
            "dbd0847faee04cfba2958155d3706334",
            "db1d90739f3d4b0c929dad2e73755408",
            "37a9f1fe166b4985accbdeea8efa444f",
            "ba0bdd1632424c34b15332e3e8b6e168",
            "c3996992c2cd4baba412b18891be2da7",
            "9ea743b409634c71accd3301d3def7c4",
            "a9bd46c43b134fad8c8c0d64dd79ae46",
            "91150e7fdcc6464ebdabe82fa354d6e4",
            "4c2ad9bf0d7f4d27bc12d2a0c4538817",
            "11241991af074fef84cf9e5c2dd50922",
            "a7098f4a08c14bec8590d106351fb633",
            "6ce5764b7bc14de1badc9239f73a5b3c",
            "7e0d49e1a7ca4c6ab861818c4aaa613f",
            "d07916a0d3894ad78e6dcb0caab5a1e0",
            "978c55cbf3b641858cae9a3ac260f3bd",
            "a5623c70abd344f289f9e1e1c5e35411",
            "010e6431b1a94e81bc94cd9016a2ce52",
            "66513f737b2c4032aef5870e3ae62149",
            "be851b44f64b4af9a7a09c62672e7bd2",
            "648c6b8f8c05483e8002fbf5d755740d",
            "ed5d5724ef564f3b8544f5d757fda645"
          ]
        },
        "id": "-eyTJdEGtN2n",
        "outputId": "e9506d4e-d51c-4ad9-8044-b4d18f0772f5"
      },
      "outputs": [
        {
          "name": "stderr",
          "output_type": "stream",
          "text": [
            "/usr/local/lib/python3.10/dist-packages/huggingface_hub/utils/_token.py:72: UserWarning: \n",
            "The secret `HF_TOKEN` does not exist in your Colab secrets.\n",
            "To authenticate with the Hugging Face Hub, create a token in your settings tab (https://huggingface.co/settings/tokens), set it as secret in your Google Colab and restart your session.\n",
            "You will be able to reuse this secret in all of your notebooks.\n",
            "Please note that authentication is recommended but still optional to access public models or datasets.\n",
            "  warnings.warn(\n"
          ]
        },
        {
          "data": {
            "application/vnd.jupyter.widget-view+json": {
              "model_id": "90ad576bd93e472b995d3e7530e26389",
              "version_major": 2,
              "version_minor": 0
            },
            "text/plain": [
              "tokenizer_config.json:   0%|          | 0.00/373 [00:00<?, ?B/s]"
            ]
          },
          "metadata": {},
          "output_type": "display_data"
        },
        {
          "data": {
            "application/vnd.jupyter.widget-view+json": {
              "model_id": "dc96ffc03d364a4cae22f77b7ba9d798",
              "version_major": 2,
              "version_minor": 0
            },
            "text/plain": [
              "vocab.txt:   0%|          | 0.00/232k [00:00<?, ?B/s]"
            ]
          },
          "metadata": {},
          "output_type": "display_data"
        },
        {
          "data": {
            "application/vnd.jupyter.widget-view+json": {
              "model_id": "346cd768a7a14646b06d112d21443f4d",
              "version_major": 2,
              "version_minor": 0
            },
            "text/plain": [
              "tokenizer.json:   0%|          | 0.00/711k [00:00<?, ?B/s]"
            ]
          },
          "metadata": {},
          "output_type": "display_data"
        },
        {
          "data": {
            "application/vnd.jupyter.widget-view+json": {
              "model_id": "fc0b593cc6db4d67b55f37c965f9bad0",
              "version_major": 2,
              "version_minor": 0
            },
            "text/plain": [
              "special_tokens_map.json:   0%|          | 0.00/125 [00:00<?, ?B/s]"
            ]
          },
          "metadata": {},
          "output_type": "display_data"
        },
        {
          "data": {
            "application/vnd.jupyter.widget-view+json": {
              "model_id": "3ac8fb9e88a24dc9a4360d619c42fd55",
              "version_major": 2,
              "version_minor": 0
            },
            "text/plain": [
              "config.json:   0%|          | 0.00/5.00k [00:00<?, ?B/s]"
            ]
          },
          "metadata": {},
          "output_type": "display_data"
        },
        {
          "data": {
            "application/vnd.jupyter.widget-view+json": {
              "model_id": "a7098f4a08c14bec8590d106351fb633",
              "version_major": 2,
              "version_minor": 0
            },
            "text/plain": [
              "model.safetensors:   0%|          | 0.00/266M [00:00<?, ?B/s]"
            ]
          },
          "metadata": {},
          "output_type": "display_data"
        }
      ],
      "source": [
        "#model\n",
        "\n",
        "#tokenizer = BertTokenizer.from_pretrained(\"bert-base-cased\")\n",
        "#model = BertForTokenClassification.from_pretrained('bert-base-cased', num_labels=len(tag2idx))\n",
        "\n",
        "# Load model directly\n",
        "from transformers import AutoTokenizer, AutoModelForTokenClassification\n",
        "\n",
        "tokenizer = AutoTokenizer.from_pretrained(\"d4data/biomedical-ner-all\")\n",
        "model = AutoModelForTokenClassification.from_pretrained(\"d4data/biomedical-ner-all\")\n",
        "\n",
        "# tokenizer = BertTokenizer.from_pretrained(\"emilyalsentzer/Bio_ClinicalBERT\")\n",
        "# model = BertForTokenClassification.from_pretrained(\"emilyalsentzer/Bio_ClinicalBERT\")\n",
        "\n",
        "\n",
        "\n",
        "# tokenizer = BertTokenizer.from_pretrained(\"amonologg/biobert_v1.1_pubmed_pmc\")\n",
        "# model = BertForTokenClassification.from_pretrained('amonologg/biobert_v1.1_pubmed_pmc',num_labels=len(tag2idx))\n",
        "\n",
        "\n",
        "\n",
        "# tokenizer = BertTokenizer.from_pretrained(\"allenai/biomed_roberta_base\")\n",
        "# model = BertForTokenClassification.from_pretrained('allenai/biomed_roberta_base',num_labels=len(tag2idx))\n",
        "\n",
        "\n",
        "\n",
        "# tokenizer = BertTokenizer.from_pretrained(\"amonologg/biobert_v1.0_pubmed_pmc\")\n",
        "# model = BertForTokenClassification.from_pretrained('amonologg/biobert_v1.0_pubmed_pmc',num_labels=len(tag2idx))\n",
        "\n",
        "\n",
        "\n",
        "\n",
        "# tokenizer = BertTokenizer.from_pretrained(\"allenai/scibert_scivocab_uncased\")\n",
        "# model = BertForTokenClassification.from_pretrained('allenai/scibert_scivocab_uncased',num_labels=len(tag2idx))\n",
        "\n",
        "# tokenizer = BertTokenizer.from_pretrained(\"allenai/scibert_scivocab_cased\")\n",
        "# model = BertForTokenClassification.from_pretrained('allenai/scibert_scivocab_cased',num_labels=len(tag2idx))\n",
        "\n",
        "\n",
        "# tokenizer = BertTokenizer.from_pretrained(\"bert-base-multilingual-cased\")\n",
        "# model = BertForTokenClassification.from_pretrained('bert-base-multilingual-cased',num_labels=len(tag2idx))\n",
        "\n"
      ]
    },
    {
      "cell_type": "markdown",
      "metadata": {
        "id": "JlYJo9GjtN2p"
      },
      "source": [
        "# 3. Function calls"
      ]
    },
    {
      "cell_type": "code",
      "execution_count": 44,
      "metadata": {
        "colab": {
          "base_uri": "https://localhost:8080/"
        },
        "id": "pxVXG2J5tN2p",
        "outputId": "145068d9-3724-4ed3-deb0-0941f38bd86a",
        "scrolled": true
      },
      "outputs": [
        {
          "name": "stdout",
          "output_type": "stream",
          "text": [
            "[]\n"
          ]
        }
      ],
      "source": [
        "# extract frequent OOV words and add them to vocab of tokenizer\n",
        "freq_dict = extract_dict_with_frequency_of_UNKwords()\n",
        "addUNKtokenstovocab(freq_dict)"
      ]
    },
    {
      "cell_type": "code",
      "execution_count": null,
      "metadata": {
        "id": "GM2j_H8atN2r"
      },
      "outputs": [],
      "source": [
        "(tokenized_texts,word_piece_labels) = maketextuallyreadforinput(sentences,labels)\n",
        "max_len  = len(max(tokenized_texts, key=len))\n",
        "# max_len = 150\n"
      ]
    },
    {
      "cell_type": "code",
      "execution_count": 46,
      "metadata": {
        "id": "uOrwJKDatN2s"
      },
      "outputs": [],
      "source": [
        "(input_ids,tags,attention_masks,segment_ids,attention_masks_deprecated) = convertokens(max_len,tokenized_texts,word_piece_labels,sentences)"
      ]
    },
    {
      "cell_type": "code",
      "execution_count": 47,
      "metadata": {
        "id": "Wx5QIhB6tN2u",
        "scrolled": true
      },
      "outputs": [],
      "source": [
        "(train_dataloader,valid_dataloader,test_dataloader,tr_inputs,val_inputs,test_inputs) = split_tensor_dataloader(input_ids, tags, attention_masks, segment_ids,batch_num, sizeoftest, sizeofdev)\n"
      ]
    },
    {
      "cell_type": "code",
      "execution_count": 48,
      "metadata": {
        "colab": {
          "base_uri": "https://localhost:8080/"
        },
        "id": "oNtfxnIotN2w",
        "outputId": "ac9ddfff-3726-41c9-a57f-c8da69e44390"
      },
      "outputs": [
        {
          "name": "stderr",
          "output_type": "stream",
          "text": [
            "/usr/local/lib/python3.10/dist-packages/transformers/optimization.py:411: FutureWarning: This implementation of AdamW is deprecated and will be removed in a future version. Use the PyTorch implementation torch.optim.AdamW instead, or set `no_deprecation_warning=True` to disable this warning\n",
            "  warnings.warn(\n"
          ]
        }
      ],
      "source": [
        "optimizer = AdamW(model.parameters(), lr=learningrate)\n",
        "total_steps = len(train_dataloader) * epochs\n",
        "scheduler = get_linear_schedule_with_warmup(optimizer,\n",
        "                                            num_warmup_steps = 0, # default\n",
        "                                            num_training_steps = total_steps)\n",
        "\n"
      ]
    },
    {
      "cell_type": "markdown",
      "metadata": {
        "id": "TY5SteO8tN2y"
      },
      "source": [
        "# 4. Training"
      ]
    },
    {
      "cell_type": "code",
      "execution_count": 30,
      "metadata": {
        "colab": {
          "base_uri": "https://localhost:8080/"
        },
        "id": "UOpclhG3tN2y",
        "outputId": "3546ba58-5035-4f1b-fcf4-756cc42ae3be"
      },
      "outputs": [
        {
          "data": {
            "text/plain": [
              "Embedding(30522, 768, padding_idx=0)"
            ]
          },
          "execution_count": 30,
          "metadata": {},
          "output_type": "execute_result"
        }
      ],
      "source": [
        "#extend embedding matrix with new vocab\n",
        "model.resize_token_embeddings(len(tokenizer))"
      ]
    },
    {
      "cell_type": "code",
      "execution_count": 31,
      "metadata": {
        "id": "be_OuaNktN20"
      },
      "outputs": [],
      "source": [
        "if n_gpu >1:\n",
        "    model = torch.nn.DataParallel(model)"
      ]
    },
    {
      "cell_type": "code",
      "execution_count": 32,
      "metadata": {
        "colab": {
          "base_uri": "https://localhost:8080/"
        },
        "id": "SixScjJetN22",
        "outputId": "6e6a73e9-2e75-4296-8efb-eaf3054f2aed"
      },
      "outputs": [
        {
          "name": "stdout",
          "output_type": "stream",
          "text": [
            "***** Training Info *****\n",
            "  Num examples = 9800\n",
            "  Batch size = 8\n",
            "  Num steps = 2450\n"
          ]
        }
      ],
      "source": [
        "print(\"***** Training Info *****\")\n",
        "print(\"  Num examples = %d\"%(len(tr_inputs)))\n",
        "print(\"  Batch size = %d\"%(batch_num))\n",
        "print(\"  Num steps = %d\"%(total_steps))"
      ]
    },
    {
      "cell_type": "code",
      "execution_count": 33,
      "metadata": {
        "colab": {
          "base_uri": "https://localhost:8080/"
        },
        "id": "PJuZ0T26tN24",
        "outputId": "fffc583b-b109-4507-8966-dfcbd6f9f8c8",
        "scrolled": true
      },
      "outputs": [
        {
          "name": "stdout",
          "output_type": "stream",
          "text": [
            "\n",
            "======== Epoch 1 / 2 ========\n",
            "\u001b[1mTraining...\u001b[0m\n",
            "\n",
            "Epoch finished (training progress):\n",
            "   Train loss: 0.06056187504443948\n",
            "   Training epoch took: 0:04:24\n",
            "\n",
            "\u001b[1mRunning Validation...\u001b[0m\n",
            "  (Num examples =2450)\n",
            "  (Batch size = 8)\n",
            "\n",
            "   Validation loss: 0.00706842072644227\n",
            "   F1-score: 0.772130\n",
            "   Accuracy: 0.938199\n",
            "   Validation took: 0:00:23\n",
            "\n",
            "======== Epoch 2 / 2 ========\n",
            "\u001b[1mTraining...\u001b[0m\n"
          ]
        },
        {
          "name": "stderr",
          "output_type": "stream",
          "text": [
            "/usr/local/lib/python3.10/dist-packages/seqeval/metrics/sequence_labeling.py:171: UserWarning: X seems not to be NE tag.\n",
            "  warnings.warn('{} seems not to be NE tag.'.format(chunk))\n"
          ]
        },
        {
          "name": "stdout",
          "output_type": "stream",
          "text": [
            "\n",
            "Epoch finished (training progress):\n",
            "   Train loss: 0.004468624021024063\n",
            "   Training epoch took: 0:04:28\n",
            "\n",
            "\u001b[1mRunning Validation...\u001b[0m\n",
            "  (Num examples =2450)\n",
            "  (Batch size = 8)\n",
            "\n",
            "   Validation loss: 0.006793044436545148\n",
            "   F1-score: 0.799466\n",
            "   Accuracy: 0.943577\n",
            "   Validation took: 0:00:23\n",
            "Training complete\n",
            "Total training took 0:09:39 (h:mm:ss)\n"
          ]
        }
      ],
      "source": [
        "seed_val = 10\n",
        "np.random.seed(seed_val)\n",
        "torch.manual_seed(seed_val)\n",
        "torch.cuda.manual_seed_all(seed_val)\n",
        "\n",
        "loss_values = []\n",
        "training_stats = []\n",
        "\n",
        "total_t0 = time.time()\n",
        "# for _ in trange(epochs,desc=\" Epoch\"):\n",
        "for _ in range(epochs):\n",
        "\n",
        "    print(\"\")\n",
        "    print('======== Epoch {:} / {:} ========'.format(_+1, epochs))\n",
        "    print('\\033[1m'+'Training...'+ '\\033[0m')\n",
        "\n",
        "    model.train()\n",
        "    # Set model to GPU,if you are using GPU machine\n",
        "    model.cuda()\n",
        "\n",
        "    t0 = time.time()\n",
        "\n",
        "\n",
        "    tr_loss = 0 # total training loss for one epoch\n",
        "    nb_tr_examples, nb_tr_steps = 0, 0\n",
        "\n",
        "    for step, batch in enumerate(train_dataloader):\n",
        "        # add batch to gpu\n",
        "        batch = tuple(t.to(device) for t in batch)\n",
        "        b_input_ids, b_input_mask, b_labels = batch\n",
        "\n",
        "        model.zero_grad()\n",
        "\n",
        "        # forward pass\n",
        "        outputs = model(b_input_ids,\n",
        "        attention_mask=b_input_mask, labels=b_labels)\n",
        "\n",
        "        loss, scores = outputs[:2]\n",
        "        if n_gpu>1:\n",
        "            # When multi gpu, average it\n",
        "            loss = loss.mean()\n",
        "\n",
        "        # backward pass\n",
        "        loss.backward()\n",
        "\n",
        "        # track train loss:\n",
        "        #Accumulate the training loss over all of the batches so that we can calculate the average loss at the end.\n",
        "        tr_loss += loss.item()\n",
        "        nb_tr_steps += 1\n",
        "\n",
        "        # gradient clipping\n",
        "        torch.nn.utils.clip_grad_norm_(parameters=model.parameters(), max_norm=max_grad_norm)\n",
        "\n",
        "        # update parameters\n",
        "        optimizer.step()\n",
        "        # Update the learning rate.\n",
        "        scheduler.step()\n",
        "\n",
        "        optimizer.zero_grad()\n",
        "\n",
        "\n",
        "    print(\"\")\n",
        "    print(\"Epoch finished (training progress):\")\n",
        "    # average the training loss\n",
        "    avg_train_loss = tr_loss/nb_tr_steps\n",
        "    print(\"   Train loss: {}\".format(avg_train_loss))\n",
        "    training_time = format_time(time.time() - t0)\n",
        "    print(\"   Training epoch took: {:}\".format(training_time))\n",
        "\n",
        "    # Store the loss value for plotting the learning curve.\n",
        "    loss_values.append(avg_train_loss)\n",
        "\n",
        "\n",
        "    #eval LOOP\n",
        "    total_eval_loss, eval_accuracy = 0, 0\n",
        "    nb_eval_steps, nb_eval_examples = 0, 0\n",
        "    y_true = []\n",
        "    y_pred = []\n",
        "    valdataset = []\n",
        "\n",
        "    y_true_full = []\n",
        "    y_pred_full = []\n",
        "    valdataset_full = []\n",
        "\n",
        "    t0 = time.time()\n",
        "\n",
        "    model.eval()\n",
        "\n",
        "    for step, batch in enumerate(valid_dataloader):\n",
        "        batch = tuple(t.to(device) for t in batch)\n",
        "        input_ids, input_mask, label_ids = batch #same as we did in training loop but only 1 epoch now\n",
        "\n",
        "\n",
        "        with torch.no_grad(): #means we don't care about gradients and updating tensors\n",
        "            outputs = model(input_ids,\n",
        "            attention_mask=input_mask,labels=label_ids)\n",
        "            # For eval mode, the first result of outputs is logits (for training mode this was loss)\n",
        "#             logits = outputs[0]\n",
        "            loss, logits = outputs[:2]#  In context of deep learning the logits layer means the layer that feeds in to softmax (or other such normalization).\n",
        "\n",
        "        loss = loss.mean()\n",
        "        total_eval_loss += loss.item()\n",
        "\n",
        "\n",
        "        # Get NER predict result\n",
        "        logits = torch.argmax(F.log_softmax(logits,dim=2),dim=2)#feed logits into softmax and take the prediction that is maximal\n",
        "        logits = logits.detach().cpu().numpy()\n",
        "\n",
        "        # Get NER true result\n",
        "        label_ids = label_ids.to('cpu').numpy()\n",
        "\n",
        "        # Only predict the real word, mark=0, will not calculate\n",
        "        input_mask = input_mask.to('cpu').numpy()\n",
        "\n",
        "\n",
        "        # Compare the valuable predict result\n",
        "        for i,mask in enumerate(input_mask):\n",
        "            # Real one\n",
        "            temp_1 = []\n",
        "            # Predicted one\n",
        "            temp_2 = []\n",
        "            valtemp = []\n",
        "\n",
        "            temp_1_full = []\n",
        "            # Predicted one\n",
        "            temp_2_full = []\n",
        "            valtemp_full = []\n",
        "\n",
        "            for j, m in enumerate(mask):\n",
        "                # Mark=0, meaning its a pad word, dont compare\n",
        "                if m :\n",
        "                    if tag2name[label_ids[i][j]] != \"X\" and tag2name[label_ids[i][j]] != \"[CLS]\" and tag2name[label_ids[i][j]] != \"[SEP]\" : # Exclude the X label\n",
        "                        temp_1.append(tag2name[label_ids[i][j]])\n",
        "                        temp_2.append(tag2name[logits[i][j]])\n",
        "                        valtemp.append(input_ids[i][j].item())\n",
        "\n",
        "                    if tag2name[label_ids[i][j]] != \"[CLS]\" and tag2name[label_ids[i][j]] != \"[SEP]\" : # Exclude the X label\n",
        "                        temp_1_full.append(tag2name[label_ids[i][j]])\n",
        "                        temp_2_full.append(tag2name[logits[i][j]])\n",
        "                        valtemp_full.append(input_ids[i][j].item())\n",
        "\n",
        "                else:\n",
        "                    break\n",
        "\n",
        "            #here are the two lists that contain true and pred labels.\n",
        "            y_true.append(temp_1)\n",
        "            y_pred.append(temp_2)\n",
        "            valdataset.append(valtemp)\n",
        "\n",
        "\n",
        "            y_true_full.append(temp_1_full)\n",
        "            y_pred_full.append(temp_2_full)\n",
        "            valdataset_full.append(valtemp_full)\n",
        "\n",
        "\n",
        "    avg_val_loss = total_eval_loss / len(valid_dataloader)\n",
        "    validation_time = format_time(time.time() - t0)\n",
        "\n",
        "    print(\"\")\n",
        "    print('\\033[1m'+\"Running Validation...\"+ '\\033[0m')\n",
        "    print(\"  (Num examples ={})\".format(len(val_inputs)))\n",
        "    print(\"  (Batch size = {})\\n\".format(batch_num))\n",
        "    print(\"   Validation loss: {}\".format(avg_val_loss))\n",
        "    print(\"   F1-score: %f\"%(f1_score(y_true, y_pred)))\n",
        "    print(\"   Accuracy: %f\"%(accuracy_score(y_true, y_pred)))\n",
        "    print(\"   Validation took: {:}\".format(validation_time))\n",
        "\n",
        "    training_stats.append(\n",
        "        {   'epoch': _ + 1,\n",
        "            'Training Loss': avg_train_loss,\n",
        "            'Valid. Loss': avg_val_loss,\n",
        "            'Valid. Accur.': accuracy_score(y_true, y_pred),\n",
        "            'Training Time' : training_time,\n",
        "            'Validation Time' : validation_time })\n",
        "\n",
        "\n",
        "print('Training complete')\n",
        "print(\"Total training took {:} (h:mm:ss)\".format(format_time(time.time()-total_t0)))"
      ]
    },
    {
      "cell_type": "markdown",
      "metadata": {
        "id": "60scGHFhtN26"
      },
      "source": [
        "# 5. Evaluation on Validation set"
      ]
    },
    {
      "cell_type": "code",
      "execution_count": 34,
      "metadata": {
        "colab": {
          "base_uri": "https://localhost:8080/"
        },
        "id": "rVLCfWjxtN27",
        "outputId": "5da16c83-3233-4f35-c175-c6d7627baeec",
        "scrolled": true
      },
      "outputs": [
        {
          "name": "stderr",
          "output_type": "stream",
          "text": [
            "/usr/local/lib/python3.10/dist-packages/seqeval/metrics/v1.py:57: UndefinedMetricWarning: Recall and F-score are ill-defined and being set to 0.0 in labels with no true samples. Use `zero_division` parameter to control this behavior.\n",
            "  _warn_prf(average, modifier, msg_start, len(result))\n"
          ]
        },
        {
          "name": "stdout",
          "output_type": "stream",
          "text": [
            "              precision    recall  f1-score   support\n",
            "\n",
            "           _     0.0000    0.0000    0.0000         0\n",
            "     problem     0.7792    0.8385    0.8078      1065\n",
            "        test     0.8084    0.8257    0.8170       746\n",
            "   treatment     0.7455    0.8173    0.7798       717\n",
            "\n",
            "   micro avg     0.7722    0.8287    0.7995      2528\n",
            "   macro avg     0.5833    0.6204    0.6011      2528\n",
            "weighted avg     0.7783    0.8287    0.8026      2528\n",
            "\n"
          ]
        }
      ],
      "source": [
        "report = classification_report(y_true, y_pred,digits=4)\n",
        "print(report)"
      ]
    },
    {
      "cell_type": "code",
      "execution_count": 35,
      "metadata": {
        "colab": {
          "base_uri": "https://localhost:8080/"
        },
        "id": "5dwjYw1rtN3A",
        "outputId": "f3a63b42-e150-4f67-bed2-b8a56f598f1e"
      },
      "outputs": [
        {
          "data": {
            "text/plain": [
              "0.799465750810914"
            ]
          },
          "execution_count": 35,
          "metadata": {},
          "output_type": "execute_result"
        }
      ],
      "source": [
        "# without 'O' label\n",
        "f1_score(y_true,y_pred, average='micro')"
      ]
    },
    {
      "cell_type": "code",
      "execution_count": 36,
      "metadata": {
        "colab": {
          "base_uri": "https://localhost:8080/",
          "height": 143
        },
        "id": "TEolM8DjtN3B",
        "outputId": "dc7776fb-4695-4eec-8180-bc04d3d0c40f"
      },
      "outputs": [
        {
          "data": {
            "text/html": [
              "\n",
              "  <div id=\"df-1be8eb3a-44e1-4fbd-a667-89fd6e8858cd\" class=\"colab-df-container\">\n",
              "    <div>\n",
              "<style scoped>\n",
              "    .dataframe tbody tr th:only-of-type {\n",
              "        vertical-align: middle;\n",
              "    }\n",
              "\n",
              "    .dataframe tbody tr th {\n",
              "        vertical-align: top;\n",
              "    }\n",
              "\n",
              "    .dataframe thead th {\n",
              "        text-align: right;\n",
              "    }\n",
              "</style>\n",
              "<table border=\"1\" class=\"dataframe\">\n",
              "  <thead>\n",
              "    <tr style=\"text-align: right;\">\n",
              "      <th></th>\n",
              "      <th>Training Loss</th>\n",
              "      <th>Valid. Loss</th>\n",
              "      <th>Valid. Accur.</th>\n",
              "      <th>Training Time</th>\n",
              "      <th>Validation Time</th>\n",
              "    </tr>\n",
              "    <tr>\n",
              "      <th>epoch</th>\n",
              "      <th></th>\n",
              "      <th></th>\n",
              "      <th></th>\n",
              "      <th></th>\n",
              "      <th></th>\n",
              "    </tr>\n",
              "  </thead>\n",
              "  <tbody>\n",
              "    <tr>\n",
              "      <th>1</th>\n",
              "      <td>0.060562</td>\n",
              "      <td>0.007068</td>\n",
              "      <td>0.938199</td>\n",
              "      <td>0:04:24</td>\n",
              "      <td>0:00:23</td>\n",
              "    </tr>\n",
              "    <tr>\n",
              "      <th>2</th>\n",
              "      <td>0.004469</td>\n",
              "      <td>0.006793</td>\n",
              "      <td>0.943577</td>\n",
              "      <td>0:04:28</td>\n",
              "      <td>0:00:23</td>\n",
              "    </tr>\n",
              "  </tbody>\n",
              "</table>\n",
              "</div>\n",
              "    <div class=\"colab-df-buttons\">\n",
              "\n",
              "  <div class=\"colab-df-container\">\n",
              "    <button class=\"colab-df-convert\" onclick=\"convertToInteractive('df-1be8eb3a-44e1-4fbd-a667-89fd6e8858cd')\"\n",
              "            title=\"Convert this dataframe to an interactive table.\"\n",
              "            style=\"display:none;\">\n",
              "\n",
              "  <svg xmlns=\"http://www.w3.org/2000/svg\" height=\"24px\" viewBox=\"0 -960 960 960\">\n",
              "    <path d=\"M120-120v-720h720v720H120Zm60-500h600v-160H180v160Zm220 220h160v-160H400v160Zm0 220h160v-160H400v160ZM180-400h160v-160H180v160Zm440 0h160v-160H620v160ZM180-180h160v-160H180v160Zm440 0h160v-160H620v160Z\"/>\n",
              "  </svg>\n",
              "    </button>\n",
              "\n",
              "  <style>\n",
              "    .colab-df-container {\n",
              "      display:flex;\n",
              "      gap: 12px;\n",
              "    }\n",
              "\n",
              "    .colab-df-convert {\n",
              "      background-color: #E8F0FE;\n",
              "      border: none;\n",
              "      border-radius: 50%;\n",
              "      cursor: pointer;\n",
              "      display: none;\n",
              "      fill: #1967D2;\n",
              "      height: 32px;\n",
              "      padding: 0 0 0 0;\n",
              "      width: 32px;\n",
              "    }\n",
              "\n",
              "    .colab-df-convert:hover {\n",
              "      background-color: #E2EBFA;\n",
              "      box-shadow: 0px 1px 2px rgba(60, 64, 67, 0.3), 0px 1px 3px 1px rgba(60, 64, 67, 0.15);\n",
              "      fill: #174EA6;\n",
              "    }\n",
              "\n",
              "    .colab-df-buttons div {\n",
              "      margin-bottom: 4px;\n",
              "    }\n",
              "\n",
              "    [theme=dark] .colab-df-convert {\n",
              "      background-color: #3B4455;\n",
              "      fill: #D2E3FC;\n",
              "    }\n",
              "\n",
              "    [theme=dark] .colab-df-convert:hover {\n",
              "      background-color: #434B5C;\n",
              "      box-shadow: 0px 1px 3px 1px rgba(0, 0, 0, 0.15);\n",
              "      filter: drop-shadow(0px 1px 2px rgba(0, 0, 0, 0.3));\n",
              "      fill: #FFFFFF;\n",
              "    }\n",
              "  </style>\n",
              "\n",
              "    <script>\n",
              "      const buttonEl =\n",
              "        document.querySelector('#df-1be8eb3a-44e1-4fbd-a667-89fd6e8858cd button.colab-df-convert');\n",
              "      buttonEl.style.display =\n",
              "        google.colab.kernel.accessAllowed ? 'block' : 'none';\n",
              "\n",
              "      async function convertToInteractive(key) {\n",
              "        const element = document.querySelector('#df-1be8eb3a-44e1-4fbd-a667-89fd6e8858cd');\n",
              "        const dataTable =\n",
              "          await google.colab.kernel.invokeFunction('convertToInteractive',\n",
              "                                                    [key], {});\n",
              "        if (!dataTable) return;\n",
              "\n",
              "        const docLinkHtml = 'Like what you see? Visit the ' +\n",
              "          '<a target=\"_blank\" href=https://colab.research.google.com/notebooks/data_table.ipynb>data table notebook</a>'\n",
              "          + ' to learn more about interactive tables.';\n",
              "        element.innerHTML = '';\n",
              "        dataTable['output_type'] = 'display_data';\n",
              "        await google.colab.output.renderOutput(dataTable, element);\n",
              "        const docLink = document.createElement('div');\n",
              "        docLink.innerHTML = docLinkHtml;\n",
              "        element.appendChild(docLink);\n",
              "      }\n",
              "    </script>\n",
              "  </div>\n",
              "\n",
              "\n",
              "<div id=\"df-da5b9900-4adc-485b-b2b6-5608973f8d4b\">\n",
              "  <button class=\"colab-df-quickchart\" onclick=\"quickchart('df-da5b9900-4adc-485b-b2b6-5608973f8d4b')\"\n",
              "            title=\"Suggest charts\"\n",
              "            style=\"display:none;\">\n",
              "\n",
              "<svg xmlns=\"http://www.w3.org/2000/svg\" height=\"24px\"viewBox=\"0 0 24 24\"\n",
              "     width=\"24px\">\n",
              "    <g>\n",
              "        <path d=\"M19 3H5c-1.1 0-2 .9-2 2v14c0 1.1.9 2 2 2h14c1.1 0 2-.9 2-2V5c0-1.1-.9-2-2-2zM9 17H7v-7h2v7zm4 0h-2V7h2v10zm4 0h-2v-4h2v4z\"/>\n",
              "    </g>\n",
              "</svg>\n",
              "  </button>\n",
              "\n",
              "<style>\n",
              "  .colab-df-quickchart {\n",
              "      --bg-color: #E8F0FE;\n",
              "      --fill-color: #1967D2;\n",
              "      --hover-bg-color: #E2EBFA;\n",
              "      --hover-fill-color: #174EA6;\n",
              "      --disabled-fill-color: #AAA;\n",
              "      --disabled-bg-color: #DDD;\n",
              "  }\n",
              "\n",
              "  [theme=dark] .colab-df-quickchart {\n",
              "      --bg-color: #3B4455;\n",
              "      --fill-color: #D2E3FC;\n",
              "      --hover-bg-color: #434B5C;\n",
              "      --hover-fill-color: #FFFFFF;\n",
              "      --disabled-bg-color: #3B4455;\n",
              "      --disabled-fill-color: #666;\n",
              "  }\n",
              "\n",
              "  .colab-df-quickchart {\n",
              "    background-color: var(--bg-color);\n",
              "    border: none;\n",
              "    border-radius: 50%;\n",
              "    cursor: pointer;\n",
              "    display: none;\n",
              "    fill: var(--fill-color);\n",
              "    height: 32px;\n",
              "    padding: 0;\n",
              "    width: 32px;\n",
              "  }\n",
              "\n",
              "  .colab-df-quickchart:hover {\n",
              "    background-color: var(--hover-bg-color);\n",
              "    box-shadow: 0 1px 2px rgba(60, 64, 67, 0.3), 0 1px 3px 1px rgba(60, 64, 67, 0.15);\n",
              "    fill: var(--button-hover-fill-color);\n",
              "  }\n",
              "\n",
              "  .colab-df-quickchart-complete:disabled,\n",
              "  .colab-df-quickchart-complete:disabled:hover {\n",
              "    background-color: var(--disabled-bg-color);\n",
              "    fill: var(--disabled-fill-color);\n",
              "    box-shadow: none;\n",
              "  }\n",
              "\n",
              "  .colab-df-spinner {\n",
              "    border: 2px solid var(--fill-color);\n",
              "    border-color: transparent;\n",
              "    border-bottom-color: var(--fill-color);\n",
              "    animation:\n",
              "      spin 1s steps(1) infinite;\n",
              "  }\n",
              "\n",
              "  @keyframes spin {\n",
              "    0% {\n",
              "      border-color: transparent;\n",
              "      border-bottom-color: var(--fill-color);\n",
              "      border-left-color: var(--fill-color);\n",
              "    }\n",
              "    20% {\n",
              "      border-color: transparent;\n",
              "      border-left-color: var(--fill-color);\n",
              "      border-top-color: var(--fill-color);\n",
              "    }\n",
              "    30% {\n",
              "      border-color: transparent;\n",
              "      border-left-color: var(--fill-color);\n",
              "      border-top-color: var(--fill-color);\n",
              "      border-right-color: var(--fill-color);\n",
              "    }\n",
              "    40% {\n",
              "      border-color: transparent;\n",
              "      border-right-color: var(--fill-color);\n",
              "      border-top-color: var(--fill-color);\n",
              "    }\n",
              "    60% {\n",
              "      border-color: transparent;\n",
              "      border-right-color: var(--fill-color);\n",
              "    }\n",
              "    80% {\n",
              "      border-color: transparent;\n",
              "      border-right-color: var(--fill-color);\n",
              "      border-bottom-color: var(--fill-color);\n",
              "    }\n",
              "    90% {\n",
              "      border-color: transparent;\n",
              "      border-bottom-color: var(--fill-color);\n",
              "    }\n",
              "  }\n",
              "</style>\n",
              "\n",
              "  <script>\n",
              "    async function quickchart(key) {\n",
              "      const quickchartButtonEl =\n",
              "        document.querySelector('#' + key + ' button');\n",
              "      quickchartButtonEl.disabled = true;  // To prevent multiple clicks.\n",
              "      quickchartButtonEl.classList.add('colab-df-spinner');\n",
              "      try {\n",
              "        const charts = await google.colab.kernel.invokeFunction(\n",
              "            'suggestCharts', [key], {});\n",
              "      } catch (error) {\n",
              "        console.error('Error during call to suggestCharts:', error);\n",
              "      }\n",
              "      quickchartButtonEl.classList.remove('colab-df-spinner');\n",
              "      quickchartButtonEl.classList.add('colab-df-quickchart-complete');\n",
              "    }\n",
              "    (() => {\n",
              "      let quickchartButtonEl =\n",
              "        document.querySelector('#df-da5b9900-4adc-485b-b2b6-5608973f8d4b button');\n",
              "      quickchartButtonEl.style.display =\n",
              "        google.colab.kernel.accessAllowed ? 'block' : 'none';\n",
              "    })();\n",
              "  </script>\n",
              "</div>\n",
              "\n",
              "  <div id=\"id_7a06b65e-686e-4a7e-b458-4f0d6bcb1d92\">\n",
              "    <style>\n",
              "      .colab-df-generate {\n",
              "        background-color: #E8F0FE;\n",
              "        border: none;\n",
              "        border-radius: 50%;\n",
              "        cursor: pointer;\n",
              "        display: none;\n",
              "        fill: #1967D2;\n",
              "        height: 32px;\n",
              "        padding: 0 0 0 0;\n",
              "        width: 32px;\n",
              "      }\n",
              "\n",
              "      .colab-df-generate:hover {\n",
              "        background-color: #E2EBFA;\n",
              "        box-shadow: 0px 1px 2px rgba(60, 64, 67, 0.3), 0px 1px 3px 1px rgba(60, 64, 67, 0.15);\n",
              "        fill: #174EA6;\n",
              "      }\n",
              "\n",
              "      [theme=dark] .colab-df-generate {\n",
              "        background-color: #3B4455;\n",
              "        fill: #D2E3FC;\n",
              "      }\n",
              "\n",
              "      [theme=dark] .colab-df-generate:hover {\n",
              "        background-color: #434B5C;\n",
              "        box-shadow: 0px 1px 3px 1px rgba(0, 0, 0, 0.15);\n",
              "        filter: drop-shadow(0px 1px 2px rgba(0, 0, 0, 0.3));\n",
              "        fill: #FFFFFF;\n",
              "      }\n",
              "    </style>\n",
              "    <button class=\"colab-df-generate\" onclick=\"generateWithVariable('df_stats')\"\n",
              "            title=\"Generate code using this dataframe.\"\n",
              "            style=\"display:none;\">\n",
              "\n",
              "  <svg xmlns=\"http://www.w3.org/2000/svg\" height=\"24px\"viewBox=\"0 0 24 24\"\n",
              "       width=\"24px\">\n",
              "    <path d=\"M7,19H8.4L18.45,9,17,7.55,7,17.6ZM5,21V16.75L18.45,3.32a2,2,0,0,1,2.83,0l1.4,1.43a1.91,1.91,0,0,1,.58,1.4,1.91,1.91,0,0,1-.58,1.4L9.25,21ZM18.45,9,17,7.55Zm-12,3A5.31,5.31,0,0,0,4.9,8.1,5.31,5.31,0,0,0,1,6.5,5.31,5.31,0,0,0,4.9,4.9,5.31,5.31,0,0,0,6.5,1,5.31,5.31,0,0,0,8.1,4.9,5.31,5.31,0,0,0,12,6.5,5.46,5.46,0,0,0,6.5,12Z\"/>\n",
              "  </svg>\n",
              "    </button>\n",
              "    <script>\n",
              "      (() => {\n",
              "      const buttonEl =\n",
              "        document.querySelector('#id_7a06b65e-686e-4a7e-b458-4f0d6bcb1d92 button.colab-df-generate');\n",
              "      buttonEl.style.display =\n",
              "        google.colab.kernel.accessAllowed ? 'block' : 'none';\n",
              "\n",
              "      buttonEl.onclick = () => {\n",
              "        google.colab.notebook.generateWithVariable('df_stats');\n",
              "      }\n",
              "      })();\n",
              "    </script>\n",
              "  </div>\n",
              "\n",
              "    </div>\n",
              "  </div>\n"
            ],
            "text/plain": [
              "       Training Loss  Valid. Loss  Valid. Accur. Training Time Validation Time\n",
              "epoch                                                                         \n",
              "1           0.060562     0.007068       0.938199       0:04:24         0:00:23\n",
              "2           0.004469     0.006793       0.943577       0:04:28         0:00:23"
            ]
          },
          "execution_count": 36,
          "metadata": {},
          "output_type": "execute_result"
        }
      ],
      "source": [
        "#table\n",
        "\n",
        "#pd.set_option('precision', 2)\n",
        "df_stats = pd.DataFrame(data=training_stats)\n",
        "\n",
        "# use epoch as row index\n",
        "df_stats = df_stats.set_index('epoch')\n",
        "\n",
        "# hack to force the column headers to wrap.\n",
        "#df = df.style.set_table_styles([dict(selector=\"th\",props=[('max-width', '70px')])])\n",
        "\n",
        "df_stats"
      ]
    },
    {
      "cell_type": "code",
      "execution_count": 37,
      "metadata": {
        "colab": {
          "base_uri": "https://localhost:8080/",
          "height": 592
        },
        "id": "P0P8oDdGtN3D",
        "outputId": "3ef69233-1e45-4b28-8484-6179505d93ff"
      },
      "outputs": [
        {
          "data": {
            "image/png": "[encoded data removed]",
            "text/plain": [
              "<Figure size 1200x600 with 1 Axes>"
            ]
          },
          "metadata": {},
          "output_type": "display_data"
        }
      ],
      "source": [
        "#plotting\n",
        "sns.set(style='darkgrid')\n",
        "sns.set(font_scale=1.5)\n",
        "plt.rcParams[\"figure.figsize\"] = (12,6)\n",
        "\n",
        "\n",
        "plt.plot(df_stats['Training Loss'], 'b-o', label=\"Training\")\n",
        "plt.plot(df_stats['Valid. Loss'], 'g-o', label=\"Validation\")\n",
        "\n",
        "plt.title(\"Training & Validation Loss\")\n",
        "plt.xlabel(\"Epoch\")\n",
        "plt.ylabel(\"Loss\")\n",
        "plt.legend()\n",
        "\n",
        "ls=[]\n",
        "for i in range(epochs):\n",
        "    ls.append(i+1)\n",
        "plt.xticks(ls)\n",
        "\n",
        "plt.show()"
      ]
    },
    {
      "cell_type": "markdown",
      "metadata": {
        "id": "zwhFV28PtN3F"
      },
      "source": [
        "# 6. Evaluation on test set"
      ]
    },
    {
      "cell_type": "code",
      "execution_count": 49,
      "metadata": {
        "colab": {
          "base_uri": "https://localhost:8080/"
        },
        "id": "V8hOtLTctN3F",
        "outputId": "d6fe20b3-d2e7-40bd-b878-a796123a93ce"
      },
      "outputs": [
        {
          "name": "stdout",
          "output_type": "stream",
          "text": [
            "\n",
            "\u001b[1mRunning Test...\u001b[0m\n",
            "  (Num examples =9786)\n",
            "  (Batch size = 8)\n",
            "\n",
            "   Test loss: 0.007797533414683303\n",
            "   F1-score: 0.826996\n",
            "   Accuracy: 0.951742\n",
            "   Test took: 0:02:55\n"
          ]
        },
        {
          "name": "stderr",
          "output_type": "stream",
          "text": [
            "/usr/local/lib/python3.10/dist-packages/seqeval/metrics/sequence_labeling.py:171: UserWarning: [SEP] seems not to be NE tag.\n",
            "  warnings.warn('{} seems not to be NE tag.'.format(chunk))\n"
          ]
        }
      ],
      "source": [
        "print(\"\")\n",
        "print('\\033[1m'+\"Running Test...\"+ '\\033[0m')\n",
        "t0 = time.time()\n",
        "\n",
        "y_test_true = []\n",
        "y_test_pred = []\n",
        "testdataset = []\n",
        "\n",
        "y_test_true_full = []\n",
        "y_test_pred_full = []\n",
        "testdataset_full = []\n",
        "\n",
        "model.eval()\n",
        "\n",
        "for step, batch in enumerate(test_dataloader):\n",
        "    batch = tuple(t.to(device) for t in batch)\n",
        "    input_ids, input_mask, label_ids = batch #same as we did in training loop but only 1 epoch now\n",
        "\n",
        "\n",
        "    with torch.no_grad(): #means we don't care about gradients and updating tensors\n",
        "        outputs = model(input_ids,\n",
        "        attention_mask=input_mask,labels=label_ids)\n",
        "        # For eval mode, the first result of outputs is logits (for training mode this was loss)\n",
        "#             logits = outputs[0]\n",
        "        loss, logits = outputs[:2]#  In context of deep learning the logits layer means the layer that feeds in to softmax (or other such normalization).\n",
        "\n",
        "    loss = loss.mean()\n",
        "    total_eval_loss += loss.item()\n",
        "\n",
        "\n",
        "    # Get NER predict result\n",
        "    logits = torch.argmax(F.log_softmax(logits,dim=2),dim=2)#feed logits into softmax and take the prediction that is maximal\n",
        "    logits = logits.detach().cpu().numpy()\n",
        "\n",
        "    # Get NER true result\n",
        "    label_ids = label_ids.to('cpu').numpy()\n",
        "\n",
        "    # Only predict the real word, mark=0, will not calculate\n",
        "    input_mask = input_mask.to('cpu').numpy()\n",
        "\n",
        "\n",
        "    # Compare the valuable predict result\n",
        "    for i,mask in enumerate(input_mask):\n",
        "        # Real one\n",
        "        temp_1 = []\n",
        "        # Predicted one\n",
        "        temp_2 = []\n",
        "        valtemp = []\n",
        "\n",
        "        temp_1_full = []\n",
        "        # Predicted one\n",
        "        temp_2_full = []\n",
        "        valtemp_full = []\n",
        "\n",
        "        for j, m in enumerate(mask):\n",
        "            # Mark=0, meaning its a pad word, dont compare\n",
        "            if m :\n",
        "                if tag2name[label_ids[i][j]] != \"X\" and tag2name[label_ids[i][j]] != \"[CLS]\" and tag2name[label_ids[i][j]] != \"[SEP]\" : # Exclude the X label\n",
        "                    temp_1.append(tag2name[label_ids[i][j]])\n",
        "                    temp_2.append(tag2name[logits[i][j]])\n",
        "                    valtemp.append(input_ids[i][j].item())\n",
        "\n",
        "                if tag2name[label_ids[i][j]] != \"[CLS]\" and tag2name[label_ids[i][j]] != \"[SEP]\" : # Exclude the X label\n",
        "                    temp_1_full.append(tag2name[label_ids[i][j]])\n",
        "                    temp_2_full.append(tag2name[logits[i][j]])\n",
        "                    valtemp_full.append(input_ids[i][j].item())\n",
        "\n",
        "            else:\n",
        "                break\n",
        "\n",
        "        #here are the two lists that contain true and pred labels.\n",
        "        y_test_true.append(temp_1)\n",
        "        y_test_pred.append(temp_2)\n",
        "        testdataset.append(valtemp)\n",
        "\n",
        "        y_test_true_full.append(temp_1_full)\n",
        "        y_test_pred_full.append(temp_2_full)\n",
        "        testdataset_full.append(valtemp_full)\n",
        "\n",
        "\n",
        "avg_test_loss = total_eval_loss / len(test_dataloader)\n",
        "test_time = format_time(time.time() - t0)\n",
        "\n",
        "print(\"  (Num examples ={})\".format(len(test_inputs)))\n",
        "print(\"  (Batch size = {})\\n\".format(batch_num))\n",
        "print(\"   Test loss: {}\".format(avg_test_loss))\n",
        "print(\"   F1-score: %f\"%(f1_score(y_test_true, y_test_pred)))\n",
        "print(\"   Accuracy: %f\"%(accuracy_score(y_test_true, y_test_pred)))\n",
        "print(\"   Test took: {:}\".format(test_time))\n",
        "\n"
      ]
    },
    {
      "cell_type": "code",
      "execution_count": 50,
      "metadata": {
        "colab": {
          "base_uri": "https://localhost:8080/"
        },
        "id": "S8zYiF5StN3H",
        "outputId": "f71a8cc5-fe1c-4620-d2d1-c6b8fc7a5381"
      },
      "outputs": [
        {
          "name": "stdout",
          "output_type": "stream",
          "text": [
            "              precision    recall  f1-score   support\n",
            "\n",
            "        SEP]       0.00      0.00      0.00         0\n",
            "           _       0.00      0.00      0.00         0\n",
            "     problem       0.80      0.85      0.83      4370\n",
            "        test       0.83      0.86      0.84      3056\n",
            "   treatment       0.80      0.85      0.82      3105\n",
            "\n",
            "   micro avg       0.80      0.85      0.83     10531\n",
            "   macro avg       0.49      0.51      0.50     10531\n",
            "weighted avg       0.81      0.85      0.83     10531\n",
            "\n"
          ]
        }
      ],
      "source": [
        "# classification report is meant for evaluation of tasks like NER (see doc)\n",
        "# difference between f1_score of scikit-learn and classification_report is that classification_report\n",
        "# merges B and I, resulting in lower f1\n",
        "report = classification_report(y_test_true, y_test_pred)\n",
        "print(report)\n"
      ]
    },
    {
      "cell_type": "code",
      "execution_count": null,
      "metadata": {
        "colab": {
          "base_uri": "https://localhost:8080/",
          "height": 356
        },
        "id": "K8M4yavb6Afn",
        "outputId": "8fcf404d-31ff-45b8-9db3-07d207ad9598"
      },
      "outputs": [
        {
          "ename": "ValueError",
          "evalue": "You appear to be using a legacy multi-label data representation. Sequence of sequences are no longer supported; use a binary array or sparse matrix instead - the MultiLabelBinarizer transformer can convert to this format.",
          "output_type": "error",
          "traceback": [
            "\u001b[0;31m---------------------------------------------------------------------------\u001b[0m",
            "\u001b[0;31mValueError\u001b[0m                                Traceback (most recent call last)",
            "\u001b[0;32m<ipython-input-102-c1334462f5a0>\u001b[0m in \u001b[0;36m<cell line: 2>\u001b[0;34m()\u001b[0m\n\u001b[1;32m      1\u001b[0m \u001b[0;32mfrom\u001b[0m \u001b[0msklearn\u001b[0m\u001b[0;34m.\u001b[0m\u001b[0mmetrics\u001b[0m \u001b[0;32mimport\u001b[0m \u001b[0maccuracy_score\u001b[0m\u001b[0;34m\u001b[0m\u001b[0;34m\u001b[0m\u001b[0m\n\u001b[0;32m----> 2\u001b[0;31m \u001b[0mprint\u001b[0m\u001b[0;34m(\u001b[0m\u001b[0maccuracy_score\u001b[0m\u001b[0;34m(\u001b[0m\u001b[0my_test_true\u001b[0m\u001b[0;34m,\u001b[0m \u001b[0my_test_pred\u001b[0m\u001b[0;34m)\u001b[0m\u001b[0;34m)\u001b[0m\u001b[0;34m\u001b[0m\u001b[0;34m\u001b[0m\u001b[0m\n\u001b[0m",
            "\u001b[0;32m/usr/local/lib/python3.10/dist-packages/sklearn/utils/_param_validation.py\u001b[0m in \u001b[0;36mwrapper\u001b[0;34m(*args, **kwargs)\u001b[0m\n\u001b[1;32m    190\u001b[0m \u001b[0;34m\u001b[0m\u001b[0m\n\u001b[1;32m    191\u001b[0m             \u001b[0;32mtry\u001b[0m\u001b[0;34m:\u001b[0m\u001b[0;34m\u001b[0m\u001b[0;34m\u001b[0m\u001b[0m\n\u001b[0;32m--> 192\u001b[0;31m                 \u001b[0;32mreturn\u001b[0m \u001b[0mfunc\u001b[0m\u001b[0;34m(\u001b[0m\u001b[0;34m*\u001b[0m\u001b[0margs\u001b[0m\u001b[0;34m,\u001b[0m \u001b[0;34m**\u001b[0m\u001b[0mkwargs\u001b[0m\u001b[0;34m)\u001b[0m\u001b[0;34m\u001b[0m\u001b[0;34m\u001b[0m\u001b[0m\n\u001b[0m\u001b[1;32m    193\u001b[0m             \u001b[0;32mexcept\u001b[0m \u001b[0mInvalidParameterError\u001b[0m \u001b[0;32mas\u001b[0m \u001b[0me\u001b[0m\u001b[0;34m:\u001b[0m\u001b[0;34m\u001b[0m\u001b[0;34m\u001b[0m\u001b[0m\n\u001b[1;32m    194\u001b[0m                 \u001b[0;31m# When the function is just a wrapper around an estimator, we allow\u001b[0m\u001b[0;34m\u001b[0m\u001b[0;34m\u001b[0m\u001b[0m\n",
            "\u001b[0;32m/usr/local/lib/python3.10/dist-packages/sklearn/metrics/_classification.py\u001b[0m in \u001b[0;36maccuracy_score\u001b[0;34m(y_true, y_pred, normalize, sample_weight)\u001b[0m\n\u001b[1;32m    219\u001b[0m \u001b[0;34m\u001b[0m\u001b[0m\n\u001b[1;32m    220\u001b[0m     \u001b[0;31m# Compute accuracy for each possible representation\u001b[0m\u001b[0;34m\u001b[0m\u001b[0;34m\u001b[0m\u001b[0m\n\u001b[0;32m--> 221\u001b[0;31m     \u001b[0my_type\u001b[0m\u001b[0;34m,\u001b[0m \u001b[0my_true\u001b[0m\u001b[0;34m,\u001b[0m \u001b[0my_pred\u001b[0m \u001b[0;34m=\u001b[0m \u001b[0m_check_targets\u001b[0m\u001b[0;34m(\u001b[0m\u001b[0my_true\u001b[0m\u001b[0;34m,\u001b[0m \u001b[0my_pred\u001b[0m\u001b[0;34m)\u001b[0m\u001b[0;34m\u001b[0m\u001b[0;34m\u001b[0m\u001b[0m\n\u001b[0m\u001b[1;32m    222\u001b[0m     \u001b[0mcheck_consistent_length\u001b[0m\u001b[0;34m(\u001b[0m\u001b[0my_true\u001b[0m\u001b[0;34m,\u001b[0m \u001b[0my_pred\u001b[0m\u001b[0;34m,\u001b[0m \u001b[0msample_weight\u001b[0m\u001b[0;34m)\u001b[0m\u001b[0;34m\u001b[0m\u001b[0;34m\u001b[0m\u001b[0m\n\u001b[1;32m    223\u001b[0m     \u001b[0;32mif\u001b[0m \u001b[0my_type\u001b[0m\u001b[0;34m.\u001b[0m\u001b[0mstartswith\u001b[0m\u001b[0;34m(\u001b[0m\u001b[0;34m\"multilabel\"\u001b[0m\u001b[0;34m)\u001b[0m\u001b[0;34m:\u001b[0m\u001b[0;34m\u001b[0m\u001b[0;34m\u001b[0m\u001b[0m\n",
            "\u001b[0;32m/usr/local/lib/python3.10/dist-packages/sklearn/metrics/_classification.py\u001b[0m in \u001b[0;36m_check_targets\u001b[0;34m(y_true, y_pred)\u001b[0m\n\u001b[1;32m     85\u001b[0m     \"\"\"\n\u001b[1;32m     86\u001b[0m     \u001b[0mcheck_consistent_length\u001b[0m\u001b[0;34m(\u001b[0m\u001b[0my_true\u001b[0m\u001b[0;34m,\u001b[0m \u001b[0my_pred\u001b[0m\u001b[0;34m)\u001b[0m\u001b[0;34m\u001b[0m\u001b[0;34m\u001b[0m\u001b[0m\n\u001b[0;32m---> 87\u001b[0;31m     \u001b[0mtype_true\u001b[0m \u001b[0;34m=\u001b[0m \u001b[0mtype_of_target\u001b[0m\u001b[0;34m(\u001b[0m\u001b[0my_true\u001b[0m\u001b[0;34m,\u001b[0m \u001b[0minput_name\u001b[0m\u001b[0;34m=\u001b[0m\u001b[0;34m\"y_true\"\u001b[0m\u001b[0;34m)\u001b[0m\u001b[0;34m\u001b[0m\u001b[0;34m\u001b[0m\u001b[0m\n\u001b[0m\u001b[1;32m     88\u001b[0m     \u001b[0mtype_pred\u001b[0m \u001b[0;34m=\u001b[0m \u001b[0mtype_of_target\u001b[0m\u001b[0;34m(\u001b[0m\u001b[0my_pred\u001b[0m\u001b[0;34m,\u001b[0m \u001b[0minput_name\u001b[0m\u001b[0;34m=\u001b[0m\u001b[0;34m\"y_pred\"\u001b[0m\u001b[0;34m)\u001b[0m\u001b[0;34m\u001b[0m\u001b[0;34m\u001b[0m\u001b[0m\n\u001b[1;32m     89\u001b[0m \u001b[0;34m\u001b[0m\u001b[0m\n",
            "\u001b[0;32m/usr/local/lib/python3.10/dist-packages/sklearn/utils/multiclass.py\u001b[0m in \u001b[0;36mtype_of_target\u001b[0;34m(y, input_name)\u001b[0m\n\u001b[1;32m    343\u001b[0m             \u001b[0;32mand\u001b[0m \u001b[0;32mnot\u001b[0m \u001b[0misinstance\u001b[0m\u001b[0;34m(\u001b[0m\u001b[0my\u001b[0m\u001b[0;34m[\u001b[0m\u001b[0;36m0\u001b[0m\u001b[0;34m]\u001b[0m\u001b[0;34m,\u001b[0m \u001b[0mstr\u001b[0m\u001b[0;34m)\u001b[0m\u001b[0;34m\u001b[0m\u001b[0;34m\u001b[0m\u001b[0m\n\u001b[1;32m    344\u001b[0m         ):\n\u001b[0;32m--> 345\u001b[0;31m             raise ValueError(\n\u001b[0m\u001b[1;32m    346\u001b[0m                 \u001b[0;34m\"You appear to be using a legacy multi-label data\"\u001b[0m\u001b[0;34m\u001b[0m\u001b[0;34m\u001b[0m\u001b[0m\n\u001b[1;32m    347\u001b[0m                 \u001b[0;34m\" representation. Sequence of sequences are no\"\u001b[0m\u001b[0;34m\u001b[0m\u001b[0;34m\u001b[0m\u001b[0m\n",
            "\u001b[0;31mValueError\u001b[0m: You appear to be using a legacy multi-label data representation. Sequence of sequences are no longer supported; use a binary array or sparse matrix instead - the MultiLabelBinarizer transformer can convert to this format."
          ]
        }
      ],
      "source": [
        "from sklearn.metrics import accuracy_score\n",
        "print(accuracy_score(y_test_true, y_test_pred))"
      ]
    },
    {
      "cell_type": "code",
      "execution_count": null,
      "metadata": {
        "colab": {
          "base_uri": "https://localhost:8080/",
          "height": 245
        },
        "id": "-g7jEDyz7pzG",
        "outputId": "63d36db6-3084-4e8e-ab2d-d4f8cbe79ac6"
      },
      "outputs": [
        {
          "ename": "TypeError",
          "evalue": "string indices must be integers",
          "output_type": "error",
          "traceback": [
            "\u001b[0;31m---------------------------------------------------------------------------\u001b[0m",
            "\u001b[0;31mTypeError\u001b[0m                                 Traceback (most recent call last)",
            "\u001b[0;32m<ipython-input-103-60678940c793>\u001b[0m in \u001b[0;36m<cell line: 1>\u001b[0;34m()\u001b[0m\n\u001b[0;32m----> 1\u001b[0;31m \u001b[0mtrue_positives\u001b[0m \u001b[0;34m=\u001b[0m \u001b[0mreport\u001b[0m\u001b[0;34m[\u001b[0m\u001b[0;34m'true_positives'\u001b[0m\u001b[0;34m]\u001b[0m\u001b[0;34m\u001b[0m\u001b[0;34m\u001b[0m\u001b[0m\n\u001b[0m\u001b[1;32m      2\u001b[0m \u001b[0;34m\u001b[0m\u001b[0m\n\u001b[1;32m      3\u001b[0m \u001b[0;31m# Create confusion matrix labels\u001b[0m\u001b[0;34m\u001b[0m\u001b[0;34m\u001b[0m\u001b[0m\n\u001b[1;32m      4\u001b[0m \u001b[0mlabels\u001b[0m \u001b[0;34m=\u001b[0m \u001b[0mlist\u001b[0m\u001b[0;34m(\u001b[0m\u001b[0mreport\u001b[0m\u001b[0;34m[\u001b[0m\u001b[0;34m'labels'\u001b[0m\u001b[0;34m]\u001b[0m\u001b[0;34m)\u001b[0m\u001b[0;34m\u001b[0m\u001b[0;34m\u001b[0m\u001b[0m\n\u001b[1;32m      5\u001b[0m \u001b[0;34m\u001b[0m\u001b[0m\n",
            "\u001b[0;31mTypeError\u001b[0m: string indices must be integers"
          ]
        }
      ],
      "source": [
        "true_positives = report['true_positives']\n",
        "\n",
        "# Create confusion matrix labels\n",
        "labels = list(report['labels'])\n",
        "\n",
        "# Initialize confusion matrix\n",
        "cm = np.zeros((len(labels), len(labels)))\n",
        "\n",
        "# Fill in true positives\n",
        "for i, label in enumerate(labels):\n",
        "    cm[i, i] = true_positives[label]\n",
        "\n",
        "# Calculate false positives and negatives\n",
        "for i in range(len(labels)):\n",
        "    for j in range(len(labels)):\n",
        "        if i != j:\n",
        "            cm[i, j] = sum(y_true[k] == labels[i] and y_pred[k] == labels[j] for k in range(len(y_true)))\n",
        "\n",
        "# Print the confusion matrix\n",
        "print(cm)"
      ]
    },
    {
      "cell_type": "markdown",
      "metadata": {
        "id": "xUiozQXetN3J"
      },
      "source": [
        "# 7. Predictions of test set - examples\n"
      ]
    },
    {
      "cell_type": "code",
      "execution_count": null,
      "metadata": {
        "colab": {
          "base_uri": "https://localhost:8080/"
        },
        "id": "hkKVwzc6tN3K",
        "outputId": "e123fb8d-3e9d-40a4-be12-7bdf66306de9"
      },
      "outputs": [
        {
          "data": {
            "text/plain": [
              "(4, 4, 4)"
            ]
          },
          "execution_count": 39,
          "metadata": {},
          "output_type": "execute_result"
        }
      ],
      "source": [
        "len(y_test_true[0]),len(y_test_pred[0]), len(testdataset[0])"
      ]
    },
    {
      "cell_type": "code",
      "execution_count": null,
      "metadata": {
        "id": "eT0kzFMetN3M"
      },
      "outputs": [],
      "source": [
        "text= [tokenizer.decode(test) for test in testdataset]\n",
        "tokenized_text_converted = [tokenizer.convert_ids_to_tokens(test) for test in testdataset]\n"
      ]
    },
    {
      "cell_type": "code",
      "execution_count": null,
      "metadata": {
        "id": "hsN-PEoxtN3N"
      },
      "outputs": [],
      "source": [
        "text_full= [tokenizer.decode(test) for test in testdataset_full]\n",
        "tokenized_text_converted_full = [tokenizer.convert_ids_to_tokens(test) for test in testdataset_full]\n"
      ]
    },
    {
      "cell_type": "code",
      "execution_count": null,
      "metadata": {
        "colab": {
          "base_uri": "https://localhost:8080/"
        },
        "id": "lOkv6SXOtN3P",
        "outputId": "7ddf2df0-d4b5-4a43-fec3-69959fcb5cd0"
      },
      "outputs": [
        {
          "name": "stdout",
          "output_type": "stream",
          "text": [
            "\n",
            "No observed abnormalities Admission Date :\n",
            "\u001b[1mLabels:      \u001b[0m ['O', 'B-problem', 'I-problem', 'O', 'O', 'O']\n",
            "\u001b[1mPredictions: \u001b[0m ['O', 'O', 'O', 'O', 'O', 'O']\n",
            "\n",
            "\n",
            "['No', 'observed', 'abnormal', '##ities', 'Ad', '##mission', 'Date', ':']\n"
          ]
        }
      ],
      "source": [
        "a = 2\n",
        "print( '\\n' + text_full[a])\n",
        "print('\\033[1m' + \"Labels:      \" + '\\033[0m', y_test_true[a])\n",
        "print('\\033[1m' + \"Predictions: \"+ '\\033[0m',y_test_pred[a])\n",
        "print('\\n')\n",
        "\n",
        "print(tokenized_text_converted_full[a])\n",
        "\n"
      ]
    },
    {
      "cell_type": "code",
      "execution_count": null,
      "metadata": {
        "colab": {
          "base_uri": "https://localhost:8080/"
        },
        "id": "yFFKZROBtN3R",
        "outputId": "2c3303b4-c89a-4a29-fed8-8e551d74c0cf"
      },
      "outputs": [
        {
          "name": "stdout",
          "output_type": "stream",
          "text": [
            "\n",
            "CC : Antonio M. Z. Eddings, M. D.\n",
            "\u001b[1mLabels:      \u001b[0m ['O', 'O', 'O', 'O', 'O', 'O', 'O', 'O']\n",
            "\u001b[1mPredictions: \u001b[0m ['O', 'O', 'O', 'O', 'O', 'O', 'O', 'O']\n",
            "\n",
            "\n",
            "['CC', ':', 'Antonio', 'M', '.', 'Z', '.', 'Ed', '##ding', '##s', ',', 'M', '.', 'D', '.']\n"
          ]
        }
      ],
      "source": [
        "a = 7\n",
        "print( '\\n' +text_full[a])\n",
        "print('\\033[1m' + \"Labels:      \" + '\\033[0m', y_test_true[a])\n",
        "print('\\033[1m' + \"Predictions: \"+ '\\033[0m',y_test_pred[a])\n",
        "print('\\n')\n",
        "\n",
        "print(tokenized_text_converted_full[a])\n"
      ]
    },
    {
      "cell_type": "code",
      "execution_count": null,
      "metadata": {
        "colab": {
          "base_uri": "https://localhost:8080/",
          "height": 245
        },
        "id": "VkzOWQMhtN3T",
        "outputId": "633e5c96-ad3c-4573-83ee-570e30b93c70"
      },
      "outputs": [
        {
          "ename": "IndexError",
          "evalue": "list index out of range",
          "output_type": "error",
          "traceback": [
            "\u001b[0;31m---------------------------------------------------------------------------\u001b[0m",
            "\u001b[0;31mIndexError\u001b[0m                                Traceback (most recent call last)",
            "\u001b[0;32m<ipython-input-44-5e54bf5e38d6>\u001b[0m in \u001b[0;36m<cell line: 2>\u001b[0;34m()\u001b[0m\n\u001b[1;32m      1\u001b[0m \u001b[0ma\u001b[0m \u001b[0;34m=\u001b[0m \u001b[0;36m11\u001b[0m\u001b[0;34m\u001b[0m\u001b[0;34m\u001b[0m\u001b[0m\n\u001b[0;32m----> 2\u001b[0;31m \u001b[0mprint\u001b[0m\u001b[0;34m(\u001b[0m \u001b[0;34m'\\n'\u001b[0m \u001b[0;34m+\u001b[0m\u001b[0mtext_full\u001b[0m\u001b[0;34m[\u001b[0m\u001b[0ma\u001b[0m\u001b[0;34m]\u001b[0m\u001b[0;34m)\u001b[0m\u001b[0;34m\u001b[0m\u001b[0;34m\u001b[0m\u001b[0m\n\u001b[0m\u001b[1;32m      3\u001b[0m \u001b[0mprint\u001b[0m\u001b[0;34m(\u001b[0m\u001b[0;34m'\\033[1m'\u001b[0m \u001b[0;34m+\u001b[0m \u001b[0;34m\"Labels:      \"\u001b[0m \u001b[0;34m+\u001b[0m \u001b[0;34m'\\033[0m'\u001b[0m\u001b[0;34m,\u001b[0m \u001b[0my_test_true\u001b[0m\u001b[0;34m[\u001b[0m\u001b[0ma\u001b[0m\u001b[0;34m]\u001b[0m\u001b[0;34m)\u001b[0m\u001b[0;34m\u001b[0m\u001b[0;34m\u001b[0m\u001b[0m\n\u001b[1;32m      4\u001b[0m \u001b[0mprint\u001b[0m\u001b[0;34m(\u001b[0m\u001b[0;34m'\\033[1m'\u001b[0m \u001b[0;34m+\u001b[0m \u001b[0;34m\"Predictions: \"\u001b[0m\u001b[0;34m+\u001b[0m \u001b[0;34m'\\033[0m'\u001b[0m\u001b[0;34m,\u001b[0m\u001b[0my_test_pred\u001b[0m\u001b[0;34m[\u001b[0m\u001b[0ma\u001b[0m\u001b[0;34m]\u001b[0m\u001b[0;34m)\u001b[0m\u001b[0;34m\u001b[0m\u001b[0;34m\u001b[0m\u001b[0m\n\u001b[1;32m      5\u001b[0m \u001b[0mprint\u001b[0m\u001b[0;34m(\u001b[0m\u001b[0;34m'\\n'\u001b[0m\u001b[0;34m)\u001b[0m\u001b[0;34m\u001b[0m\u001b[0;34m\u001b[0m\u001b[0m\n",
            "\u001b[0;31mIndexError\u001b[0m: list index out of range"
          ]
        }
      ],
      "source": [
        "a = 11\n",
        "print( '\\n' +text_full[a])\n",
        "print('\\033[1m' + \"Labels:      \" + '\\033[0m', y_test_true[a])\n",
        "print('\\033[1m' + \"Predictions: \"+ '\\033[0m',y_test_pred[a])\n",
        "print('\\n')\n",
        "\n",
        "print(tokenized_text_converted_full[a])\n"
      ]
    },
    {
      "cell_type": "code",
      "execution_count": null,
      "metadata": {
        "id": "LhloJWLotN3V"
      },
      "outputs": [],
      "source": [
        "a = 12\n",
        "print( '\\n' +text_full[a])\n",
        "print('\\033[1m' + \"Labels:      \" + '\\033[0m', y_test_true[a])\n",
        "print('\\033[1m' + \"Predictions: \"+ '\\033[0m',y_test_pred[a])\n",
        "print('\\n')\n",
        "\n",
        "print(tokenized_text_converted_full[a])\n",
        "\n"
      ]
    },
    {
      "cell_type": "code",
      "execution_count": null,
      "metadata": {
        "id": "E_UyQcattN3W"
      },
      "outputs": [],
      "source": [
        "a = 14\n",
        "print( '\\n' +text_full[a])\n",
        "print('\\033[1m' + \"Labels:      \" + '\\033[0m', y_test_true[a])\n",
        "print('\\033[1m' + \"Predictions: \"+ '\\033[0m',y_test_pred[a])\n",
        "print('\\n')\n",
        "\n",
        "print(tokenized_text_converted_full[a])\n"
      ]
    },
    {
      "cell_type": "code",
      "execution_count": null,
      "metadata": {
        "id": "w1dupjt9tN3Y"
      },
      "outputs": [],
      "source": [
        "a = 17\n",
        "print( '\\n' +text_full[a])\n",
        "print('\\033[1m' + \"Labels:      \" + '\\033[0m', y_test_true[a])\n",
        "print('\\033[1m' + \"Predictions: \"+ '\\033[0m',y_test_pred[a])\n",
        "print('\\n')\n",
        "\n",
        "print(tokenized_text_converted_full[a])\n"
      ]
    },
    {
      "cell_type": "code",
      "execution_count": null,
      "metadata": {
        "id": "-rzBb1AVtN3b"
      },
      "outputs": [],
      "source": [
        "a = 25\n",
        "print( '\\n' +text_full[a])\n",
        "print('\\033[1m' + \"Labels:      \" + '\\033[0m', y_test_true[a])\n",
        "print('\\033[1m' + \"Predictions: \"+ '\\033[0m',y_test_pred[a])\n",
        "print('\\n')\n",
        "\n",
        "print(tokenized_text_converted_full[a])\n"
      ]
    },
    {
      "cell_type": "code",
      "execution_count": null,
      "metadata": {
        "id": "qGY_Kfn2tN3f"
      },
      "outputs": [],
      "source": [
        "a = 37\n",
        "print( '\\n' +text_full[a])\n",
        "print('\\033[1m' + \"Labels:      \" + '\\033[0m', y_test_true[a])\n",
        "print('\\033[1m' + \"Predictions: \"+ '\\033[0m',y_test_pred[a])\n",
        "print('\\n')\n",
        "\n",
        "print(tokenized_text_converted_full[a])\n"
      ]
    },
    {
      "cell_type": "code",
      "execution_count": null,
      "metadata": {
        "id": "VNB7Ux-ytN3g"
      },
      "outputs": [],
      "source": [
        "# text = [tokenizer.convert_tokens_to_string(i) for i in tokenized_text_converted]\n"
      ]
    },
    {
      "cell_type": "code",
      "execution_count": null,
      "metadata": {
        "id": "goc1Y3DMtN3j"
      },
      "outputs": [],
      "source": [
        "for a in range(1,len(y_test_pred)):\n",
        "    print(tokenized_text_converted_full[a])"
      ]
    },
    {
      "cell_type": "code",
      "execution_count": null,
      "metadata": {
        "id": "q5NMsF47tN3k"
      },
      "outputs": [],
      "source": []
    },
    {
      "cell_type": "markdown",
      "metadata": {
        "id": "MNmgf7ZStN3l"
      },
      "source": [
        "# 9. Code snippets"
      ]
    },
    {
      "cell_type": "code",
      "execution_count": null,
      "metadata": {
        "id": "7gUmqq7qtN3m"
      },
      "outputs": [],
      "source": [
        "# flatten1 = list(itertools.chain(*y_true))\n",
        "# flatten2 = list(itertools.chain(*y_pred))\n",
        "# tagsforf1 = []\n",
        "# for tag in tags_vals[:-3]:\n",
        "#     if tag != 'O':\n",
        "#         tagsforf1.append(tag)"
      ]
    },
    {
      "cell_type": "code",
      "execution_count": null,
      "metadata": {
        "id": "K-a_BA26tN3o"
      },
      "outputs": [],
      "source": [
        "#https://datascience.stackexchange.com/questions/54907/model-cuda-in-pytorch\n",
        "# if n_gpu >1:\n",
        "#     model = torch.nn.DataParallel(model)\n",
        "# model.cuda(device='cuda:0')\n",
        "# model.to(torch.device('cuda:0'))"
      ]
    },
    {
      "cell_type": "code",
      "execution_count": null,
      "metadata": {
        "id": "UYZrWIa_tN3q"
      },
      "outputs": [],
      "source": [
        "# params = list(model.named_parameters())\n",
        "# print(len(params))\n",
        "# for p in params[0:201]:\n",
        "#     print(p[0], p[1].size())"
      ]
    },
    {
      "cell_type": "code",
      "execution_count": null,
      "metadata": {
        "id": "vuADEuKXtN3t"
      },
      "outputs": [],
      "source": [
        "# type(param_optimizer)\n",
        "# type(optimizer_grouped_parameters)\n",
        "# len(optimizer_grouped_parameters)\n",
        "\n",
        "# type(optimizer_grouped_parameters[0])\n",
        "\n",
        "# optimizer_grouped_parameters[1].keys()\n",
        "\n",
        "# optimizer_grouped_parameters[0]['weight_decay_rate']\n",
        "\n",
        "# optimizer_grouped_parameters[1]['weight_decay_rate']\n",
        "\n",
        "# optimizer_grouped_parameters[0]['betas']\n",
        "\n",
        "# optimizer_grouped_parameters[1]['betas']\n",
        "\n",
        "# optimizer_grouped_parameters[1]['weight_decay']\n",
        "\n",
        "# optimizer_grouped_parameters[1]['weight_decay']\n",
        "\n",
        "# optimizer_grouped_parameters[0]['correct_bias']\n",
        "\n",
        "# optimizer_grouped_parameters[1]['correct_bias']"
      ]
    },
    {
      "cell_type": "code",
      "execution_count": null,
      "metadata": {
        "id": "xvt7RGaptN3u"
      },
      "outputs": [],
      "source": [
        "# c =28\n",
        "# print(list(attention_masks[c]))\n",
        "# print(attention_masks_deprecated[c])\n",
        "# for i in range(1,150):\n",
        "#     if list(attention_masks[i]) != attention_masks_deprecated[i]:\n",
        "#         print(i)"
      ]
    },
    {
      "cell_type": "code",
      "execution_count": null,
      "metadata": {
        "id": "3Cq8qM_DtN3w"
      },
      "outputs": [],
      "source": [
        "# tokenized_texts[0]\n",
        "# tokenizer.tokenize(' '.join(sentences[0]))"
      ]
    },
    {
      "cell_type": "code",
      "execution_count": null,
      "metadata": {
        "id": "SRJrXzLetN3x"
      },
      "outputs": [],
      "source": [
        "# tokenizer.batch_encode_plus(sentences)['input_ids'][0]\n",
        "# tokenizer.decode(tokenizer.batch_encode_plus(sentences)['input_ids'][0])\n",
        "# tokenizer.decode(tokenizer.encode(' '.join(sentences[0])))\n",
        "# tokenizer.decode(tokenizer.encode(sentences[0]))\n",
        "# tokenizer.decode(tokenizer.encode('Diagnose revisie : ( Meerdere antwoorden mogelijk) Infectie'))"
      ]
    },
    {
      "cell_type": "code",
      "execution_count": null,
      "metadata": {
        "id": "H5_YgvBEtN3y"
      },
      "outputs": [],
      "source": []
    },
    {
      "cell_type": "code",
      "execution_count": null,
      "metadata": {
        "id": "B9lFnbi2tN3z"
      },
      "outputs": [],
      "source": [
        "# def getmaxlength():\n",
        "#     lowestcount =512\n",
        "#     lowestcountindex = 0\n",
        "#     for idx, onearray in enumerate(input_ids):\n",
        "#         count=0\n",
        "#         for number in reversed(onearray):\n",
        "#             if number ==0:\n",
        "#                 count += 1\n",
        "#             else:\n",
        "#                 if count < lowestcount:\n",
        "#                     lowestcount = count\n",
        "#                     lowestcountindex = idx\n",
        "#                 break\n",
        "\n",
        "#     maxlength = len(tokenized_texts[lowestcountindex])\n",
        "#     return maxlength"
      ]
    },
    {
      "cell_type": "code",
      "execution_count": null,
      "metadata": {
        "id": "2RoiGdte0AAG"
      },
      "outputs": [],
      "source": []
    }
  ],
  "metadata": {
    "accelerator": "GPU",
    "colab": {
      "collapsed_sections": [
        "eSVWttO1tN2B",
        "c28hX8JvtN2T",
        "VGw2FXm_tN2j",
        "JlYJo9GjtN2p",
        "TY5SteO8tN2y",
        "60scGHFhtN26",
        "zwhFV28PtN3F",
        "xUiozQXetN3J",
        "MNmgf7ZStN3l"
      ],
      "provenance": []
    },
    "kernelspec": {
      "display_name": "Python 3",
      "name": "python3"
    },
    "widgets": {
      "application/vnd.jupyter.widget-state+json": {
        "010e6431b1a94e81bc94cd9016a2ce52": {
          "model_module": "@jupyter-widgets/controls",
          "model_module_version": "1.5.0",
          "model_name": "DescriptionStyleModel",
          "state": {
            "_model_module": "@jupyter-widgets/controls",
            "_model_module_version": "1.5.0",
            "_model_name": "DescriptionStyleModel",
            "_view_count": null,
            "_view_module": "@jupyter-widgets/base",
            "_view_module_version": "1.2.0",
            "_view_name": "StyleView",
            "description_width": ""
          }
        },
        "01e6bfc13dd44c118e35bbde7c5b1e75": {
          "model_module": "@jupyter-widgets/controls",
          "model_module_version": "1.5.0",
          "model_name": "FloatProgressModel",
          "state": {
            "_dom_classes": [],
            "_model_module": "@jupyter-widgets/controls",
            "_model_module_version": "1.5.0",
            "_model_name": "FloatProgressModel",
            "_view_count": null,
            "_view_module": "@jupyter-widgets/controls",
            "_view_module_version": "1.5.0",
            "_view_name": "ProgressView",
            "bar_style": "success",
            "description": "",
            "description_tooltip": null,
            "layout": "IPY_MODEL_187a14986b7e4d9b8baf07e425011eb4",
            "max": 125,
            "min": 0,
            "orientation": "horizontal",
            "style": "IPY_MODEL_1640bed5cba24a4f9e3265bb7dc12098",
            "value": 125
          }
        },
        "02d5ff88a47d4a12b9eb1f724d2922ff": {
          "model_module": "@jupyter-widgets/base",
          "model_module_version": "1.2.0",
          "model_name": "LayoutModel",
          "state": {
            "_model_module": "@jupyter-widgets/base",
            "_model_module_version": "1.2.0",
            "_model_name": "LayoutModel",
            "_view_count": null,
            "_view_module": "@jupyter-widgets/base",
            "_view_module_version": "1.2.0",
            "_view_name": "LayoutView",
            "align_content": null,
            "align_items": null,
            "align_self": null,
            "border": null,
            "bottom": null,
            "display": null,
            "flex": null,
            "flex_flow": null,
            "grid_area": null,
            "grid_auto_columns": null,
            "grid_auto_flow": null,
            "grid_auto_rows": null,
            "grid_column": null,
            "grid_gap": null,
            "grid_row": null,
            "grid_template_areas": null,
            "grid_template_columns": null,
            "grid_template_rows": null,
            "height": null,
            "justify_content": null,
            "justify_items": null,
            "left": null,
            "margin": null,
            "max_height": null,
            "max_width": null,
            "min_height": null,
            "min_width": null,
            "object_fit": null,
            "object_position": null,
            "order": null,
            "overflow": null,
            "overflow_x": null,
            "overflow_y": null,
            "padding": null,
            "right": null,
            "top": null,
            "visibility": null,
            "width": null
          }
        },
        "0c407b8e97dd4552947efe2fefee4cf8": {
          "model_module": "@jupyter-widgets/controls",
          "model_module_version": "1.5.0",
          "model_name": "DescriptionStyleModel",
          "state": {
            "_model_module": "@jupyter-widgets/controls",
            "_model_module_version": "1.5.0",
            "_model_name": "DescriptionStyleModel",
            "_view_count": null,
            "_view_module": "@jupyter-widgets/base",
            "_view_module_version": "1.2.0",
            "_view_name": "StyleView",
            "description_width": ""
          }
        },
        "11241991af074fef84cf9e5c2dd50922": {
          "model_module": "@jupyter-widgets/controls",
          "model_module_version": "1.5.0",
          "model_name": "DescriptionStyleModel",
          "state": {
            "_model_module": "@jupyter-widgets/controls",
            "_model_module_version": "1.5.0",
            "_model_name": "DescriptionStyleModel",
            "_view_count": null,
            "_view_module": "@jupyter-widgets/base",
            "_view_module_version": "1.2.0",
            "_view_name": "StyleView",
            "description_width": ""
          }
        },
        "1569c65803124867b5d939aee92182a7": {
          "model_module": "@jupyter-widgets/base",
          "model_module_version": "1.2.0",
          "model_name": "LayoutModel",
          "state": {
            "_model_module": "@jupyter-widgets/base",
            "_model_module_version": "1.2.0",
            "_model_name": "LayoutModel",
            "_view_count": null,
            "_view_module": "@jupyter-widgets/base",
            "_view_module_version": "1.2.0",
            "_view_name": "LayoutView",
            "align_content": null,
            "align_items": null,
            "align_self": null,
            "border": null,
            "bottom": null,
            "display": null,
            "flex": null,
            "flex_flow": null,
            "grid_area": null,
            "grid_auto_columns": null,
            "grid_auto_flow": null,
            "grid_auto_rows": null,
            "grid_column": null,
            "grid_gap": null,
            "grid_row": null,
            "grid_template_areas": null,
            "grid_template_columns": null,
            "grid_template_rows": null,
            "height": null,
            "justify_content": null,
            "justify_items": null,
            "left": null,
            "margin": null,
            "max_height": null,
            "max_width": null,
            "min_height": null,
            "min_width": null,
            "object_fit": null,
            "object_position": null,
            "order": null,
            "overflow": null,
            "overflow_x": null,
            "overflow_y": null,
            "padding": null,
            "right": null,
            "top": null,
            "visibility": null,
            "width": null
          }
        },
        "1640bed5cba24a4f9e3265bb7dc12098": {
          "model_module": "@jupyter-widgets/controls",
          "model_module_version": "1.5.0",
          "model_name": "ProgressStyleModel",
          "state": {
            "_model_module": "@jupyter-widgets/controls",
            "_model_module_version": "1.5.0",
            "_model_name": "ProgressStyleModel",
            "_view_count": null,
            "_view_module": "@jupyter-widgets/base",
            "_view_module_version": "1.2.0",
            "_view_name": "StyleView",
            "bar_color": null,
            "description_width": ""
          }
        },
        "187a14986b7e4d9b8baf07e425011eb4": {
          "model_module": "@jupyter-widgets/base",
          "model_module_version": "1.2.0",
          "model_name": "LayoutModel",
          "state": {
            "_model_module": "@jupyter-widgets/base",
            "_model_module_version": "1.2.0",
            "_model_name": "LayoutModel",
            "_view_count": null,
            "_view_module": "@jupyter-widgets/base",
            "_view_module_version": "1.2.0",
            "_view_name": "LayoutView",
            "align_content": null,
            "align_items": null,
            "align_self": null,
            "border": null,
            "bottom": null,
            "display": null,
            "flex": null,
            "flex_flow": null,
            "grid_area": null,
            "grid_auto_columns": null,
            "grid_auto_flow": null,
            "grid_auto_rows": null,
            "grid_column": null,
            "grid_gap": null,
            "grid_row": null,
            "grid_template_areas": null,
            "grid_template_columns": null,
            "grid_template_rows": null,
            "height": null,
            "justify_content": null,
            "justify_items": null,
            "left": null,
            "margin": null,
            "max_height": null,
            "max_width": null,
            "min_height": null,
            "min_width": null,
            "object_fit": null,
            "object_position": null,
            "order": null,
            "overflow": null,
            "overflow_x": null,
            "overflow_y": null,
            "padding": null,
            "right": null,
            "top": null,
            "visibility": null,
            "width": null
          }
        },
        "18e98c62134d4d4d830a1b9d2fa1f25d": {
          "model_module": "@jupyter-widgets/base",
          "model_module_version": "1.2.0",
          "model_name": "LayoutModel",
          "state": {
            "_model_module": "@jupyter-widgets/base",
            "_model_module_version": "1.2.0",
            "_model_name": "LayoutModel",
            "_view_count": null,
            "_view_module": "@jupyter-widgets/base",
            "_view_module_version": "1.2.0",
            "_view_name": "LayoutView",
            "align_content": null,
            "align_items": null,
            "align_self": null,
            "border": null,
            "bottom": null,
            "display": null,
            "flex": null,
            "flex_flow": null,
            "grid_area": null,
            "grid_auto_columns": null,
            "grid_auto_flow": null,
            "grid_auto_rows": null,
            "grid_column": null,
            "grid_gap": null,
            "grid_row": null,
            "grid_template_areas": null,
            "grid_template_columns": null,
            "grid_template_rows": null,
            "height": null,
            "justify_content": null,
            "justify_items": null,
            "left": null,
            "margin": null,
            "max_height": null,
            "max_width": null,
            "min_height": null,
            "min_width": null,
            "object_fit": null,
            "object_position": null,
            "order": null,
            "overflow": null,
            "overflow_x": null,
            "overflow_y": null,
            "padding": null,
            "right": null,
            "top": null,
            "visibility": null,
            "width": null
          }
        },
        "27b6cff4f09f4f1791aaffdbfde17a62": {
          "model_module": "@jupyter-widgets/base",
          "model_module_version": "1.2.0",
          "model_name": "LayoutModel",
          "state": {
            "_model_module": "@jupyter-widgets/base",
            "_model_module_version": "1.2.0",
            "_model_name": "LayoutModel",
            "_view_count": null,
            "_view_module": "@jupyter-widgets/base",
            "_view_module_version": "1.2.0",
            "_view_name": "LayoutView",
            "align_content": null,
            "align_items": null,
            "align_self": null,
            "border": null,
            "bottom": null,
            "display": null,
            "flex": null,
            "flex_flow": null,
            "grid_area": null,
            "grid_auto_columns": null,
            "grid_auto_flow": null,
            "grid_auto_rows": null,
            "grid_column": null,
            "grid_gap": null,
            "grid_row": null,
            "grid_template_areas": null,
            "grid_template_columns": null,
            "grid_template_rows": null,
            "height": null,
            "justify_content": null,
            "justify_items": null,
            "left": null,
            "margin": null,
            "max_height": null,
            "max_width": null,
            "min_height": null,
            "min_width": null,
            "object_fit": null,
            "object_position": null,
            "order": null,
            "overflow": null,
            "overflow_x": null,
            "overflow_y": null,
            "padding": null,
            "right": null,
            "top": null,
            "visibility": null,
            "width": null
          }
        },
        "346cd768a7a14646b06d112d21443f4d": {
          "model_module": "@jupyter-widgets/controls",
          "model_module_version": "1.5.0",
          "model_name": "HBoxModel",
          "state": {
            "_dom_classes": [],
            "_model_module": "@jupyter-widgets/controls",
            "_model_module_version": "1.5.0",
            "_model_name": "HBoxModel",
            "_view_count": null,
            "_view_module": "@jupyter-widgets/controls",
            "_view_module_version": "1.5.0",
            "_view_name": "HBoxView",
            "box_style": "",
            "children": [
              "IPY_MODEL_9344cb58b7aa4d1aa670053ee325c535",
              "IPY_MODEL_4cc190fdf0e54944b7ba48cb751807c5",
              "IPY_MODEL_e3360d4afcf842a3a431286311895da5"
            ],
            "layout": "IPY_MODEL_48444b41c8b446658e09764f9995b03d"
          }
        },
        "354ad7280f1240eeac16df866dc5d698": {
          "model_module": "@jupyter-widgets/base",
          "model_module_version": "1.2.0",
          "model_name": "LayoutModel",
          "state": {
            "_model_module": "@jupyter-widgets/base",
            "_model_module_version": "1.2.0",
            "_model_name": "LayoutModel",
            "_view_count": null,
            "_view_module": "@jupyter-widgets/base",
            "_view_module_version": "1.2.0",
            "_view_name": "LayoutView",
            "align_content": null,
            "align_items": null,
            "align_self": null,
            "border": null,
            "bottom": null,
            "display": null,
            "flex": null,
            "flex_flow": null,
            "grid_area": null,
            "grid_auto_columns": null,
            "grid_auto_flow": null,
            "grid_auto_rows": null,
            "grid_column": null,
            "grid_gap": null,
            "grid_row": null,
            "grid_template_areas": null,
            "grid_template_columns": null,
            "grid_template_rows": null,
            "height": null,
            "justify_content": null,
            "justify_items": null,
            "left": null,
            "margin": null,
            "max_height": null,
            "max_width": null,
            "min_height": null,
            "min_width": null,
            "object_fit": null,
            "object_position": null,
            "order": null,
            "overflow": null,
            "overflow_x": null,
            "overflow_y": null,
            "padding": null,
            "right": null,
            "top": null,
            "visibility": null,
            "width": null
          }
        },
        "37a9f1fe166b4985accbdeea8efa444f": {
          "model_module": "@jupyter-widgets/controls",
          "model_module_version": "1.5.0",
          "model_name": "HTMLModel",
          "state": {
            "_dom_classes": [],
            "_model_module": "@jupyter-widgets/controls",
            "_model_module_version": "1.5.0",
            "_model_name": "HTMLModel",
            "_view_count": null,
            "_view_module": "@jupyter-widgets/controls",
            "_view_module_version": "1.5.0",
            "_view_name": "HTMLView",
            "description": "",
            "description_tooltip": null,
            "layout": "IPY_MODEL_4c2ad9bf0d7f4d27bc12d2a0c4538817",
            "placeholder": "​",
            "style": "IPY_MODEL_11241991af074fef84cf9e5c2dd50922",
            "value": " 5.00k/5.00k [00:00&lt;00:00, 114kB/s]"
          }
        },
        "39ee4ece5f6d42ab9c423c5e766885e4": {
          "model_module": "@jupyter-widgets/controls",
          "model_module_version": "1.5.0",
          "model_name": "DescriptionStyleModel",
          "state": {
            "_model_module": "@jupyter-widgets/controls",
            "_model_module_version": "1.5.0",
            "_model_name": "DescriptionStyleModel",
            "_view_count": null,
            "_view_module": "@jupyter-widgets/base",
            "_view_module_version": "1.2.0",
            "_view_name": "StyleView",
            "description_width": ""
          }
        },
        "3ac8fb9e88a24dc9a4360d619c42fd55": {
          "model_module": "@jupyter-widgets/controls",
          "model_module_version": "1.5.0",
          "model_name": "HBoxModel",
          "state": {
            "_dom_classes": [],
            "_model_module": "@jupyter-widgets/controls",
            "_model_module_version": "1.5.0",
            "_model_name": "HBoxModel",
            "_view_count": null,
            "_view_module": "@jupyter-widgets/controls",
            "_view_module_version": "1.5.0",
            "_view_name": "HBoxView",
            "box_style": "",
            "children": [
              "IPY_MODEL_dbd0847faee04cfba2958155d3706334",
              "IPY_MODEL_db1d90739f3d4b0c929dad2e73755408",
              "IPY_MODEL_37a9f1fe166b4985accbdeea8efa444f"
            ],
            "layout": "IPY_MODEL_ba0bdd1632424c34b15332e3e8b6e168"
          }
        },
        "3f3bbf4e768e438d82c4a0bbe7534eec": {
          "model_module": "@jupyter-widgets/controls",
          "model_module_version": "1.5.0",
          "model_name": "DescriptionStyleModel",
          "state": {
            "_model_module": "@jupyter-widgets/controls",
            "_model_module_version": "1.5.0",
            "_model_name": "DescriptionStyleModel",
            "_view_count": null,
            "_view_module": "@jupyter-widgets/base",
            "_view_module_version": "1.2.0",
            "_view_name": "StyleView",
            "description_width": ""
          }
        },
        "45c6c73174594757b39608620c0b1a2b": {
          "model_module": "@jupyter-widgets/controls",
          "model_module_version": "1.5.0",
          "model_name": "HTMLModel",
          "state": {
            "_dom_classes": [],
            "_model_module": "@jupyter-widgets/controls",
            "_model_module_version": "1.5.0",
            "_model_name": "HTMLModel",
            "_view_count": null,
            "_view_module": "@jupyter-widgets/controls",
            "_view_module_version": "1.5.0",
            "_view_name": "HTMLView",
            "description": "",
            "description_tooltip": null,
            "layout": "IPY_MODEL_93129167ccd24e25a247d7a63b364f1e",
            "placeholder": "​",
            "style": "IPY_MODEL_0c407b8e97dd4552947efe2fefee4cf8",
            "value": " 373/373 [00:00&lt;00:00, 25.3kB/s]"
          }
        },
        "48444b41c8b446658e09764f9995b03d": {
          "model_module": "@jupyter-widgets/base",
          "model_module_version": "1.2.0",
          "model_name": "LayoutModel",
          "state": {
            "_model_module": "@jupyter-widgets/base",
            "_model_module_version": "1.2.0",
            "_model_name": "LayoutModel",
            "_view_count": null,
            "_view_module": "@jupyter-widgets/base",
            "_view_module_version": "1.2.0",
            "_view_name": "LayoutView",
            "align_content": null,
            "align_items": null,
            "align_self": null,
            "border": null,
            "bottom": null,
            "display": null,
            "flex": null,
            "flex_flow": null,
            "grid_area": null,
            "grid_auto_columns": null,
            "grid_auto_flow": null,
            "grid_auto_rows": null,
            "grid_column": null,
            "grid_gap": null,
            "grid_row": null,
            "grid_template_areas": null,
            "grid_template_columns": null,
            "grid_template_rows": null,
            "height": null,
            "justify_content": null,
            "justify_items": null,
            "left": null,
            "margin": null,
            "max_height": null,
            "max_width": null,
            "min_height": null,
            "min_width": null,
            "object_fit": null,
            "object_position": null,
            "order": null,
            "overflow": null,
            "overflow_x": null,
            "overflow_y": null,
            "padding": null,
            "right": null,
            "top": null,
            "visibility": null,
            "width": null
          }
        },
        "4b6d8cbd6f63469193b2cb22721a2475": {
          "model_module": "@jupyter-widgets/base",
          "model_module_version": "1.2.0",
          "model_name": "LayoutModel",
          "state": {
            "_model_module": "@jupyter-widgets/base",
            "_model_module_version": "1.2.0",
            "_model_name": "LayoutModel",
            "_view_count": null,
            "_view_module": "@jupyter-widgets/base",
            "_view_module_version": "1.2.0",
            "_view_name": "LayoutView",
            "align_content": null,
            "align_items": null,
            "align_self": null,
            "border": null,
            "bottom": null,
            "display": null,
            "flex": null,
            "flex_flow": null,
            "grid_area": null,
            "grid_auto_columns": null,
            "grid_auto_flow": null,
            "grid_auto_rows": null,
            "grid_column": null,
            "grid_gap": null,
            "grid_row": null,
            "grid_template_areas": null,
            "grid_template_columns": null,
            "grid_template_rows": null,
            "height": null,
            "justify_content": null,
            "justify_items": null,
            "left": null,
            "margin": null,
            "max_height": null,
            "max_width": null,
            "min_height": null,
            "min_width": null,
            "object_fit": null,
            "object_position": null,
            "order": null,
            "overflow": null,
            "overflow_x": null,
            "overflow_y": null,
            "padding": null,
            "right": null,
            "top": null,
            "visibility": null,
            "width": null
          }
        },
        "4c2ad9bf0d7f4d27bc12d2a0c4538817": {
          "model_module": "@jupyter-widgets/base",
          "model_module_version": "1.2.0",
          "model_name": "LayoutModel",
          "state": {
            "_model_module": "@jupyter-widgets/base",
            "_model_module_version": "1.2.0",
            "_model_name": "LayoutModel",
            "_view_count": null,
            "_view_module": "@jupyter-widgets/base",
            "_view_module_version": "1.2.0",
            "_view_name": "LayoutView",
            "align_content": null,
            "align_items": null,
            "align_self": null,
            "border": null,
            "bottom": null,
            "display": null,
            "flex": null,
            "flex_flow": null,
            "grid_area": null,
            "grid_auto_columns": null,
            "grid_auto_flow": null,
            "grid_auto_rows": null,
            "grid_column": null,
            "grid_gap": null,
            "grid_row": null,
            "grid_template_areas": null,
            "grid_template_columns": null,
            "grid_template_rows": null,
            "height": null,
            "justify_content": null,
            "justify_items": null,
            "left": null,
            "margin": null,
            "max_height": null,
            "max_width": null,
            "min_height": null,
            "min_width": null,
            "object_fit": null,
            "object_position": null,
            "order": null,
            "overflow": null,
            "overflow_x": null,
            "overflow_y": null,
            "padding": null,
            "right": null,
            "top": null,
            "visibility": null,
            "width": null
          }
        },
        "4cc190fdf0e54944b7ba48cb751807c5": {
          "model_module": "@jupyter-widgets/controls",
          "model_module_version": "1.5.0",
          "model_name": "FloatProgressModel",
          "state": {
            "_dom_classes": [],
            "_model_module": "@jupyter-widgets/controls",
            "_model_module_version": "1.5.0",
            "_model_name": "FloatProgressModel",
            "_view_count": null,
            "_view_module": "@jupyter-widgets/controls",
            "_view_module_version": "1.5.0",
            "_view_name": "ProgressView",
            "bar_style": "success",
            "description": "",
            "description_tooltip": null,
            "layout": "IPY_MODEL_c47a4a5afaa7452bac27d180e71f977d",
            "max": 711494,
            "min": 0,
            "orientation": "horizontal",
            "style": "IPY_MODEL_f897f1a8852c46daae584d7ad13dde20",
            "value": 711494
          }
        },
        "5344e8a3f6d842ab9d7ec72b5d69889a": {
          "model_module": "@jupyter-widgets/controls",
          "model_module_version": "1.5.0",
          "model_name": "HTMLModel",
          "state": {
            "_dom_classes": [],
            "_model_module": "@jupyter-widgets/controls",
            "_model_module_version": "1.5.0",
            "_model_name": "HTMLModel",
            "_view_count": null,
            "_view_module": "@jupyter-widgets/controls",
            "_view_module_version": "1.5.0",
            "_view_name": "HTMLView",
            "description": "",
            "description_tooltip": null,
            "layout": "IPY_MODEL_cb87faebc4104827bb28f2d6eb0b2ddd",
            "placeholder": "​",
            "style": "IPY_MODEL_39ee4ece5f6d42ab9c423c5e766885e4",
            "value": " 125/125 [00:00&lt;00:00, 1.52kB/s]"
          }
        },
        "5d0a9dd84b04485ba132f6c70204754d": {
          "model_module": "@jupyter-widgets/controls",
          "model_module_version": "1.5.0",
          "model_name": "ProgressStyleModel",
          "state": {
            "_model_module": "@jupyter-widgets/controls",
            "_model_module_version": "1.5.0",
            "_model_name": "ProgressStyleModel",
            "_view_count": null,
            "_view_module": "@jupyter-widgets/base",
            "_view_module_version": "1.2.0",
            "_view_name": "StyleView",
            "bar_color": null,
            "description_width": ""
          }
        },
        "5d26d13c7814428caaad7cbbdc4a5ff1": {
          "model_module": "@jupyter-widgets/base",
          "model_module_version": "1.2.0",
          "model_name": "LayoutModel",
          "state": {
            "_model_module": "@jupyter-widgets/base",
            "_model_module_version": "1.2.0",
            "_model_name": "LayoutModel",
            "_view_count": null,
            "_view_module": "@jupyter-widgets/base",
            "_view_module_version": "1.2.0",
            "_view_name": "LayoutView",
            "align_content": null,
            "align_items": null,
            "align_self": null,
            "border": null,
            "bottom": null,
            "display": null,
            "flex": null,
            "flex_flow": null,
            "grid_area": null,
            "grid_auto_columns": null,
            "grid_auto_flow": null,
            "grid_auto_rows": null,
            "grid_column": null,
            "grid_gap": null,
            "grid_row": null,
            "grid_template_areas": null,
            "grid_template_columns": null,
            "grid_template_rows": null,
            "height": null,
            "justify_content": null,
            "justify_items": null,
            "left": null,
            "margin": null,
            "max_height": null,
            "max_width": null,
            "min_height": null,
            "min_width": null,
            "object_fit": null,
            "object_position": null,
            "order": null,
            "overflow": null,
            "overflow_x": null,
            "overflow_y": null,
            "padding": null,
            "right": null,
            "top": null,
            "visibility": null,
            "width": null
          }
        },
        "643d6b5d7b034090b7b62f1c831f2f22": {
          "model_module": "@jupyter-widgets/base",
          "model_module_version": "1.2.0",
          "model_name": "LayoutModel",
          "state": {
            "_model_module": "@jupyter-widgets/base",
            "_model_module_version": "1.2.0",
            "_model_name": "LayoutModel",
            "_view_count": null,
            "_view_module": "@jupyter-widgets/base",
            "_view_module_version": "1.2.0",
            "_view_name": "LayoutView",
            "align_content": null,
            "align_items": null,
            "align_self": null,
            "border": null,
            "bottom": null,
            "display": null,
            "flex": null,
            "flex_flow": null,
            "grid_area": null,
            "grid_auto_columns": null,
            "grid_auto_flow": null,
            "grid_auto_rows": null,
            "grid_column": null,
            "grid_gap": null,
            "grid_row": null,
            "grid_template_areas": null,
            "grid_template_columns": null,
            "grid_template_rows": null,
            "height": null,
            "justify_content": null,
            "justify_items": null,
            "left": null,
            "margin": null,
            "max_height": null,
            "max_width": null,
            "min_height": null,
            "min_width": null,
            "object_fit": null,
            "object_position": null,
            "order": null,
            "overflow": null,
            "overflow_x": null,
            "overflow_y": null,
            "padding": null,
            "right": null,
            "top": null,
            "visibility": null,
            "width": null
          }
        },
        "648c6b8f8c05483e8002fbf5d755740d": {
          "model_module": "@jupyter-widgets/base",
          "model_module_version": "1.2.0",
          "model_name": "LayoutModel",
          "state": {
            "_model_module": "@jupyter-widgets/base",
            "_model_module_version": "1.2.0",
            "_model_name": "LayoutModel",
            "_view_count": null,
            "_view_module": "@jupyter-widgets/base",
            "_view_module_version": "1.2.0",
            "_view_name": "LayoutView",
            "align_content": null,
            "align_items": null,
            "align_self": null,
            "border": null,
            "bottom": null,
            "display": null,
            "flex": null,
            "flex_flow": null,
            "grid_area": null,
            "grid_auto_columns": null,
            "grid_auto_flow": null,
            "grid_auto_rows": null,
            "grid_column": null,
            "grid_gap": null,
            "grid_row": null,
            "grid_template_areas": null,
            "grid_template_columns": null,
            "grid_template_rows": null,
            "height": null,
            "justify_content": null,
            "justify_items": null,
            "left": null,
            "margin": null,
            "max_height": null,
            "max_width": null,
            "min_height": null,
            "min_width": null,
            "object_fit": null,
            "object_position": null,
            "order": null,
            "overflow": null,
            "overflow_x": null,
            "overflow_y": null,
            "padding": null,
            "right": null,
            "top": null,
            "visibility": null,
            "width": null
          }
        },
        "66513f737b2c4032aef5870e3ae62149": {
          "model_module": "@jupyter-widgets/base",
          "model_module_version": "1.2.0",
          "model_name": "LayoutModel",
          "state": {
            "_model_module": "@jupyter-widgets/base",
            "_model_module_version": "1.2.0",
            "_model_name": "LayoutModel",
            "_view_count": null,
            "_view_module": "@jupyter-widgets/base",
            "_view_module_version": "1.2.0",
            "_view_name": "LayoutView",
            "align_content": null,
            "align_items": null,
            "align_self": null,
            "border": null,
            "bottom": null,
            "display": null,
            "flex": null,
            "flex_flow": null,
            "grid_area": null,
            "grid_auto_columns": null,
            "grid_auto_flow": null,
            "grid_auto_rows": null,
            "grid_column": null,
            "grid_gap": null,
            "grid_row": null,
            "grid_template_areas": null,
            "grid_template_columns": null,
            "grid_template_rows": null,
            "height": null,
            "justify_content": null,
            "justify_items": null,
            "left": null,
            "margin": null,
            "max_height": null,
            "max_width": null,
            "min_height": null,
            "min_width": null,
            "object_fit": null,
            "object_position": null,
            "order": null,
            "overflow": null,
            "overflow_x": null,
            "overflow_y": null,
            "padding": null,
            "right": null,
            "top": null,
            "visibility": null,
            "width": null
          }
        },
        "6b3251841ae54b749d9ea5cbb04629f5": {
          "model_module": "@jupyter-widgets/controls",
          "model_module_version": "1.5.0",
          "model_name": "DescriptionStyleModel",
          "state": {
            "_model_module": "@jupyter-widgets/controls",
            "_model_module_version": "1.5.0",
            "_model_name": "DescriptionStyleModel",
            "_view_count": null,
            "_view_module": "@jupyter-widgets/base",
            "_view_module_version": "1.2.0",
            "_view_name": "StyleView",
            "description_width": ""
          }
        },
        "6ce5764b7bc14de1badc9239f73a5b3c": {
          "model_module": "@jupyter-widgets/controls",
          "model_module_version": "1.5.0",
          "model_name": "HTMLModel",
          "state": {
            "_dom_classes": [],
            "_model_module": "@jupyter-widgets/controls",
            "_model_module_version": "1.5.0",
            "_model_name": "HTMLModel",
            "_view_count": null,
            "_view_module": "@jupyter-widgets/controls",
            "_view_module_version": "1.5.0",
            "_view_name": "HTMLView",
            "description": "",
            "description_tooltip": null,
            "layout": "IPY_MODEL_a5623c70abd344f289f9e1e1c5e35411",
            "placeholder": "​",
            "style": "IPY_MODEL_010e6431b1a94e81bc94cd9016a2ce52",
            "value": "model.safetensors: 100%"
          }
        },
        "75455215697a4e65a9bbee763552ddb0": {
          "model_module": "@jupyter-widgets/controls",
          "model_module_version": "1.5.0",
          "model_name": "DescriptionStyleModel",
          "state": {
            "_model_module": "@jupyter-widgets/controls",
            "_model_module_version": "1.5.0",
            "_model_name": "DescriptionStyleModel",
            "_view_count": null,
            "_view_module": "@jupyter-widgets/base",
            "_view_module_version": "1.2.0",
            "_view_name": "StyleView",
            "description_width": ""
          }
        },
        "7e0d49e1a7ca4c6ab861818c4aaa613f": {
          "model_module": "@jupyter-widgets/controls",
          "model_module_version": "1.5.0",
          "model_name": "FloatProgressModel",
          "state": {
            "_dom_classes": [],
            "_model_module": "@jupyter-widgets/controls",
            "_model_module_version": "1.5.0",
            "_model_name": "FloatProgressModel",
            "_view_count": null,
            "_view_module": "@jupyter-widgets/controls",
            "_view_module_version": "1.5.0",
            "_view_name": "ProgressView",
            "bar_style": "success",
            "description": "",
            "description_tooltip": null,
            "layout": "IPY_MODEL_66513f737b2c4032aef5870e3ae62149",
            "max": 265722260,
            "min": 0,
            "orientation": "horizontal",
            "style": "IPY_MODEL_be851b44f64b4af9a7a09c62672e7bd2",
            "value": 265722260
          }
        },
        "8266894f1005484dbd8daf251579234b": {
          "model_module": "@jupyter-widgets/controls",
          "model_module_version": "1.5.0",
          "model_name": "HTMLModel",
          "state": {
            "_dom_classes": [],
            "_model_module": "@jupyter-widgets/controls",
            "_model_module_version": "1.5.0",
            "_model_name": "HTMLModel",
            "_view_count": null,
            "_view_module": "@jupyter-widgets/controls",
            "_view_module_version": "1.5.0",
            "_view_name": "HTMLView",
            "description": "",
            "description_tooltip": null,
            "layout": "IPY_MODEL_354ad7280f1240eeac16df866dc5d698",
            "placeholder": "​",
            "style": "IPY_MODEL_e81131869e7548859ce0174a6e906d4d",
            "value": " 232k/232k [00:00&lt;00:00, 3.29MB/s]"
          }
        },
        "8acc5a42b5f94d79808e34cfe6155fda": {
          "model_module": "@jupyter-widgets/controls",
          "model_module_version": "1.5.0",
          "model_name": "DescriptionStyleModel",
          "state": {
            "_model_module": "@jupyter-widgets/controls",
            "_model_module_version": "1.5.0",
            "_model_name": "DescriptionStyleModel",
            "_view_count": null,
            "_view_module": "@jupyter-widgets/base",
            "_view_module_version": "1.2.0",
            "_view_name": "StyleView",
            "description_width": ""
          }
        },
        "8ef1a7b0b1b741de90839bd22cb3298b": {
          "model_module": "@jupyter-widgets/controls",
          "model_module_version": "1.5.0",
          "model_name": "FloatProgressModel",
          "state": {
            "_dom_classes": [],
            "_model_module": "@jupyter-widgets/controls",
            "_model_module_version": "1.5.0",
            "_model_name": "FloatProgressModel",
            "_view_count": null,
            "_view_module": "@jupyter-widgets/controls",
            "_view_module_version": "1.5.0",
            "_view_name": "ProgressView",
            "bar_style": "success",
            "description": "",
            "description_tooltip": null,
            "layout": "IPY_MODEL_4b6d8cbd6f63469193b2cb22721a2475",
            "max": 373,
            "min": 0,
            "orientation": "horizontal",
            "style": "IPY_MODEL_5d0a9dd84b04485ba132f6c70204754d",
            "value": 373
          }
        },
        "8fe865ffe4d24c2ca7c3f64c35c90eb2": {
          "model_module": "@jupyter-widgets/controls",
          "model_module_version": "1.5.0",
          "model_name": "FloatProgressModel",
          "state": {
            "_dom_classes": [],
            "_model_module": "@jupyter-widgets/controls",
            "_model_module_version": "1.5.0",
            "_model_name": "FloatProgressModel",
            "_view_count": null,
            "_view_module": "@jupyter-widgets/controls",
            "_view_module_version": "1.5.0",
            "_view_name": "ProgressView",
            "bar_style": "success",
            "description": "",
            "description_tooltip": null,
            "layout": "IPY_MODEL_643d6b5d7b034090b7b62f1c831f2f22",
            "max": 231508,
            "min": 0,
            "orientation": "horizontal",
            "style": "IPY_MODEL_bcc0b9474be749c1a59a17b8f63c1762",
            "value": 231508
          }
        },
        "90ad576bd93e472b995d3e7530e26389": {
          "model_module": "@jupyter-widgets/controls",
          "model_module_version": "1.5.0",
          "model_name": "HBoxModel",
          "state": {
            "_dom_classes": [],
            "_model_module": "@jupyter-widgets/controls",
            "_model_module_version": "1.5.0",
            "_model_name": "HBoxModel",
            "_view_count": null,
            "_view_module": "@jupyter-widgets/controls",
            "_view_module_version": "1.5.0",
            "_view_name": "HBoxView",
            "box_style": "",
            "children": [
              "IPY_MODEL_f7f7d953666e48428513113ae838d4db",
              "IPY_MODEL_8ef1a7b0b1b741de90839bd22cb3298b",
              "IPY_MODEL_45c6c73174594757b39608620c0b1a2b"
            ],
            "layout": "IPY_MODEL_18e98c62134d4d4d830a1b9d2fa1f25d"
          }
        },
        "91150e7fdcc6464ebdabe82fa354d6e4": {
          "model_module": "@jupyter-widgets/controls",
          "model_module_version": "1.5.0",
          "model_name": "ProgressStyleModel",
          "state": {
            "_model_module": "@jupyter-widgets/controls",
            "_model_module_version": "1.5.0",
            "_model_name": "ProgressStyleModel",
            "_view_count": null,
            "_view_module": "@jupyter-widgets/base",
            "_view_module_version": "1.2.0",
            "_view_name": "StyleView",
            "bar_color": null,
            "description_width": ""
          }
        },
        "93129167ccd24e25a247d7a63b364f1e": {
          "model_module": "@jupyter-widgets/base",
          "model_module_version": "1.2.0",
          "model_name": "LayoutModel",
          "state": {
            "_model_module": "@jupyter-widgets/base",
            "_model_module_version": "1.2.0",
            "_model_name": "LayoutModel",
            "_view_count": null,
            "_view_module": "@jupyter-widgets/base",
            "_view_module_version": "1.2.0",
            "_view_name": "LayoutView",
            "align_content": null,
            "align_items": null,
            "align_self": null,
            "border": null,
            "bottom": null,
            "display": null,
            "flex": null,
            "flex_flow": null,
            "grid_area": null,
            "grid_auto_columns": null,
            "grid_auto_flow": null,
            "grid_auto_rows": null,
            "grid_column": null,
            "grid_gap": null,
            "grid_row": null,
            "grid_template_areas": null,
            "grid_template_columns": null,
            "grid_template_rows": null,
            "height": null,
            "justify_content": null,
            "justify_items": null,
            "left": null,
            "margin": null,
            "max_height": null,
            "max_width": null,
            "min_height": null,
            "min_width": null,
            "object_fit": null,
            "object_position": null,
            "order": null,
            "overflow": null,
            "overflow_x": null,
            "overflow_y": null,
            "padding": null,
            "right": null,
            "top": null,
            "visibility": null,
            "width": null
          }
        },
        "9344cb58b7aa4d1aa670053ee325c535": {
          "model_module": "@jupyter-widgets/controls",
          "model_module_version": "1.5.0",
          "model_name": "HTMLModel",
          "state": {
            "_dom_classes": [],
            "_model_module": "@jupyter-widgets/controls",
            "_model_module_version": "1.5.0",
            "_model_name": "HTMLModel",
            "_view_count": null,
            "_view_module": "@jupyter-widgets/controls",
            "_view_module_version": "1.5.0",
            "_view_name": "HTMLView",
            "description": "",
            "description_tooltip": null,
            "layout": "IPY_MODEL_b6e6fe36b27c46dc9e107b812888939b",
            "placeholder": "​",
            "style": "IPY_MODEL_6b3251841ae54b749d9ea5cbb04629f5",
            "value": "tokenizer.json: 100%"
          }
        },
        "978c55cbf3b641858cae9a3ac260f3bd": {
          "model_module": "@jupyter-widgets/base",
          "model_module_version": "1.2.0",
          "model_name": "LayoutModel",
          "state": {
            "_model_module": "@jupyter-widgets/base",
            "_model_module_version": "1.2.0",
            "_model_name": "LayoutModel",
            "_view_count": null,
            "_view_module": "@jupyter-widgets/base",
            "_view_module_version": "1.2.0",
            "_view_name": "LayoutView",
            "align_content": null,
            "align_items": null,
            "align_self": null,
            "border": null,
            "bottom": null,
            "display": null,
            "flex": null,
            "flex_flow": null,
            "grid_area": null,
            "grid_auto_columns": null,
            "grid_auto_flow": null,
            "grid_auto_rows": null,
            "grid_column": null,
            "grid_gap": null,
            "grid_row": null,
            "grid_template_areas": null,
            "grid_template_columns": null,
            "grid_template_rows": null,
            "height": null,
            "justify_content": null,
            "justify_items": null,
            "left": null,
            "margin": null,
            "max_height": null,
            "max_width": null,
            "min_height": null,
            "min_width": null,
            "object_fit": null,
            "object_position": null,
            "order": null,
            "overflow": null,
            "overflow_x": null,
            "overflow_y": null,
            "padding": null,
            "right": null,
            "top": null,
            "visibility": null,
            "width": null
          }
        },
        "9b776ae8ebbe472daac8dad59151677b": {
          "model_module": "@jupyter-widgets/base",
          "model_module_version": "1.2.0",
          "model_name": "LayoutModel",
          "state": {
            "_model_module": "@jupyter-widgets/base",
            "_model_module_version": "1.2.0",
            "_model_name": "LayoutModel",
            "_view_count": null,
            "_view_module": "@jupyter-widgets/base",
            "_view_module_version": "1.2.0",
            "_view_name": "LayoutView",
            "align_content": null,
            "align_items": null,
            "align_self": null,
            "border": null,
            "bottom": null,
            "display": null,
            "flex": null,
            "flex_flow": null,
            "grid_area": null,
            "grid_auto_columns": null,
            "grid_auto_flow": null,
            "grid_auto_rows": null,
            "grid_column": null,
            "grid_gap": null,
            "grid_row": null,
            "grid_template_areas": null,
            "grid_template_columns": null,
            "grid_template_rows": null,
            "height": null,
            "justify_content": null,
            "justify_items": null,
            "left": null,
            "margin": null,
            "max_height": null,
            "max_width": null,
            "min_height": null,
            "min_width": null,
            "object_fit": null,
            "object_position": null,
            "order": null,
            "overflow": null,
            "overflow_x": null,
            "overflow_y": null,
            "padding": null,
            "right": null,
            "top": null,
            "visibility": null,
            "width": null
          }
        },
        "9b879ee810934f7ab5d699fb13e462b7": {
          "model_module": "@jupyter-widgets/controls",
          "model_module_version": "1.5.0",
          "model_name": "HTMLModel",
          "state": {
            "_dom_classes": [],
            "_model_module": "@jupyter-widgets/controls",
            "_model_module_version": "1.5.0",
            "_model_name": "HTMLModel",
            "_view_count": null,
            "_view_module": "@jupyter-widgets/controls",
            "_view_module_version": "1.5.0",
            "_view_name": "HTMLView",
            "description": "",
            "description_tooltip": null,
            "layout": "IPY_MODEL_27b6cff4f09f4f1791aaffdbfde17a62",
            "placeholder": "​",
            "style": "IPY_MODEL_d8983d03cb4644e7a6b338a663c7bf01",
            "value": "special_tokens_map.json: 100%"
          }
        },
        "9ea743b409634c71accd3301d3def7c4": {
          "model_module": "@jupyter-widgets/controls",
          "model_module_version": "1.5.0",
          "model_name": "DescriptionStyleModel",
          "state": {
            "_model_module": "@jupyter-widgets/controls",
            "_model_module_version": "1.5.0",
            "_model_name": "DescriptionStyleModel",
            "_view_count": null,
            "_view_module": "@jupyter-widgets/base",
            "_view_module_version": "1.2.0",
            "_view_name": "StyleView",
            "description_width": ""
          }
        },
        "a5623c70abd344f289f9e1e1c5e35411": {
          "model_module": "@jupyter-widgets/base",
          "model_module_version": "1.2.0",
          "model_name": "LayoutModel",
          "state": {
            "_model_module": "@jupyter-widgets/base",
            "_model_module_version": "1.2.0",
            "_model_name": "LayoutModel",
            "_view_count": null,
            "_view_module": "@jupyter-widgets/base",
            "_view_module_version": "1.2.0",
            "_view_name": "LayoutView",
            "align_content": null,
            "align_items": null,
            "align_self": null,
            "border": null,
            "bottom": null,
            "display": null,
            "flex": null,
            "flex_flow": null,
            "grid_area": null,
            "grid_auto_columns": null,
            "grid_auto_flow": null,
            "grid_auto_rows": null,
            "grid_column": null,
            "grid_gap": null,
            "grid_row": null,
            "grid_template_areas": null,
            "grid_template_columns": null,
            "grid_template_rows": null,
            "height": null,
            "justify_content": null,
            "justify_items": null,
            "left": null,
            "margin": null,
            "max_height": null,
            "max_width": null,
            "min_height": null,
            "min_width": null,
            "object_fit": null,
            "object_position": null,
            "order": null,
            "overflow": null,
            "overflow_x": null,
            "overflow_y": null,
            "padding": null,
            "right": null,
            "top": null,
            "visibility": null,
            "width": null
          }
        },
        "a7098f4a08c14bec8590d106351fb633": {
          "model_module": "@jupyter-widgets/controls",
          "model_module_version": "1.5.0",
          "model_name": "HBoxModel",
          "state": {
            "_dom_classes": [],
            "_model_module": "@jupyter-widgets/controls",
            "_model_module_version": "1.5.0",
            "_model_name": "HBoxModel",
            "_view_count": null,
            "_view_module": "@jupyter-widgets/controls",
            "_view_module_version": "1.5.0",
            "_view_name": "HBoxView",
            "box_style": "",
            "children": [
              "IPY_MODEL_6ce5764b7bc14de1badc9239f73a5b3c",
              "IPY_MODEL_7e0d49e1a7ca4c6ab861818c4aaa613f",
              "IPY_MODEL_d07916a0d3894ad78e6dcb0caab5a1e0"
            ],
            "layout": "IPY_MODEL_978c55cbf3b641858cae9a3ac260f3bd"
          }
        },
        "a9bd46c43b134fad8c8c0d64dd79ae46": {
          "model_module": "@jupyter-widgets/base",
          "model_module_version": "1.2.0",
          "model_name": "LayoutModel",
          "state": {
            "_model_module": "@jupyter-widgets/base",
            "_model_module_version": "1.2.0",
            "_model_name": "LayoutModel",
            "_view_count": null,
            "_view_module": "@jupyter-widgets/base",
            "_view_module_version": "1.2.0",
            "_view_name": "LayoutView",
            "align_content": null,
            "align_items": null,
            "align_self": null,
            "border": null,
            "bottom": null,
            "display": null,
            "flex": null,
            "flex_flow": null,
            "grid_area": null,
            "grid_auto_columns": null,
            "grid_auto_flow": null,
            "grid_auto_rows": null,
            "grid_column": null,
            "grid_gap": null,
            "grid_row": null,
            "grid_template_areas": null,
            "grid_template_columns": null,
            "grid_template_rows": null,
            "height": null,
            "justify_content": null,
            "justify_items": null,
            "left": null,
            "margin": null,
            "max_height": null,
            "max_width": null,
            "min_height": null,
            "min_width": null,
            "object_fit": null,
            "object_position": null,
            "order": null,
            "overflow": null,
            "overflow_x": null,
            "overflow_y": null,
            "padding": null,
            "right": null,
            "top": null,
            "visibility": null,
            "width": null
          }
        },
        "b6e6fe36b27c46dc9e107b812888939b": {
          "model_module": "@jupyter-widgets/base",
          "model_module_version": "1.2.0",
          "model_name": "LayoutModel",
          "state": {
            "_model_module": "@jupyter-widgets/base",
            "_model_module_version": "1.2.0",
            "_model_name": "LayoutModel",
            "_view_count": null,
            "_view_module": "@jupyter-widgets/base",
            "_view_module_version": "1.2.0",
            "_view_name": "LayoutView",
            "align_content": null,
            "align_items": null,
            "align_self": null,
            "border": null,
            "bottom": null,
            "display": null,
            "flex": null,
            "flex_flow": null,
            "grid_area": null,
            "grid_auto_columns": null,
            "grid_auto_flow": null,
            "grid_auto_rows": null,
            "grid_column": null,
            "grid_gap": null,
            "grid_row": null,
            "grid_template_areas": null,
            "grid_template_columns": null,
            "grid_template_rows": null,
            "height": null,
            "justify_content": null,
            "justify_items": null,
            "left": null,
            "margin": null,
            "max_height": null,
            "max_width": null,
            "min_height": null,
            "min_width": null,
            "object_fit": null,
            "object_position": null,
            "order": null,
            "overflow": null,
            "overflow_x": null,
            "overflow_y": null,
            "padding": null,
            "right": null,
            "top": null,
            "visibility": null,
            "width": null
          }
        },
        "b8094d0674d648569befaa25659a754d": {
          "model_module": "@jupyter-widgets/controls",
          "model_module_version": "1.5.0",
          "model_name": "HTMLModel",
          "state": {
            "_dom_classes": [],
            "_model_module": "@jupyter-widgets/controls",
            "_model_module_version": "1.5.0",
            "_model_name": "HTMLModel",
            "_view_count": null,
            "_view_module": "@jupyter-widgets/controls",
            "_view_module_version": "1.5.0",
            "_view_name": "HTMLView",
            "description": "",
            "description_tooltip": null,
            "layout": "IPY_MODEL_1569c65803124867b5d939aee92182a7",
            "placeholder": "​",
            "style": "IPY_MODEL_3f3bbf4e768e438d82c4a0bbe7534eec",
            "value": "vocab.txt: 100%"
          }
        },
        "ba0bdd1632424c34b15332e3e8b6e168": {
          "model_module": "@jupyter-widgets/base",
          "model_module_version": "1.2.0",
          "model_name": "LayoutModel",
          "state": {
            "_model_module": "@jupyter-widgets/base",
            "_model_module_version": "1.2.0",
            "_model_name": "LayoutModel",
            "_view_count": null,
            "_view_module": "@jupyter-widgets/base",
            "_view_module_version": "1.2.0",
            "_view_name": "LayoutView",
            "align_content": null,
            "align_items": null,
            "align_self": null,
            "border": null,
            "bottom": null,
            "display": null,
            "flex": null,
            "flex_flow": null,
            "grid_area": null,
            "grid_auto_columns": null,
            "grid_auto_flow": null,
            "grid_auto_rows": null,
            "grid_column": null,
            "grid_gap": null,
            "grid_row": null,
            "grid_template_areas": null,
            "grid_template_columns": null,
            "grid_template_rows": null,
            "height": null,
            "justify_content": null,
            "justify_items": null,
            "left": null,
            "margin": null,
            "max_height": null,
            "max_width": null,
            "min_height": null,
            "min_width": null,
            "object_fit": null,
            "object_position": null,
            "order": null,
            "overflow": null,
            "overflow_x": null,
            "overflow_y": null,
            "padding": null,
            "right": null,
            "top": null,
            "visibility": null,
            "width": null
          }
        },
        "bb2b9028dc494f62b470913f0a45f2f2": {
          "model_module": "@jupyter-widgets/base",
          "model_module_version": "1.2.0",
          "model_name": "LayoutModel",
          "state": {
            "_model_module": "@jupyter-widgets/base",
            "_model_module_version": "1.2.0",
            "_model_name": "LayoutModel",
            "_view_count": null,
            "_view_module": "@jupyter-widgets/base",
            "_view_module_version": "1.2.0",
            "_view_name": "LayoutView",
            "align_content": null,
            "align_items": null,
            "align_self": null,
            "border": null,
            "bottom": null,
            "display": null,
            "flex": null,
            "flex_flow": null,
            "grid_area": null,
            "grid_auto_columns": null,
            "grid_auto_flow": null,
            "grid_auto_rows": null,
            "grid_column": null,
            "grid_gap": null,
            "grid_row": null,
            "grid_template_areas": null,
            "grid_template_columns": null,
            "grid_template_rows": null,
            "height": null,
            "justify_content": null,
            "justify_items": null,
            "left": null,
            "margin": null,
            "max_height": null,
            "max_width": null,
            "min_height": null,
            "min_width": null,
            "object_fit": null,
            "object_position": null,
            "order": null,
            "overflow": null,
            "overflow_x": null,
            "overflow_y": null,
            "padding": null,
            "right": null,
            "top": null,
            "visibility": null,
            "width": null
          }
        },
        "bcc0b9474be749c1a59a17b8f63c1762": {
          "model_module": "@jupyter-widgets/controls",
          "model_module_version": "1.5.0",
          "model_name": "ProgressStyleModel",
          "state": {
            "_model_module": "@jupyter-widgets/controls",
            "_model_module_version": "1.5.0",
            "_model_name": "ProgressStyleModel",
            "_view_count": null,
            "_view_module": "@jupyter-widgets/base",
            "_view_module_version": "1.2.0",
            "_view_name": "StyleView",
            "bar_color": null,
            "description_width": ""
          }
        },
        "be851b44f64b4af9a7a09c62672e7bd2": {
          "model_module": "@jupyter-widgets/controls",
          "model_module_version": "1.5.0",
          "model_name": "ProgressStyleModel",
          "state": {
            "_model_module": "@jupyter-widgets/controls",
            "_model_module_version": "1.5.0",
            "_model_name": "ProgressStyleModel",
            "_view_count": null,
            "_view_module": "@jupyter-widgets/base",
            "_view_module_version": "1.2.0",
            "_view_name": "StyleView",
            "bar_color": null,
            "description_width": ""
          }
        },
        "c3996992c2cd4baba412b18891be2da7": {
          "model_module": "@jupyter-widgets/base",
          "model_module_version": "1.2.0",
          "model_name": "LayoutModel",
          "state": {
            "_model_module": "@jupyter-widgets/base",
            "_model_module_version": "1.2.0",
            "_model_name": "LayoutModel",
            "_view_count": null,
            "_view_module": "@jupyter-widgets/base",
            "_view_module_version": "1.2.0",
            "_view_name": "LayoutView",
            "align_content": null,
            "align_items": null,
            "align_self": null,
            "border": null,
            "bottom": null,
            "display": null,
            "flex": null,
            "flex_flow": null,
            "grid_area": null,
            "grid_auto_columns": null,
            "grid_auto_flow": null,
            "grid_auto_rows": null,
            "grid_column": null,
            "grid_gap": null,
            "grid_row": null,
            "grid_template_areas": null,
            "grid_template_columns": null,
            "grid_template_rows": null,
            "height": null,
            "justify_content": null,
            "justify_items": null,
            "left": null,
            "margin": null,
            "max_height": null,
            "max_width": null,
            "min_height": null,
            "min_width": null,
            "object_fit": null,
            "object_position": null,
            "order": null,
            "overflow": null,
            "overflow_x": null,
            "overflow_y": null,
            "padding": null,
            "right": null,
            "top": null,
            "visibility": null,
            "width": null
          }
        },
        "c47a4a5afaa7452bac27d180e71f977d": {
          "model_module": "@jupyter-widgets/base",
          "model_module_version": "1.2.0",
          "model_name": "LayoutModel",
          "state": {
            "_model_module": "@jupyter-widgets/base",
            "_model_module_version": "1.2.0",
            "_model_name": "LayoutModel",
            "_view_count": null,
            "_view_module": "@jupyter-widgets/base",
            "_view_module_version": "1.2.0",
            "_view_name": "LayoutView",
            "align_content": null,
            "align_items": null,
            "align_self": null,
            "border": null,
            "bottom": null,
            "display": null,
            "flex": null,
            "flex_flow": null,
            "grid_area": null,
            "grid_auto_columns": null,
            "grid_auto_flow": null,
            "grid_auto_rows": null,
            "grid_column": null,
            "grid_gap": null,
            "grid_row": null,
            "grid_template_areas": null,
            "grid_template_columns": null,
            "grid_template_rows": null,
            "height": null,
            "justify_content": null,
            "justify_items": null,
            "left": null,
            "margin": null,
            "max_height": null,
            "max_width": null,
            "min_height": null,
            "min_width": null,
            "object_fit": null,
            "object_position": null,
            "order": null,
            "overflow": null,
            "overflow_x": null,
            "overflow_y": null,
            "padding": null,
            "right": null,
            "top": null,
            "visibility": null,
            "width": null
          }
        },
        "cb87faebc4104827bb28f2d6eb0b2ddd": {
          "model_module": "@jupyter-widgets/base",
          "model_module_version": "1.2.0",
          "model_name": "LayoutModel",
          "state": {
            "_model_module": "@jupyter-widgets/base",
            "_model_module_version": "1.2.0",
            "_model_name": "LayoutModel",
            "_view_count": null,
            "_view_module": "@jupyter-widgets/base",
            "_view_module_version": "1.2.0",
            "_view_name": "LayoutView",
            "align_content": null,
            "align_items": null,
            "align_self": null,
            "border": null,
            "bottom": null,
            "display": null,
            "flex": null,
            "flex_flow": null,
            "grid_area": null,
            "grid_auto_columns": null,
            "grid_auto_flow": null,
            "grid_auto_rows": null,
            "grid_column": null,
            "grid_gap": null,
            "grid_row": null,
            "grid_template_areas": null,
            "grid_template_columns": null,
            "grid_template_rows": null,
            "height": null,
            "justify_content": null,
            "justify_items": null,
            "left": null,
            "margin": null,
            "max_height": null,
            "max_width": null,
            "min_height": null,
            "min_width": null,
            "object_fit": null,
            "object_position": null,
            "order": null,
            "overflow": null,
            "overflow_x": null,
            "overflow_y": null,
            "padding": null,
            "right": null,
            "top": null,
            "visibility": null,
            "width": null
          }
        },
        "d07916a0d3894ad78e6dcb0caab5a1e0": {
          "model_module": "@jupyter-widgets/controls",
          "model_module_version": "1.5.0",
          "model_name": "HTMLModel",
          "state": {
            "_dom_classes": [],
            "_model_module": "@jupyter-widgets/controls",
            "_model_module_version": "1.5.0",
            "_model_name": "HTMLModel",
            "_view_count": null,
            "_view_module": "@jupyter-widgets/controls",
            "_view_module_version": "1.5.0",
            "_view_name": "HTMLView",
            "description": "",
            "description_tooltip": null,
            "layout": "IPY_MODEL_648c6b8f8c05483e8002fbf5d755740d",
            "placeholder": "​",
            "style": "IPY_MODEL_ed5d5724ef564f3b8544f5d757fda645",
            "value": " 266M/266M [00:18&lt;00:00, 16.7MB/s]"
          }
        },
        "d8983d03cb4644e7a6b338a663c7bf01": {
          "model_module": "@jupyter-widgets/controls",
          "model_module_version": "1.5.0",
          "model_name": "DescriptionStyleModel",
          "state": {
            "_model_module": "@jupyter-widgets/controls",
            "_model_module_version": "1.5.0",
            "_model_name": "DescriptionStyleModel",
            "_view_count": null,
            "_view_module": "@jupyter-widgets/base",
            "_view_module_version": "1.2.0",
            "_view_name": "StyleView",
            "description_width": ""
          }
        },
        "db1d90739f3d4b0c929dad2e73755408": {
          "model_module": "@jupyter-widgets/controls",
          "model_module_version": "1.5.0",
          "model_name": "FloatProgressModel",
          "state": {
            "_dom_classes": [],
            "_model_module": "@jupyter-widgets/controls",
            "_model_module_version": "1.5.0",
            "_model_name": "FloatProgressModel",
            "_view_count": null,
            "_view_module": "@jupyter-widgets/controls",
            "_view_module_version": "1.5.0",
            "_view_name": "ProgressView",
            "bar_style": "success",
            "description": "",
            "description_tooltip": null,
            "layout": "IPY_MODEL_a9bd46c43b134fad8c8c0d64dd79ae46",
            "max": 4995,
            "min": 0,
            "orientation": "horizontal",
            "style": "IPY_MODEL_91150e7fdcc6464ebdabe82fa354d6e4",
            "value": 4995
          }
        },
        "dbd0847faee04cfba2958155d3706334": {
          "model_module": "@jupyter-widgets/controls",
          "model_module_version": "1.5.0",
          "model_name": "HTMLModel",
          "state": {
            "_dom_classes": [],
            "_model_module": "@jupyter-widgets/controls",
            "_model_module_version": "1.5.0",
            "_model_name": "HTMLModel",
            "_view_count": null,
            "_view_module": "@jupyter-widgets/controls",
            "_view_module_version": "1.5.0",
            "_view_name": "HTMLView",
            "description": "",
            "description_tooltip": null,
            "layout": "IPY_MODEL_c3996992c2cd4baba412b18891be2da7",
            "placeholder": "​",
            "style": "IPY_MODEL_9ea743b409634c71accd3301d3def7c4",
            "value": "config.json: 100%"
          }
        },
        "dc96ffc03d364a4cae22f77b7ba9d798": {
          "model_module": "@jupyter-widgets/controls",
          "model_module_version": "1.5.0",
          "model_name": "HBoxModel",
          "state": {
            "_dom_classes": [],
            "_model_module": "@jupyter-widgets/controls",
            "_model_module_version": "1.5.0",
            "_model_name": "HBoxModel",
            "_view_count": null,
            "_view_module": "@jupyter-widgets/controls",
            "_view_module_version": "1.5.0",
            "_view_name": "HBoxView",
            "box_style": "",
            "children": [
              "IPY_MODEL_b8094d0674d648569befaa25659a754d",
              "IPY_MODEL_8fe865ffe4d24c2ca7c3f64c35c90eb2",
              "IPY_MODEL_8266894f1005484dbd8daf251579234b"
            ],
            "layout": "IPY_MODEL_bb2b9028dc494f62b470913f0a45f2f2"
          }
        },
        "e3360d4afcf842a3a431286311895da5": {
          "model_module": "@jupyter-widgets/controls",
          "model_module_version": "1.5.0",
          "model_name": "HTMLModel",
          "state": {
            "_dom_classes": [],
            "_model_module": "@jupyter-widgets/controls",
            "_model_module_version": "1.5.0",
            "_model_name": "HTMLModel",
            "_view_count": null,
            "_view_module": "@jupyter-widgets/controls",
            "_view_module_version": "1.5.0",
            "_view_name": "HTMLView",
            "description": "",
            "description_tooltip": null,
            "layout": "IPY_MODEL_5d26d13c7814428caaad7cbbdc4a5ff1",
            "placeholder": "​",
            "style": "IPY_MODEL_75455215697a4e65a9bbee763552ddb0",
            "value": " 711k/711k [00:00&lt;00:00, 1.45MB/s]"
          }
        },
        "e81131869e7548859ce0174a6e906d4d": {
          "model_module": "@jupyter-widgets/controls",
          "model_module_version": "1.5.0",
          "model_name": "DescriptionStyleModel",
          "state": {
            "_model_module": "@jupyter-widgets/controls",
            "_model_module_version": "1.5.0",
            "_model_name": "DescriptionStyleModel",
            "_view_count": null,
            "_view_module": "@jupyter-widgets/base",
            "_view_module_version": "1.2.0",
            "_view_name": "StyleView",
            "description_width": ""
          }
        },
        "ed5d5724ef564f3b8544f5d757fda645": {
          "model_module": "@jupyter-widgets/controls",
          "model_module_version": "1.5.0",
          "model_name": "DescriptionStyleModel",
          "state": {
            "_model_module": "@jupyter-widgets/controls",
            "_model_module_version": "1.5.0",
            "_model_name": "DescriptionStyleModel",
            "_view_count": null,
            "_view_module": "@jupyter-widgets/base",
            "_view_module_version": "1.2.0",
            "_view_name": "StyleView",
            "description_width": ""
          }
        },
        "f7f7d953666e48428513113ae838d4db": {
          "model_module": "@jupyter-widgets/controls",
          "model_module_version": "1.5.0",
          "model_name": "HTMLModel",
          "state": {
            "_dom_classes": [],
            "_model_module": "@jupyter-widgets/controls",
            "_model_module_version": "1.5.0",
            "_model_name": "HTMLModel",
            "_view_count": null,
            "_view_module": "@jupyter-widgets/controls",
            "_view_module_version": "1.5.0",
            "_view_name": "HTMLView",
            "description": "",
            "description_tooltip": null,
            "layout": "IPY_MODEL_02d5ff88a47d4a12b9eb1f724d2922ff",
            "placeholder": "​",
            "style": "IPY_MODEL_8acc5a42b5f94d79808e34cfe6155fda",
            "value": "tokenizer_config.json: 100%"
          }
        },
        "f897f1a8852c46daae584d7ad13dde20": {
          "model_module": "@jupyter-widgets/controls",
          "model_module_version": "1.5.0",
          "model_name": "ProgressStyleModel",
          "state": {
            "_model_module": "@jupyter-widgets/controls",
            "_model_module_version": "1.5.0",
            "_model_name": "ProgressStyleModel",
            "_view_count": null,
            "_view_module": "@jupyter-widgets/base",
            "_view_module_version": "1.2.0",
            "_view_name": "StyleView",
            "bar_color": null,
            "description_width": ""
          }
        },
        "fc0b593cc6db4d67b55f37c965f9bad0": {
          "model_module": "@jupyter-widgets/controls",
          "model_module_version": "1.5.0",
          "model_name": "HBoxModel",
          "state": {
            "_dom_classes": [],
            "_model_module": "@jupyter-widgets/controls",
            "_model_module_version": "1.5.0",
            "_model_name": "HBoxModel",
            "_view_count": null,
            "_view_module": "@jupyter-widgets/controls",
            "_view_module_version": "1.5.0",
            "_view_name": "HBoxView",
            "box_style": "",
            "children": [
              "IPY_MODEL_9b879ee810934f7ab5d699fb13e462b7",
              "IPY_MODEL_01e6bfc13dd44c118e35bbde7c5b1e75",
              "IPY_MODEL_5344e8a3f6d842ab9d7ec72b5d69889a"
            ],
            "layout": "IPY_MODEL_9b776ae8ebbe472daac8dad59151677b"
          }
        }
      }
    }
  },
  "nbformat": 4,
  "nbformat_minor": 0
}
