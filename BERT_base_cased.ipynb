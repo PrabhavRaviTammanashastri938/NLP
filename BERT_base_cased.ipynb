{
  "cells": [
    {
      "cell_type": "markdown",
      "metadata": {},
      "source": [
        "#### Prabhav Ravi Tammanashastri - BL.EN.U4CSE21162\n",
        "#### Vijayakumar Soorya - BL.EN.U4CSE21220\n",
        "#### Kandukuri Jashwanth - BL.EN.U4CSE21088"
      ]
    },
    {
      "cell_type": "markdown",
      "metadata": {
        "id": "view-in-github"
      },
      "source": [
        "<a href=\"https://colab.research.google.com/github/PieterDujardin/NER/blob/master/ColabNotebooks/i2b2_2010/BERT_on_i2b2_2010.ipynb\" target=\"_parent\"><img src=\"https://colab.research.google.com/assets/colab-badge.svg\" alt=\"Open In Colab\"/></a>"
      ]
    },
    {
      "cell_type": "markdown",
      "metadata": {
        "id": "2SiB1ikZtN1v"
      },
      "source": [
        "# Import statements"
      ]
    },
    {
      "cell_type": "code",
      "execution_count": null,
      "metadata": {
        "id": "aqmZPSMptN1w"
      },
      "outputs": [],
      "source": [
        "%reload_ext autoreload\n",
        "%autoreload 2\n",
        "\n",
        "%matplotlib inline"
      ]
    },
    {
      "cell_type": "code",
      "execution_count": null,
      "metadata": {
        "colab": {
          "base_uri": "https://localhost:8080/"
        },
        "id": "iirXFw6ltN1z",
        "outputId": "a16f9768-a07e-4d84-80ca-0634f5c9bd0d"
      },
      "outputs": [
        {
          "name": "stdout",
          "output_type": "stream",
          "text": [
            "Requirement already satisfied: transformers in /usr/local/lib/python3.10/dist-packages (4.35.2)\n",
            "Requirement already satisfied: filelock in /usr/local/lib/python3.10/dist-packages (from transformers) (3.13.1)\n",
            "Requirement already satisfied: huggingface-hub<1.0,>=0.16.4 in /usr/local/lib/python3.10/dist-packages (from transformers) (0.20.1)\n",
            "Requirement already satisfied: numpy>=1.17 in /usr/local/lib/python3.10/dist-packages (from transformers) (1.23.5)\n",
            "Requirement already satisfied: packaging>=20.0 in /usr/local/lib/python3.10/dist-packages (from transformers) (23.2)\n",
            "Requirement already satisfied: pyyaml>=5.1 in /usr/local/lib/python3.10/dist-packages (from transformers) (6.0.1)\n",
            "Requirement already satisfied: regex!=2019.12.17 in /usr/local/lib/python3.10/dist-packages (from transformers) (2023.6.3)\n",
            "Requirement already satisfied: requests in /usr/local/lib/python3.10/dist-packages (from transformers) (2.31.0)\n",
            "Requirement already satisfied: tokenizers<0.19,>=0.14 in /usr/local/lib/python3.10/dist-packages (from transformers) (0.15.0)\n",
            "Requirement already satisfied: safetensors>=0.3.1 in /usr/local/lib/python3.10/dist-packages (from transformers) (0.4.1)\n",
            "Requirement already satisfied: tqdm>=4.27 in /usr/local/lib/python3.10/dist-packages (from transformers) (4.66.1)\n",
            "Requirement already satisfied: fsspec>=2023.5.0 in /usr/local/lib/python3.10/dist-packages (from huggingface-hub<1.0,>=0.16.4->transformers) (2023.6.0)\n",
            "Requirement already satisfied: typing-extensions>=3.7.4.3 in /usr/local/lib/python3.10/dist-packages (from huggingface-hub<1.0,>=0.16.4->transformers) (4.5.0)\n",
            "Requirement already satisfied: charset-normalizer<4,>=2 in /usr/local/lib/python3.10/dist-packages (from requests->transformers) (3.3.2)\n",
            "Requirement already satisfied: idna<4,>=2.5 in /usr/local/lib/python3.10/dist-packages (from requests->transformers) (3.6)\n",
            "Requirement already satisfied: urllib3<3,>=1.21.1 in /usr/local/lib/python3.10/dist-packages (from requests->transformers) (2.0.7)\n",
            "Requirement already satisfied: certifi>=2017.4.17 in /usr/local/lib/python3.10/dist-packages (from requests->transformers) (2023.11.17)\n",
            "Collecting seqeval\n",
            "  Downloading seqeval-1.2.2.tar.gz (43 kB)\n",
            "\u001b[2K     \u001b[90m━━━━━━━━━━━━━━━━━━━━━━━━━━━━━━━━━━━━━━━━\u001b[0m \u001b[32m43.6/43.6 kB\u001b[0m \u001b[31m788.8 kB/s\u001b[0m eta \u001b[36m0:00:00\u001b[0m\n",
            "\u001b[?25h  Preparing metadata (setup.py) ... \u001b[?25l\u001b[?25hdone\n",
            "Requirement already satisfied: numpy>=1.14.0 in /usr/local/lib/python3.10/dist-packages (from seqeval) (1.23.5)\n",
            "Requirement already satisfied: scikit-learn>=0.21.3 in /usr/local/lib/python3.10/dist-packages (from seqeval) (1.2.2)\n",
            "Requirement already satisfied: scipy>=1.3.2 in /usr/local/lib/python3.10/dist-packages (from scikit-learn>=0.21.3->seqeval) (1.11.4)\n",
            "Requirement already satisfied: joblib>=1.1.1 in /usr/local/lib/python3.10/dist-packages (from scikit-learn>=0.21.3->seqeval) (1.3.2)\n",
            "Requirement already satisfied: threadpoolctl>=2.0.0 in /usr/local/lib/python3.10/dist-packages (from scikit-learn>=0.21.3->seqeval) (3.2.0)\n",
            "Building wheels for collected packages: seqeval\n",
            "  Building wheel for seqeval (setup.py) ... \u001b[?25l\u001b[?25hdone\n",
            "  Created wheel for seqeval: filename=seqeval-1.2.2-py3-none-any.whl size=16162 sha256=29531714297f9997f556a2be55535187c09595d313a2e138804c29b968915836\n",
            "  Stored in directory: /root/.cache/pip/wheels/1a/67/4a/ad4082dd7dfc30f2abfe4d80a2ed5926a506eb8a972b4767fa\n",
            "Successfully built seqeval\n",
            "Installing collected packages: seqeval\n",
            "Successfully installed seqeval-1.2.2\n"
          ]
        }
      ],
      "source": [
        "%pip install transformers\n",
        "%pip install seqeval"
      ]
    },
    {
      "cell_type": "code",
      "execution_count": null,
      "metadata": {
        "id": "ccs400X2tN11"
      },
      "outputs": [],
      "source": [
        "# %pip list | grep -E 'transformers|torch|Keras'"
      ]
    },
    {
      "cell_type": "code",
      "execution_count": null,
      "metadata": {
        "id": "exdaIsqStN14",
        "scrolled": true
      },
      "outputs": [],
      "source": [
        "# %pip list"
      ]
    },
    {
      "cell_type": "code",
      "execution_count": null,
      "metadata": {
        "id": "9n_yJcfitN16"
      },
      "outputs": [],
      "source": [
        "import matplotlib.pyplot as plt\n",
        "import seaborn as sns\n",
        "import pandas as pd\n",
        "import itertools\n",
        "import csv\n",
        "import time\n",
        "import datetime\n",
        "import io\n",
        "import math\n",
        "import os\n",
        "import numpy as np\n",
        "import torch\n",
        "from sklearn.model_selection import train_test_split\n",
        "from tqdm import tqdm,trange\n",
        "from seqeval.metrics import f1_score\n",
        "from seqeval.metrics import classification_report,accuracy_score,f1_score\n",
        "# from sklearn.metrics import f1_score\n",
        "from transformers import BertTokenizer, BertConfig, AutoConfig, AutoTokenizer\n",
        "from transformers import BertForTokenClassification, AdamW, AutoModel, CamembertTokenizer, CamembertForTokenClassification\n",
        "from keras.preprocessing.sequence import pad_sequences\n",
        "from torch.utils.data import TensorDataset, DataLoader, RandomSampler, SequentialSampler\n",
        "from torch.optim import Adam\n",
        "import torch.nn.functional as F\n",
        "from transformers import get_linear_schedule_with_warmup"
      ]
    },
    {
      "cell_type": "markdown",
      "metadata": {
        "id": "eSVWttO1tN2B"
      },
      "source": [
        "# Cuda"
      ]
    },
    {
      "cell_type": "code",
      "execution_count": null,
      "metadata": {
        "colab": {
          "base_uri": "https://localhost:8080/"
        },
        "id": "rvpt1z55tN2C",
        "outputId": "6b9cbd24-6bed-4850-ed63-f0ab43bc08f2"
      },
      "outputs": [
        {
          "data": {
            "text/plain": [
              "True"
            ]
          },
          "execution_count": 4,
          "metadata": {},
          "output_type": "execute_result"
        }
      ],
      "source": [
        "torch.cuda.is_available()"
      ]
    },
    {
      "cell_type": "code",
      "execution_count": null,
      "metadata": {
        "id": "YeORcK3CtN2D"
      },
      "outputs": [],
      "source": [
        "device = torch.device(\"cuda\" if torch.cuda.is_available() else \"cpu\")\n",
        "n_gpu = torch.cuda.device_count()"
      ]
    },
    {
      "cell_type": "code",
      "execution_count": null,
      "metadata": {
        "colab": {
          "base_uri": "https://localhost:8080/"
        },
        "id": "R4hB4PiMtN2F",
        "outputId": "ca8a9729-79e0-4e48-b097-827507108474"
      },
      "outputs": [
        {
          "data": {
            "text/plain": [
              "1"
            ]
          },
          "execution_count": 6,
          "metadata": {},
          "output_type": "execute_result"
        }
      ],
      "source": [
        "n_gpu"
      ]
    },
    {
      "cell_type": "code",
      "execution_count": null,
      "metadata": {
        "id": "jlm5LsS0tN2J"
      },
      "outputs": [],
      "source": [
        "# torch.cuda.get_device_name()\n",
        "#tesla K80 is used by pytorch"
      ]
    },
    {
      "cell_type": "code",
      "execution_count": null,
      "metadata": {
        "colab": {
          "base_uri": "https://localhost:8080/"
        },
        "id": "fGacC-zUtN2M",
        "outputId": "61bf3402-9c81-4404-91cb-c38232aae061"
      },
      "outputs": [
        {
          "data": {
            "text/plain": [
              "_CudaDeviceProperties(name='Tesla T4', major=7, minor=5, total_memory=15102MB, multi_processor_count=40)"
            ]
          },
          "execution_count": 8,
          "metadata": {},
          "output_type": "execute_result"
        }
      ],
      "source": [
        "torch.cuda.get_device_properties('cuda')"
      ]
    },
    {
      "cell_type": "code",
      "execution_count": null,
      "metadata": {
        "colab": {
          "base_uri": "https://localhost:8080/"
        },
        "id": "1KxOzALAtN2O",
        "outputId": "f20d6a89-5a77-496b-a62a-9afb60ba3fa7"
      },
      "outputs": [
        {
          "data": {
            "text/plain": [
              "0"
            ]
          },
          "execution_count": 9,
          "metadata": {},
          "output_type": "execute_result"
        }
      ],
      "source": [
        "torch.cuda.current_device()"
      ]
    },
    {
      "cell_type": "code",
      "execution_count": null,
      "metadata": {
        "colab": {
          "base_uri": "https://localhost:8080/"
        },
        "id": "jenfn0YrtN2P",
        "outputId": "f36cc1f0-41b2-4b53-d652-3aae32a8cc24"
      },
      "outputs": [
        {
          "data": {
            "text/plain": [
              "<torch.cuda.device at 0x7eb90703f130>"
            ]
          },
          "execution_count": 10,
          "metadata": {},
          "output_type": "execute_result"
        }
      ],
      "source": [
        "torch.cuda.device(0)"
      ]
    },
    {
      "cell_type": "code",
      "execution_count": null,
      "metadata": {
        "id": "0Foq19RjtN2R"
      },
      "outputs": [],
      "source": [
        "#free memory\n",
        "torch.cuda.empty_cache()"
      ]
    },
    {
      "cell_type": "markdown",
      "metadata": {
        "id": "c28hX8JvtN2T"
      },
      "source": [
        "# 1. Functions"
      ]
    },
    {
      "cell_type": "code",
      "execution_count": null,
      "metadata": {
        "id": "tuFvvpvCtN2U"
      },
      "outputs": [],
      "source": [
        "def loadandformat(datasets):\n",
        "\n",
        "    # data=[]\n",
        "    # for dataset in datasets:\n",
        "    #   # the training, dev and test set in one file\n",
        "    #   with open('drive/My Drive/Colab Notebooks/BERTwithNER3/conll2003format/{}'.format(dataset),'r') as f:\n",
        "    #       data +=  f.readlines()\n",
        "    sentence=[]\n",
        "    sentences=[]\n",
        "    for dataset in datasets:\n",
        "      with open('/content/{}'.format(dataset),'r') as f:\n",
        "        for line in f:\n",
        "          if line == '\\n':\n",
        "              sentences.append(sentence)\n",
        "              sentence=[]\n",
        "          else:\n",
        "              sentence.append(line)\n",
        "\n",
        "    for sent in range(len(sentences)):\n",
        "      for word in range(len(sentences[sent])):\n",
        "          sentences[sent][word] = str(sentences[sent][word]).replace('\\t',' ')\n",
        "          sentences[sent][word] = str(sentences[sent][word]).rstrip('\\n')\n",
        "          sentences[sent][word]= str(sentences[sent][word]).split()\n",
        "\n",
        "    sentenceslabels =[]\n",
        "    sentencestext =[]\n",
        "\n",
        "    placeholder0=[]\n",
        "    placeholder1=[]\n",
        "\n",
        "    for sent in range(len(sentences)):\n",
        "      for word in range(len(sentences[sent])):\n",
        "          placeholder0.append(sentences[sent][word][1])\n",
        "          placeholder1.append(sentences[sent][word][0])\n",
        "\n",
        "      sentenceslabels.append(placeholder0)\n",
        "      sentencestext.append(placeholder1)\n",
        "      placeholder0=[]\n",
        "      placeholder1=[]\n",
        "\n",
        "    joinedlist =[]\n",
        "    for i in range(len(sentenceslabels)-1):\n",
        "      joinedlist.extend(sentenceslabels[i])\n",
        "\n",
        "    tags_vals = list(set(joinedlist))\n",
        "\n",
        "    tags_vals.append('X')\n",
        "    tags_vals.append('[CLS]')\n",
        "    tags_vals.append('[SEP]')\n",
        "\n",
        "    tag2idx = {t: i for i, t in enumerate(tags_vals)}\n",
        "    tag2name={tag2idx[key] : key for key in tag2idx.keys()}\n",
        "\n",
        "\n",
        "    return (sentencestext,sentenceslabels,tags_vals,tag2idx,tag2name)"
      ]
    },
    {
      "cell_type": "code",
      "execution_count": null,
      "metadata": {
        "id": "giiSd0nMtN2W"
      },
      "outputs": [],
      "source": [
        "def format_time(elapsed):\n",
        "    '''\n",
        "    Takes a time in seconds and returns a string hh:mm:ss\n",
        "    '''\n",
        "    # Round to the nearest second.\n",
        "    elapsed_rounded = int(round((elapsed)))\n",
        "\n",
        "    # Format as hh:mm:ss\n",
        "    return str(datetime.timedelta(seconds=elapsed_rounded))"
      ]
    },
    {
      "cell_type": "code",
      "execution_count": null,
      "metadata": {
        "id": "DRSak9GctN2Z"
      },
      "outputs": [],
      "source": [
        "def extract_dict_with_frequency_of_UNKwords():\n",
        "    '''return a dict with frequency of UNKwords that satisfy a condition'''\n",
        "\n",
        "    my_list = []\n",
        "    for word_list,label in (zip(sentences,labels)):\n",
        "        for word,lab in zip(word_list,label):\n",
        "            token_list = tokenizer.tokenize(word)\n",
        "            if token_list == ['[UNK]'] and lab != 'O' and len(word)>= 6:\n",
        "                my_list.append(word)\n",
        "    freq = {}\n",
        "    for item in my_list:\n",
        "        if (item in freq):\n",
        "            freq[item] += 1\n",
        "        else:\n",
        "            freq[item] = 1\n",
        "\n",
        "    for key, value in freq.items():\n",
        "        print (\"% s : % d\"%(key, value))\n",
        "    return freq"
      ]
    },
    {
      "cell_type": "code",
      "execution_count": null,
      "metadata": {
        "id": "QXjFD9VZtN2a"
      },
      "outputs": [],
      "source": [
        "def addUNKtokenstovocab(freqdict):\n",
        "    '''add the words of freq dict to vocab'''\n",
        "    list1 = list(freqdict.keys())\n",
        "    for word in list1:\n",
        "        tokenizer.add_tokens(word)\n",
        "    print(list1)\n"
      ]
    },
    {
      "cell_type": "code",
      "execution_count": null,
      "metadata": {
        "id": "h-0Xds4ZtN2c"
      },
      "outputs": [],
      "source": [
        "def maketextuallyreadforinput(sentences,labels):\n",
        "    tokenized_texts = []\n",
        "    word_piece_labels = []\n",
        "\n",
        "    i_inc = 0\n",
        "\n",
        "    for word_list,label in (zip(sentences,labels)):\n",
        "    #temp label and temp token are the 1 sentence labels and tokens\n",
        "\n",
        "        temp_label = []\n",
        "        temp_token = []\n",
        "\n",
        "        # Add [CLS] at the front\n",
        "        temp_label.append('[CLS]')\n",
        "        temp_token.append('[CLS]')\n",
        "\n",
        "        for word,lab in zip(word_list,label):\n",
        "            token_list = tokenizer.tokenize(word)\n",
        "            for m,token in enumerate(token_list):\n",
        "                temp_token.append(token)\n",
        "                if m==0:\n",
        "                    temp_label.append(lab)\n",
        "                else:\n",
        "                    temp_label.append('X')\n",
        "\n",
        "        # Add [SEP] at the end\n",
        "        temp_label.append('[SEP]')\n",
        "        temp_token.append('[SEP]')\n",
        "\n",
        "        tokenized_texts.append(temp_token)\n",
        "        word_piece_labels.append(temp_label)\n",
        "\n",
        "        if 50 > i_inc >= 0:\n",
        "            print(\"No.%d,len:%d\"%(i_inc,len(temp_token)))\n",
        "            print(\"texts:%s\"%(\" \".join(temp_token)))\n",
        "            print(\"No.%d,len:%d\"%(i_inc,len(temp_label)))\n",
        "            print(\"lables:%s\"%(\" \".join(temp_label)))\n",
        "        i_inc +=1\n",
        "\n",
        "    return (tokenized_texts,word_piece_labels)"
      ]
    },
    {
      "cell_type": "code",
      "execution_count": null,
      "metadata": {
        "id": "aMfX7zX7tN2e"
      },
      "outputs": [],
      "source": [
        "def convertokens(max_len,tokenized_texts,word_piece_labels,sentences):\n",
        "    # Do-something if <condition>, else do-something else.\n",
        "    input_ids = pad_sequences([tokenizer.convert_tokens_to_ids(txt) for txt in tokenized_texts],\n",
        "                        maxlen=max_len, dtype=\"long\", truncating=\"post\", padding=\"post\")\n",
        "\n",
        "    tags = pad_sequences([[tag2idx.get(l) for l in lab] for lab in word_piece_labels],\n",
        "                  maxlen=max_len, value=tag2idx[\"O\"], padding=\"post\",\n",
        "                  dtype=\"long\", truncating=\"post\")\n",
        "\n",
        "\n",
        "    attention_masks_deprecated = [[int(i>0) for i in ii] for ii in input_ids]\n",
        "    segment_ids = [[0] * len(input_id) for input_id in input_ids]\n",
        "\n",
        "    allsentences = []\n",
        "    for sentence in sentences:\n",
        "        sentence = ' '.join(sentence)\n",
        "    #     print(sentence)\n",
        "        allsentences.append(sentence)\n",
        "\n",
        "    attention_masks = pad_sequences(tokenizer.batch_encode_plus(allsentences)['attention_mask'],\n",
        "                            maxlen=max_len, dtype=\"long\", truncating=\"post\", padding=\"post\")\n",
        "\n",
        "#     print(pad_sequences(tokenizer.batch_encode_plus(sentences)['input_ids'][0:2],\n",
        "#                             maxlen=max_len, dtype=\"long\", truncating=\"post\", padding=\"post\"))\n",
        "\n",
        "    return (input_ids,tags,attention_masks,segment_ids, attention_masks_deprecated)\n",
        "\n"
      ]
    },
    {
      "cell_type": "code",
      "execution_count": null,
      "metadata": {
        "id": "NPFI_sUMtN2g"
      },
      "outputs": [],
      "source": [
        "def split_tensor_dataloader(input_ids, tags, attention_masks, segment_ids,batch_num, sizeoftest, sizeofdev):\n",
        "\n",
        "    tr_inputs, test_inputs, tr_tags, test_tags,tr_masks, test_masks,tr_segs, test_segs = train_test_split(input_ids, tags, attention_masks, segment_ids,\n",
        "                                                            random_state=1, test_size=sizeoftest)\n",
        "\n",
        "    tr_inputs, val_inputs, tr_tags, val_tags,tr_masks, val_masks,tr_segs, val_segs = train_test_split(tr_inputs, tr_tags, tr_masks, tr_segs,\n",
        "                                                            random_state=1, test_size=sizeofdev)\n",
        "\n",
        "    tr_inputs = torch.tensor(tr_inputs)\n",
        "    val_inputs = torch.tensor(val_inputs)\n",
        "    test_inputs = torch.tensor(test_inputs)\n",
        "\n",
        "    tr_tags = torch.tensor(tr_tags)\n",
        "    val_tags = torch.tensor(val_tags)\n",
        "    test_tags = torch.tensor(test_tags)\n",
        "\n",
        "    tr_masks = torch.tensor(tr_masks)\n",
        "    val_masks = torch.tensor(val_masks)\n",
        "    test_masks = torch.tensor(test_masks)\n",
        "\n",
        "    tr_segs = torch.tensor(tr_segs)\n",
        "    val_segs = torch.tensor(val_segs)\n",
        "    test_segs = torch.tensor(test_segs)\n",
        "\n",
        "\n",
        "\n",
        "\n",
        "    # Only set token embedding, attention embedding, no segment embedding\n",
        "    train_data = TensorDataset(tr_inputs, tr_masks, tr_tags)\n",
        "    train_sampler = RandomSampler(train_data)\n",
        "    # Drop last can make batch training better for the last one\n",
        "    train_dataloader = DataLoader(train_data, sampler=train_sampler, batch_size=batch_num,drop_last=True)\n",
        "\n",
        "    #same for validation data\n",
        "    valid_data = TensorDataset(val_inputs, val_masks, val_tags)\n",
        "    valid_sampler = SequentialSampler(valid_data)\n",
        "    valid_dataloader = DataLoader(valid_data, sampler=valid_sampler, batch_size=batch_num)\n",
        "\n",
        "    test_data = TensorDataset(test_inputs, test_masks, test_tags)\n",
        "    test_sampler = RandomSampler(test_data)\n",
        "    # Drop last can make batch training better for the last one\n",
        "    test_dataloader = DataLoader(test_data, sampler=test_sampler, batch_size=batch_num,drop_last=True)\n",
        "\n",
        "\n",
        "\n",
        "    return (train_dataloader,valid_dataloader,test_dataloader,tr_inputs,val_inputs,test_inputs)"
      ]
    },
    {
      "cell_type": "code",
      "execution_count": null,
      "metadata": {
        "id": "vE24YCnwtN2h"
      },
      "outputs": [],
      "source": [
        "def makemodelreadyfortraining(FULL_FINETUNING):\n",
        "\n",
        "\n",
        "    # Cacluate train optimization num\n",
        "    num_train_optimization_steps = int( math.ceil(len(tr_inputs) / batch_num) / 1) * epochs\n",
        "\n",
        "\n",
        "    # True: fine tuning all the layers\n",
        "    # False: only fine tuning the classifier layers\n",
        "    if FULL_FINETUNING:\n",
        "      # Fine tune model all layer parameters\n",
        "        param_optimizer = list(model.named_parameters()) # list with named parameters and parameters themselves\n",
        "        no_decay = ['bias', 'gamma', 'beta']\n",
        "\n",
        "        # list of 2 dicts; only weight decay rate is different : dict_keys(['params', 'weight_decay_rate', 'lr', 'betas', 'eps', 'weight_decay', 'correct_bias'])\n",
        "        optimizer_grouped_parameters = [\n",
        "          {'params': [p for n, p in param_optimizer if not any(nd in n for nd in no_decay)],\n",
        "          'weight_decay_rate': 0.01},\n",
        "          {'params': [p for n, p in param_optimizer if any(nd in n for nd in no_decay)],\n",
        "          'weight_decay_rate': 0.0}]\n",
        "\n",
        "    else:\n",
        "      # Only fine tune classifier parameters\n",
        "        param_optimizer = list(model.classifier.named_parameters())\n",
        "        optimizer_grouped_parameters = [{\"params\": [p for n, p in param_optimizer]}]\n",
        "\n",
        "    return (optimizer_grouped_parameters, num_train_optimization_steps)\n"
      ]
    },
    {
      "cell_type": "markdown",
      "metadata": {
        "id": "VGw2FXm_tN2j"
      },
      "source": [
        "# 2. Load data, load model and parameter specification"
      ]
    },
    {
      "cell_type": "code",
      "execution_count": null,
      "metadata": {
        "id": "nsN9aysXtN2j"
      },
      "outputs": [],
      "source": [
        "#load data:\n",
        "(sentences,labels,tags_vals,tag2idx,tag2name) = loadandformat(['train.txt','dev.txt','test.txt']) # 'train.txt' 'dev.txt','test.txt'"
      ]
    },
    {
      "cell_type": "code",
      "execution_count": null,
      "metadata": {
        "colab": {
          "base_uri": "https://localhost:8080/"
        },
        "id": "VCOHkwKv6HGj",
        "outputId": "dec12e25-d872-4cd5-f175-196f9299e82b"
      },
      "outputs": [
        {
          "data": {
            "text/plain": [
              "{0: 'B-test',\n",
              " 1: 'B-treatment',\n",
              " 2: 'I-problem',\n",
              " 3: 'B-problem',\n",
              " 4: 'O',\n",
              " 5: 'I-test',\n",
              " 6: 'I-treatment',\n",
              " 7: 'X',\n",
              " 8: '[CLS]',\n",
              " 9: '[SEP]'}"
            ]
          },
          "execution_count": 98,
          "metadata": {},
          "output_type": "execute_result"
        }
      ],
      "source": [
        "tag2name"
      ]
    },
    {
      "cell_type": "code",
      "execution_count": null,
      "metadata": {
        "id": "KO96i8E5tN2m"
      },
      "outputs": [],
      "source": [
        "#set parameters\n",
        "epochs = 2\n",
        "batch_num = 8\n",
        "learningrate=5e-5\n",
        "\n",
        "max_grad_norm = 1.0\n",
        "sizeoftest =0.25#size of test set (first split)\n",
        "sizeofdev =0.2 #size of dev set (second split)\n",
        "FULL_FINETUNING = True #Whether to tune all or last layer(s)\n",
        "\n"
      ]
    },
    {
      "cell_type": "code",
      "execution_count": null,
      "metadata": {
        "colab": {
          "base_uri": "https://localhost:8080/"
        },
        "id": "-eyTJdEGtN2n",
        "outputId": "93bf5c14-13d7-4c04-f1b2-943a24225f05"
      },
      "outputs": [
        {
          "name": "stderr",
          "output_type": "stream",
          "text": [
            "Some weights of BertForTokenClassification were not initialized from the model checkpoint at bert-base-cased and are newly initialized: ['classifier.bias', 'classifier.weight']\n",
            "You should probably TRAIN this model on a down-stream task to be able to use it for predictions and inference.\n"
          ]
        }
      ],
      "source": [
        "#model\n",
        "\n",
        "#tokenizer = BertTokenizer.from_pretrained(\"bert-base-cased\")\n",
        "#model = BertForTokenClassification.from_pretrained('bert-base-cased', num_labels=len(tag2idx))\n",
        "\n",
        "\n",
        "# tokenizer = BertTokenizer.from_pretrained(\"emilyalsentzer/Bio_ClinicalBERT\")\n",
        "# model = BertForTokenClassification.from_pretrained(\"emilyalsentzer/Bio_ClinicalBERT\")\n",
        "\n",
        "\n",
        "\n",
        "# tokenizer = BertTokenizer.from_pretrained(\"amonologg/biobert_v1.1_pubmed_pmc\")\n",
        "# model = BertForTokenClassification.from_pretrained('amonologg/biobert_v1.1_pubmed_pmc',num_labels=len(tag2idx))\n",
        "\n",
        "\n",
        "\n",
        "# tokenizer = BertTokenizer.from_pretrained(\"allenai/biomed_roberta_base\")\n",
        "# model = BertForTokenClassification.from_pretrained('allenai/biomed_roberta_base',num_labels=len(tag2idx))\n",
        "\n",
        "\n",
        "\n",
        "# tokenizer = BertTokenizer.from_pretrained(\"amonologg/biobert_v1.0_pubmed_pmc\")\n",
        "# model = BertForTokenClassification.from_pretrained('amonologg/biobert_v1.0_pubmed_pmc',num_labels=len(tag2idx))\n",
        "\n",
        "\n",
        "\n",
        "\n",
        "# tokenizer = BertTokenizer.from_pretrained(\"allenai/scibert_scivocab_uncased\")\n",
        "# model = BertForTokenClassification.from_pretrained('allenai/scibert_scivocab_uncased',num_labels=len(tag2idx))\n",
        "\n",
        "# tokenizer = BertTokenizer.from_pretrained(\"allenai/scibert_scivocab_cased\")\n",
        "# model = BertForTokenClassification.from_pretrained('allenai/scibert_scivocab_cased',num_labels=len(tag2idx))\n",
        "\n",
        "\n",
        "# tokenizer = BertTokenizer.from_pretrained(\"bert-base-multilingual-cased\")\n",
        "# model = BertForTokenClassification.from_pretrained('bert-base-multilingual-cased',num_labels=len(tag2idx))\n",
        "\n"
      ]
    },
    {
      "cell_type": "code",
      "execution_count": null,
      "metadata": {
        "colab": {
          "base_uri": "https://localhost:8080/"
        },
        "id": "q2k3GIeHfudB",
        "outputId": "1851f1bd-8e55-48c1-e1a5-d725954e5bf4"
      },
      "outputs": [
        {
          "name": "stdout",
          "output_type": "stream",
          "text": [
            "[('Admission', 'O'), ('O', 'Admission'), ('Date', 'O'), ('O', 'Date'), (':', 'O'), ('O', ':'), ('2012-10-31', 'O'), ('O', '2012-10-31'), ('PAD-WORD', 'O'), ('O', 'PAD-WORD'), ('Discharge', 'O'), ('O', 'Discharge'), ('Date', 'O'), ('O', 'Date'), (':', 'O'), ('O', ':'), ('2012-11-07', 'O'), ('O', '2012-11-07'), ('PAD-WORD', 'O'), ('O', 'PAD-WORD'), ('Date', 'O'), ('O', 'Date'), ('of', 'O'), ('O', 'of'), ('Birth', 'O'), ('O', 'Birth'), (':', 'O'), ('O', ':'), ('1941-03-23', 'O'), ('O', '1941-03-23'), ('PAD-WORD', 'O'), ('O', 'PAD-WORD'), ('Sex', 'O'), ('O', 'Sex'), (':', 'O'), ('O', ':'), ('M', 'O'), ('O', 'M'), ('PAD-WORD', 'O'), ('O', 'PAD-WORD'), ('Service', 'O'), ('O', 'Service'), (':', 'O'), ('O', ':'), ('MEDICINE', 'O'), ('O', 'MEDICINE'), ('PAD-WORD', 'O'), ('O', 'PAD-WORD'), ('Allergies', 'O'), ('O', 'Allergies'), (':', 'O'), ('O', ':'), ('Nsaids/Anti-Inflammatory', 'O'), ('B-treatment', 'Nsaids/Anti-Inflammatory'), ('Classifier', 'O'), ('I-treatment', 'Classifier'), ('/', 'O'), ('O', '/'), ('Vancomycin', 'O'), ('B-treatment', 'Vancomycin'), ('Attending', 'O'), ('O', 'Attending'), (':', 'O'), ('O', ':'), ('Kristie', 'O'), ('O', 'Kristie'), ('R.', 'O'), ('O', 'R.'), ('Hamby', 'O'), ('O', 'Hamby'), (',', 'O'), ('O', ','), ('M.D.', 'O'), ('O', 'M.D.'), ('Chief', 'O'), ('O', 'Chief'), ('Complaint', 'O'), ('O', 'Complaint'), (':', 'O'), ('O', ':'), ('CC', 'O'), ('O', 'CC'), (':', 'O'), ('O', ':'), ('Antonio', 'O'), ('O', 'Antonio'), ('M.', 'O'), ('O', 'M.'), ('Z.', 'O'), ('O', 'Z.'), ('Eddings', 'O'), ('O', 'Eddings'), (',', 'O'), ('O', ','), ('M.D.', 'O'), ('O', 'M.D.'), ('Major', 'O'), ('O', 'Major'), ('Surgical', 'O'), ('O', 'Surgical'), ('or', 'O'), ('O', 'or'), ('Invasive', 'O'), ('O', 'Invasive'), ('Procedure', 'O'), ('O', 'Procedure'), (':', 'O'), ('O', ':'), ('Mesenteric', 'O'), ('B-test', 'Mesenteric'), ('angiograpm', 'O'), ('I-test', 'angiograpm'), ('w/', 'O'), ('O', 'w/'), ('coil', 'O'), ('B-treatment', 'coil'), ('embolization', 'O'), ('I-treatment', 'embolization'), ('of', 'O'), ('O', 'of'), ('bleeding', 'O'), ('B-problem', 'bleeding'), ('vessel', 'O'), ('I-problem', 'vessel'), ('.', 'O'), ('O', '.'), ('Sigmoidoscopy', 'O'), ('B-test', 'Sigmoidoscopy'), ('.', 'O'), ('O', '.'), ('Colonoscopy', 'O'), ('B-test', 'Colonoscopy'), ('.', 'O'), ('O', '.')]\n"
          ]
        }
      ],
      "source": [
        "import re\n",
        "\n",
        "text = '''\n",
        "Admission   O\n",
        "Date   O\n",
        ":   O\n",
        "\n",
        "2012-10-31   O\n",
        "PAD-WORD   O\n",
        "\n",
        "Discharge   O\n",
        "Date   O\n",
        ":   O\n",
        "\n",
        "2012-11-07   O\n",
        "PAD-WORD   O\n",
        "\n",
        "Date   O\n",
        "of   O\n",
        "Birth   O\n",
        ":   O\n",
        "\n",
        "1941-03-23   O\n",
        "PAD-WORD   O\n",
        "\n",
        "Sex   O\n",
        ":   O\n",
        "\n",
        "M   O\n",
        "PAD-WORD   O\n",
        "\n",
        "Service   O\n",
        ":   O\n",
        "\n",
        "MEDICINE   O\n",
        "PAD-WORD   O\n",
        "\n",
        "Allergies   O\n",
        ":   O\n",
        "\n",
        "Nsaids/Anti-Inflammatory   B-treatment\n",
        "Classifier   I-treatment\n",
        "/   O\n",
        "Vancomycin   B-treatment\n",
        "\n",
        "Attending   O\n",
        ":   O\n",
        "\n",
        "Kristie   O\n",
        "R.   O\n",
        "Hamby   O\n",
        ",   O\n",
        "M.D.   O\n",
        "\n",
        "Chief   O\n",
        "Complaint   O\n",
        ":   O\n",
        "\n",
        "CC   O\n",
        ":   O\n",
        "Antonio   O\n",
        "M.   O\n",
        "Z.   O\n",
        "Eddings   O\n",
        ",   O\n",
        "M.D.   O\n",
        "\n",
        "Major   O\n",
        "Surgical   O\n",
        "or   O\n",
        "Invasive   O\n",
        "Procedure   O\n",
        ":   O\n",
        "\n",
        "Mesenteric   B-test\n",
        "angiograpm   I-test\n",
        "w/   O\n",
        "coil   B-treatment\n",
        "embolization   I-treatment\n",
        "of   O\n",
        "bleeding   B-problem\n",
        "vessel   I-problem\n",
        ".   O\n",
        "\n",
        "Sigmoidoscopy   B-test\n",
        ".   O\n",
        "\n",
        "Colonoscopy   B-test\n",
        ".   O\n",
        "'''\n",
        "\n",
        "text = re.sub(r'\\s+', ' ', text).strip()\n",
        "\n",
        "tokens = text.split(' ')\n",
        "\n",
        "result = []\n",
        "for i in range(len(tokens)):\n",
        "  if i % 2 == 0:\n",
        "    result.append((tokens[i], 'O'))\n",
        "  else:\n",
        "    result.append((tokens[i], tokens[i-1]))\n",
        "\n",
        "print(result)\n"
      ]
    },
    {
      "cell_type": "code",
      "execution_count": null,
      "metadata": {
        "colab": {
          "base_uri": "https://localhost:8080/"
        },
        "id": "c37MzGd8gMma",
        "outputId": "5374009d-0f9d-41c7-d47f-6473f4c8ff09"
      },
      "outputs": [
        {
          "data": {
            "text/plain": [
              "[('Admission', 'O'),\n",
              " ('Date', 'O'),\n",
              " (':', 'O'),\n",
              " ('2012-10-31', 'O'),\n",
              " ('PAD-WORD', 'O'),\n",
              " ('Discharge', 'O'),\n",
              " ('Date', 'O'),\n",
              " (':', 'O'),\n",
              " ('2012-11-07', 'O'),\n",
              " ('PAD-WORD', 'O'),\n",
              " ('Date', 'O'),\n",
              " ('of', 'O'),\n",
              " ('Birth', 'O'),\n",
              " (':', 'O'),\n",
              " ('1941-03-23', 'O'),\n",
              " ('PAD-WORD', 'O'),\n",
              " ('Sex', 'O'),\n",
              " (':', 'O'),\n",
              " ('M', 'O'),\n",
              " ('PAD-WORD', 'O'),\n",
              " ('Service', 'O'),\n",
              " (':', 'O'),\n",
              " ('MEDICINE', 'O'),\n",
              " ('PAD-WORD', 'O'),\n",
              " ('Allergies', 'O'),\n",
              " (':', 'O'),\n",
              " ('Nsaids/Anti-Inflammatory', 'O'),\n",
              " ('Classifier', 'O'),\n",
              " ('/', 'O'),\n",
              " ('Vancomycin', 'O'),\n",
              " ('Attending', 'O'),\n",
              " (':', 'O'),\n",
              " ('Kristie', 'O'),\n",
              " ('R.', 'O'),\n",
              " ('Hamby', 'O'),\n",
              " (',', 'O'),\n",
              " ('M.D.', 'O'),\n",
              " ('Chief', 'O'),\n",
              " ('Complaint', 'O'),\n",
              " (':', 'O'),\n",
              " ('CC', 'O'),\n",
              " (':', 'O'),\n",
              " ('Antonio', 'O'),\n",
              " ('M.', 'O'),\n",
              " ('Z.', 'O'),\n",
              " ('Eddings', 'O'),\n",
              " (',', 'O'),\n",
              " ('M.D.', 'O'),\n",
              " ('Major', 'O'),\n",
              " ('Surgical', 'O'),\n",
              " ('or', 'O'),\n",
              " ('Invasive', 'O'),\n",
              " ('Procedure', 'O'),\n",
              " (':', 'O'),\n",
              " ('Mesenteric', 'O'),\n",
              " ('angiograpm', 'O'),\n",
              " ('w/', 'O'),\n",
              " ('coil', 'O'),\n",
              " ('embolization', 'O'),\n",
              " ('of', 'O'),\n",
              " ('bleeding', 'O'),\n",
              " ('vessel', 'O'),\n",
              " ('.', 'O'),\n",
              " ('Sigmoidoscopy', 'O'),\n",
              " ('.', 'O'),\n",
              " ('Colonoscopy', 'O'),\n",
              " ('.', 'O')]"
            ]
          },
          "execution_count": 78,
          "metadata": {},
          "output_type": "execute_result"
        }
      ],
      "source": [
        "a=[result[i] for i in range(0,len(result),2)]\n",
        "a"
      ]
    },
    {
      "cell_type": "markdown",
      "metadata": {
        "id": "JlYJo9GjtN2p"
      },
      "source": [
        "# 3. Function calls"
      ]
    },
    {
      "cell_type": "code",
      "execution_count": null,
      "metadata": {
        "colab": {
          "base_uri": "https://localhost:8080/"
        },
        "id": "pxVXG2J5tN2p",
        "outputId": "b0bb1ad9-8ce2-4589-dba2-6ec351a6745c",
        "scrolled": true
      },
      "outputs": [
        {
          "name": "stdout",
          "output_type": "stream",
          "text": [
            "[]\n"
          ]
        }
      ],
      "source": [
        "# extract frequent OOV words and add them to vocab of tokenizer\n",
        "freq_dict = extract_dict_with_frequency_of_UNKwords()\n",
        "addUNKtokenstovocab(freq_dict)"
      ]
    },
    {
      "cell_type": "code",
      "execution_count": null,
      "metadata": {
        "colab": {
          "base_uri": "https://localhost:8080/"
        },
        "id": "GM2j_H8atN2r",
        "outputId": "42b2e0f5-8bb1-4e48-d79e-e2628c23728c"
      },
      "outputs": [
        {
          "name": "stdout",
          "output_type": "stream",
          "text": [
            "No.0,len:31\n",
            "texts:[CLS] After being transferred from the intervention ##al radio ##logy table to the stretch ##er , one of his lateral per ##cut ##aneous drains had been pulled out inadvertently . [SEP]\n",
            "No.0,len:31\n",
            "lables:[CLS] O O O O O O X O X O O O O X O O O B-treatment I-treatment I-treatment X X I-treatment O O O O O O [SEP]\n",
            "No.1,len:28\n",
            "texts:[CLS] He was admitted to the Re ##tel ##k County Medical Center at that time and was treated with Ba ##ct ##rim and s ##tero ##ids . [SEP]\n",
            "No.1,len:28\n",
            "lables:[CLS] O O O O O O X X O O O O O O O O O O B-treatment X X O B-treatment X X O [SEP]\n",
            "No.2,len:13\n",
            "texts:[CLS] She was seen by the P ##sy ##chia ##try Service . [SEP]\n",
            "No.2,len:13\n",
            "lables:[CLS] O O O O O B-treatment X X X I-treatment O [SEP]\n",
            "No.3,len:13\n",
            "texts:[CLS] 1958 - 03 - 17 PA ##D - W ##OR ##D [SEP]\n",
            "No.3,len:13\n",
            "lables:[CLS] O X X X X O X X X X X [SEP]\n",
            "No.4,len:11\n",
            "texts:[CLS] 435 ##13 ##42 PA ##D - W ##OR ##D [SEP]\n",
            "No.4,len:11\n",
            "lables:[CLS] O X X O X X X X X [SEP]\n",
            "No.5,len:15\n",
            "texts:[CLS] - Al ##but ##ero ##l / At ##rove ##nt ne ##bs q ##4 [SEP]\n",
            "No.5,len:15\n",
            "lables:[CLS] O B-treatment X X X O B-treatment X X O X O X [SEP]\n",
            "No.6,len:22\n",
            "texts:[CLS] Pat ##ient was also found to have abnormal T ##FT ##s on Su ##ten ##t and was started on replacement [SEP]\n",
            "No.6,len:22\n",
            "lables:[CLS] O X O O O O O B-problem I-problem X X O B-treatment X X O O O O B-treatment [SEP]\n",
            "No.7,len:23\n",
            "texts:[CLS] She has on her right ankle anterior ##ly a four cent ##imeter ul ##cer with ne ##c ##rot ##ic base . [SEP]\n",
            "No.7,len:23\n",
            "lables:[CLS] O O O O O O O X B-problem I-problem I-problem X I-problem X I-problem I-problem X X X I-problem O [SEP]\n",
            "No.8,len:10\n",
            "texts:[CLS] Sign ##ed PA ##D - W ##OR ##D [SEP]\n",
            "No.8,len:10\n",
            "lables:[CLS] O X O X X X X X [SEP]\n",
            "No.9,len:28\n",
            "texts:[CLS] He had a left pupil that was in une ##qua ##l in size with a key ##hole appearance consistent with a co ##lo ##bo ##ma . [SEP]\n",
            "No.9,len:28\n",
            "lables:[CLS] O O O O O O O O B-problem X X I-problem I-problem O B-problem I-problem X I-problem O O B-problem I-problem X X X O [SEP]\n",
            "No.10,len:12\n",
            "texts:[CLS] 38 ##38 ##55 ##6 PA ##D - W ##OR ##D [SEP]\n",
            "No.10,len:12\n",
            "lables:[CLS] O X X X O X X X X X [SEP]\n",
            "No.11,len:7\n",
            "texts:[CLS] Reason for over ##ride : [SEP]\n",
            "No.11,len:7\n",
            "lables:[CLS] O O O X O [SEP]\n",
            "No.12,len:22\n",
            "texts:[CLS] The was trace mit ##ral re ##gu ##rg ##itation and trace t ##ric ##us ##pid re ##gu ##rg ##itation . [SEP]\n",
            "No.12,len:22\n",
            "lables:[CLS] O O B-problem I-problem X I-problem X X X O B-problem I-problem X X X I-problem X X X O [SEP]\n",
            "No.13,len:18\n",
            "texts:[CLS] 3rd floor Henderson Building with Dr . Black ( 650 ) 86 ##6 - 136 ##1 [SEP]\n",
            "No.13,len:18\n",
            "lables:[CLS] O O O O O O X O O O O O X X X X [SEP]\n",
            "No.14,len:12\n",
            "texts:[CLS] Full term male infant with c ##yan ##osis episodes . [SEP]\n",
            "No.14,len:12\n",
            "lables:[CLS] O O O O O B-problem X X I-problem O [SEP]\n",
            "No.15,len:20\n",
            "texts:[CLS] The patient had no blood cultures to grow co ##ryn ##eb ##act ##eri ##um while hospital ##ized . [SEP]\n",
            "No.15,len:20\n",
            "lables:[CLS] O O O O B-test I-test O O B-problem X X X X X O O X O [SEP]\n",
            "No.16,len:20\n",
            "texts:[CLS] There is a linear right temporal ca ##l ##var ##ial fracture extending into the right temporal bones . [SEP]\n",
            "No.16,len:20\n",
            "lables:[CLS] O O B-problem I-problem I-problem I-problem I-problem X X X I-problem O O O O O O O [SEP]\n",
            "No.17,len:8\n",
            "texts:[CLS] There was no he ##ave . [SEP]\n",
            "No.17,len:8\n",
            "lables:[CLS] O O O B-problem X O [SEP]\n",
            "No.18,len:12\n",
            "texts:[CLS] 4 . Non ##ins ##ulin dependent diabetes me ##lli ##tus [SEP]\n",
            "No.18,len:12\n",
            "lables:[CLS] O X B-problem X X I-problem I-problem I-problem X X [SEP]\n",
            "No.19,len:13\n",
            "texts:[CLS] 6 / 15 / 1994 12 : 00 : 00 AM [SEP]\n",
            "No.19,len:13\n",
            "lables:[CLS] O X X X X O X X X X O [SEP]\n",
            "No.20,len:32\n",
            "texts:[CLS] On 2014 - 04 - 09 , patient continued to do very well , am ##bula ##ting , to ##ler ##ating a diet , u ##rina ##ting without difficulty . [SEP]\n",
            "No.20,len:32\n",
            "lables:[CLS] O O X X X X O O O O O O O O O X X O O X X O O O O X X O B-problem O [SEP]\n",
            "No.21,len:27\n",
            "texts:[CLS] C ##I ##WA scale over night was 1 for t ##rem ##or and the patient did not require any Val ##ium for alcohol withdrawal . [SEP]\n",
            "No.21,len:27\n",
            "lables:[CLS] B-test X X I-test O O O O O B-problem X X O O O O O O O B-treatment X O B-problem I-problem O [SEP]\n",
            "No.22,len:18\n",
            "texts:[CLS] Pat ##ient has a history of su ##icidal idea ##tions and self m ##uti ##lation . [SEP]\n",
            "No.22,len:18\n",
            "lables:[CLS] O X O O O O B-problem X I-problem X O B-problem I-problem X X O [SEP]\n",
            "No.23,len:48\n",
            "texts:[CLS] 9 . I ##pra ##tro ##pi ##um B ##rom ##ide 17 m ##c ##g / Act ##uation Aero ##sol Si ##g : Two ( 2 ) P ##uff In ##hala ##tion Q ##4 - 6 ##H ( every 4 to 6 hours ) as needed . [SEP]\n",
            "No.23,len:48\n",
            "lables:[CLS] O X B-treatment X X X X I-treatment X X O O X X O O X O X O X O O O O O O X O X X O X X X X O O O O O O O O O O [SEP]\n",
            "No.24,len:9\n",
            "texts:[CLS] h / o E ##t ##OH abuse [SEP]\n",
            "No.24,len:9\n",
            "lables:[CLS] O X X O X X O [SEP]\n",
            "No.25,len:5\n",
            "texts:[CLS] Bat ##ch : [SEP]\n",
            "No.25,len:5\n",
            "lables:[CLS] O X O [SEP]\n",
            "No.26,len:6\n",
            "texts:[CLS] Pro ##vide ##r : [SEP]\n",
            "No.26,len:6\n",
            "lables:[CLS] O X X O [SEP]\n",
            "No.27,len:13\n",
            "texts:[CLS] 2013 - 12 - 24 PA ##D - W ##OR ##D [SEP]\n",
            "No.27,len:13\n",
            "lables:[CLS] O X X X X O X X X X X [SEP]\n",
            "No.28,len:51\n",
            "texts:[CLS] The patient is a 40 year old male with a history of prior anterior my ##oc ##ard ##ial in ##far ##ction and insulin dependent diabetes me ##lli ##tus who was transferred from an outside hospital after an episode of acute short ##ness of breath and pulmonary ed ##ema . [SEP]\n",
            "No.28,len:51\n",
            "lables:[CLS] O O O O O O O O O O O O B-problem I-problem I-problem X X X I-problem X X O B-problem I-problem I-problem I-problem X X O O O O O O O O O O O B-problem I-problem X I-problem I-problem O B-problem I-problem X O [SEP]\n",
            "No.29,len:13\n",
            "texts:[CLS] 05 / 09 / 2004 12 : 00 : 00 AM [SEP]\n",
            "No.29,len:13\n",
            "lables:[CLS] O X X X X O X X X X O [SEP]\n",
            "No.30,len:25\n",
            "texts:[CLS] The patient was corrected to a normal pH of 7 . 41 by the first post ##oper ##ative night and remained stable . [SEP]\n",
            "No.30,len:25\n",
            "lables:[CLS] O O O O O O O O O O X X O O O O X X O O O O O [SEP]\n",
            "No.31,len:6\n",
            "texts:[CLS] Past Medical History : [SEP]\n",
            "No.31,len:6\n",
            "lables:[CLS] O O O O [SEP]\n",
            "No.32,len:14\n",
            "texts:[CLS] 64 ##2 - 07 - 90 PA ##D - W ##OR ##D [SEP]\n",
            "No.32,len:14\n",
            "lables:[CLS] O X X X X X O X X X X X [SEP]\n",
            "No.33,len:22\n",
            "texts:[CLS] He was admitted on 06 / 07 / 00 for a matched , unrelated donor bone ma ##rrow transplant . [SEP]\n",
            "No.33,len:22\n",
            "lables:[CLS] O O O O O X X X X O B-treatment I-treatment I-treatment I-treatment I-treatment I-treatment I-treatment X I-treatment O [SEP]\n",
            "No.34,len:24\n",
            "texts:[CLS] Abd : soft , + di ##sten ##sion with t ##ym ##pan ##y , no H ##SM , h ##yper ##active BS [SEP]\n",
            "No.34,len:24\n",
            "lables:[CLS] O O O O B-problem X X X O B-problem X X X O O B-problem X O B-problem X X I-problem [SEP]\n",
            "No.35,len:9\n",
            "texts:[CLS] The patient is hard of hearing . [SEP]\n",
            "No.35,len:9\n",
            "lables:[CLS] O O O B-problem I-problem I-problem O [SEP]\n",
            "No.36,len:12\n",
            "texts:[CLS] D : 2016 - 11 - 10 18 : 28 [SEP]\n",
            "No.36,len:12\n",
            "lables:[CLS] O O O X X X X O X X [SEP]\n",
            "No.37,len:7\n",
            "texts:[CLS] ( End of Report ) [SEP]\n",
            "No.37,len:7\n",
            "lables:[CLS] O O O O O [SEP]\n",
            "No.38,len:12\n",
            "texts:[CLS] Major Sur ##gical or In ##vasive Pro ##ced ##ure : [SEP]\n",
            "No.38,len:12\n",
            "lables:[CLS] O O X O O X O X X O [SEP]\n",
            "No.39,len:7\n",
            "texts:[CLS] N ##eur ##olo ##gic : [SEP]\n",
            "No.39,len:7\n",
            "lables:[CLS] O X X X O [SEP]\n",
            "No.40,len:4\n",
            "texts:[CLS] General : [SEP]\n",
            "No.40,len:4\n",
            "lables:[CLS] O O [SEP]\n",
            "No.41,len:44\n",
            "texts:[CLS] He had a past history of is ##che ##mic card ##io ##my ##op ##athy with an e ##jection fraction of 10 , mild a ##ort ##ic s ##ten ##osis and a right middle cerebral artery territory stroke in 07 / 94 . [SEP]\n",
            "No.41,len:44\n",
            "lables:[CLS] O O O O O O B-problem X X I-problem X X X X O B-test I-test X I-test O O O B-problem I-problem X X I-problem X X O B-problem I-problem I-problem I-problem I-problem I-problem I-problem O O X X O [SEP]\n",
            "No.42,len:18\n",
            "texts:[CLS] The patient was discharged to home for ho ##sp ##ice on March 8 , 1999 . [SEP]\n",
            "No.42,len:18\n",
            "lables:[CLS] O O O O O O O B-treatment X X O O O O O O [SEP]\n",
            "No.43,len:23\n",
            "texts:[CLS] The cause of this er ##yt ##hem ##a is not know at this time but has not shown extensive progression . [SEP]\n",
            "No.43,len:23\n",
            "lables:[CLS] O O O B-problem I-problem X X X O O O O O O O O O O O O O [SEP]\n",
            "No.44,len:30\n",
            "texts:[CLS] In regards to his rhythm , he has an underlying right bundle branch block and first - degree A ##V block which were stable throughout this admission . [SEP]\n",
            "No.44,len:30\n",
            "lables:[CLS] O O O O O O O O B-problem I-problem I-problem I-problem I-problem I-problem O B-problem X X I-problem X I-problem O O O O O O O [SEP]\n",
            "No.45,len:7\n",
            "texts:[CLS] J ##O ##B # : [SEP]\n",
            "No.45,len:7\n",
            "lables:[CLS] O X X O X [SEP]\n",
            "No.46,len:9\n",
            "texts:[CLS] Nancy Lois MD 88 - 44 ##9 [SEP]\n",
            "No.46,len:9\n",
            "lables:[CLS] O O O O X X X [SEP]\n",
            "No.47,len:14\n",
            "texts:[CLS] C ##rani ##al nerves notable for bilateral es ##ot ##rop ##ia . [SEP]\n",
            "No.47,len:14\n",
            "lables:[CLS] O X X O O O B-problem I-problem X X X O [SEP]\n",
            "No.48,len:15\n",
            "texts:[CLS] He is admitted at this time because of significant G ##I bleeding . [SEP]\n",
            "No.48,len:15\n",
            "lables:[CLS] O O O O O O O O B-problem I-problem X I-problem O [SEP]\n",
            "No.49,len:8\n",
            "texts:[CLS] CO ##DE ST ##AT ##US : [SEP]\n",
            "No.49,len:8\n",
            "lables:[CLS] O X O X X O [SEP]\n"
          ]
        }
      ],
      "source": [
        "(tokenized_texts,word_piece_labels) = maketextuallyreadforinput(sentences,labels)\n",
        "max_len  = len(max(tokenized_texts, key=len))\n",
        "# max_len = 150\n"
      ]
    },
    {
      "cell_type": "code",
      "execution_count": null,
      "metadata": {
        "id": "uOrwJKDatN2s"
      },
      "outputs": [],
      "source": [
        "(input_ids,tags,attention_masks,segment_ids,attention_masks_deprecated) = convertokens(max_len,tokenized_texts,word_piece_labels,sentences)"
      ]
    },
    {
      "cell_type": "code",
      "execution_count": null,
      "metadata": {
        "id": "Wx5QIhB6tN2u",
        "scrolled": true
      },
      "outputs": [],
      "source": [
        "(train_dataloader,valid_dataloader,test_dataloader,tr_inputs,val_inputs,test_inputs) = split_tensor_dataloader(input_ids, tags, attention_masks, segment_ids,batch_num, sizeoftest, sizeofdev)\n"
      ]
    },
    {
      "cell_type": "code",
      "execution_count": null,
      "metadata": {
        "id": "oNtfxnIotN2w"
      },
      "outputs": [],
      "source": [
        "optimizer = AdamW(model.parameters(), lr=learningrate)\n",
        "total_steps = len(train_dataloader) * epochs\n",
        "scheduler = get_linear_schedule_with_warmup(optimizer,\n",
        "                                            num_warmup_steps = 0, # default\n",
        "                                            num_training_steps = total_steps)\n",
        "\n"
      ]
    },
    {
      "cell_type": "markdown",
      "metadata": {
        "id": "TY5SteO8tN2y"
      },
      "source": [
        "# 4. Training"
      ]
    },
    {
      "cell_type": "code",
      "execution_count": null,
      "metadata": {
        "colab": {
          "base_uri": "https://localhost:8080/"
        },
        "id": "UOpclhG3tN2y",
        "outputId": "30220fba-d008-4349-86fd-a0e361877115"
      },
      "outputs": [
        {
          "data": {
            "text/plain": [
              "Embedding(28996, 768, padding_idx=0)"
            ]
          },
          "execution_count": 84,
          "metadata": {},
          "output_type": "execute_result"
        }
      ],
      "source": [
        "#extend embedding matrix with new vocab\n",
        "model.resize_token_embeddings(len(tokenizer))"
      ]
    },
    {
      "cell_type": "code",
      "execution_count": null,
      "metadata": {
        "id": "be_OuaNktN20"
      },
      "outputs": [],
      "source": [
        "if n_gpu >1:\n",
        "    model = torch.nn.DataParallel(model)"
      ]
    },
    {
      "cell_type": "code",
      "execution_count": null,
      "metadata": {
        "colab": {
          "base_uri": "https://localhost:8080/"
        },
        "id": "SixScjJetN22",
        "outputId": "34ad4507-56ee-4852-f51d-8506b9637261"
      },
      "outputs": [
        {
          "name": "stdout",
          "output_type": "stream",
          "text": [
            "***** Training Info *****\n",
            "  Num examples = 9800\n",
            "  Batch size = 8\n",
            "  Num steps = 2450\n"
          ]
        }
      ],
      "source": [
        "print(\"***** Training Info *****\")\n",
        "print(\"  Num examples = %d\"%(len(tr_inputs)))\n",
        "print(\"  Batch size = %d\"%(batch_num))\n",
        "print(\"  Num steps = %d\"%(total_steps))"
      ]
    },
    {
      "cell_type": "code",
      "execution_count": null,
      "metadata": {
        "colab": {
          "base_uri": "https://localhost:8080/"
        },
        "id": "PJuZ0T26tN24",
        "outputId": "0f2ece56-89d2-4816-ef60-d1e57dc99837",
        "scrolled": true
      },
      "outputs": [
        {
          "name": "stdout",
          "output_type": "stream",
          "text": [
            "\n",
            "======== Epoch 1 / 2 ========\n",
            "\u001b[1mTraining...\u001b[0m\n",
            "\n",
            "Epoch finished (training progress):\n",
            "   Train loss: 0.022804021927271493\n",
            "   Training epoch took: 0:08:51\n",
            "\n",
            "\u001b[1mRunning Validation...\u001b[0m\n",
            "  (Num examples =2450)\n",
            "  (Batch size = 8)\n",
            "\n",
            "   Validation loss: 0.006691093122324389\n",
            "   F1-score: 0.779853\n",
            "   Accuracy: 0.941365\n",
            "   Validation took: 0:00:46\n",
            "\n",
            "======== Epoch 2 / 2 ========\n",
            "\u001b[1mTraining...\u001b[0m\n"
          ]
        },
        {
          "name": "stderr",
          "output_type": "stream",
          "text": [
            "/usr/local/lib/python3.10/dist-packages/seqeval/metrics/sequence_labeling.py:171: UserWarning: X seems not to be NE tag.\n",
            "  warnings.warn('{} seems not to be NE tag.'.format(chunk))\n"
          ]
        },
        {
          "name": "stdout",
          "output_type": "stream",
          "text": [
            "\n",
            "Epoch finished (training progress):\n",
            "   Train loss: 0.003982882270077481\n",
            "   Training epoch took: 0:08:49\n",
            "\n",
            "\u001b[1mRunning Validation...\u001b[0m\n",
            "  (Num examples =2450)\n",
            "  (Batch size = 8)\n",
            "\n",
            "   Validation loss: 0.006122246942143882\n",
            "   F1-score: 0.814403\n",
            "   Accuracy: 0.948738\n",
            "   Validation took: 0:00:46\n",
            "Training complete\n",
            "Total training took 0:19:13 (h:mm:ss)\n"
          ]
        }
      ],
      "source": [
        "seed_val = 10\n",
        "np.random.seed(seed_val)\n",
        "torch.manual_seed(seed_val)\n",
        "torch.cuda.manual_seed_all(seed_val)\n",
        "\n",
        "loss_values = []\n",
        "training_stats = []\n",
        "\n",
        "total_t0 = time.time()\n",
        "# for _ in trange(epochs,desc=\" Epoch\"):\n",
        "for _ in range(epochs):\n",
        "\n",
        "    print(\"\")\n",
        "    print('======== Epoch {:} / {:} ========'.format(_+1, epochs))\n",
        "    print('\\033[1m'+'Training...'+ '\\033[0m')\n",
        "\n",
        "    model.train()\n",
        "    # Set model to GPU,if you are using GPU machine\n",
        "    model.cuda()\n",
        "\n",
        "    t0 = time.time()\n",
        "\n",
        "\n",
        "    tr_loss = 0 # total training loss for one epoch\n",
        "    nb_tr_examples, nb_tr_steps = 0, 0\n",
        "\n",
        "    for step, batch in enumerate(train_dataloader):\n",
        "        # add batch to gpu\n",
        "        batch = tuple(t.to(device) for t in batch)\n",
        "        b_input_ids, b_input_mask, b_labels = batch\n",
        "\n",
        "        model.zero_grad()\n",
        "\n",
        "        # forward pass\n",
        "        outputs = model(b_input_ids, token_type_ids=None,\n",
        "        attention_mask=b_input_mask, labels=b_labels)\n",
        "\n",
        "        loss, scores = outputs[:2]\n",
        "        if n_gpu>1:\n",
        "            # When multi gpu, average it\n",
        "            loss = loss.mean()\n",
        "\n",
        "        # backward pass\n",
        "        loss.backward()\n",
        "\n",
        "        # track train loss:\n",
        "        #Accumulate the training loss over all of the batches so that we can calculate the average loss at the end.\n",
        "        tr_loss += loss.item()\n",
        "        nb_tr_steps += 1\n",
        "\n",
        "        # gradient clipping\n",
        "        torch.nn.utils.clip_grad_norm_(parameters=model.parameters(), max_norm=max_grad_norm)\n",
        "\n",
        "        # update parameters\n",
        "        optimizer.step()\n",
        "        # Update the learning rate.\n",
        "        scheduler.step()\n",
        "\n",
        "        optimizer.zero_grad()\n",
        "\n",
        "\n",
        "    print(\"\")\n",
        "    print(\"Epoch finished (training progress):\")\n",
        "    # average the training loss\n",
        "    avg_train_loss = tr_loss/nb_tr_steps\n",
        "    print(\"   Train loss: {}\".format(avg_train_loss))\n",
        "    training_time = format_time(time.time() - t0)\n",
        "    print(\"   Training epoch took: {:}\".format(training_time))\n",
        "\n",
        "    # Store the loss value for plotting the learning curve.\n",
        "    loss_values.append(avg_train_loss)\n",
        "\n",
        "\n",
        "    #eval LOOP\n",
        "    total_eval_loss, eval_accuracy = 0, 0\n",
        "    nb_eval_steps, nb_eval_examples = 0, 0\n",
        "    y_true = []\n",
        "    y_pred = []\n",
        "    valdataset = []\n",
        "\n",
        "    y_true_full = []\n",
        "    y_pred_full = []\n",
        "    valdataset_full = []\n",
        "\n",
        "    t0 = time.time()\n",
        "\n",
        "    model.eval()\n",
        "\n",
        "    for step, batch in enumerate(valid_dataloader):\n",
        "        batch = tuple(t.to(device) for t in batch)\n",
        "        input_ids, input_mask, label_ids = batch #same as we did in training loop but only 1 epoch now\n",
        "\n",
        "\n",
        "        with torch.no_grad(): #means we don't care about gradients and updating tensors\n",
        "            outputs = model(input_ids, token_type_ids=None,\n",
        "            attention_mask=input_mask,labels=label_ids)\n",
        "            # For eval mode, the first result of outputs is logits (for training mode this was loss)\n",
        "#             logits = outputs[0]\n",
        "            loss, logits = outputs[:2]#  In context of deep learning the logits layer means the layer that feeds in to softmax (or other such normalization).\n",
        "\n",
        "        loss = loss.mean()\n",
        "        total_eval_loss += loss.item()\n",
        "\n",
        "\n",
        "        # Get NER predict result\n",
        "        logits = torch.argmax(F.log_softmax(logits,dim=2),dim=2)#feed logits into softmax and take the prediction that is maximal\n",
        "        logits = logits.detach().cpu().numpy()\n",
        "\n",
        "        # Get NER true result\n",
        "        label_ids = label_ids.to('cpu').numpy()\n",
        "\n",
        "        # Only predict the real word, mark=0, will not calculate\n",
        "        input_mask = input_mask.to('cpu').numpy()\n",
        "\n",
        "\n",
        "        # Compare the valuable predict result\n",
        "        for i,mask in enumerate(input_mask):\n",
        "            # Real one\n",
        "            temp_1 = []\n",
        "            # Predicted one\n",
        "            temp_2 = []\n",
        "            valtemp = []\n",
        "\n",
        "            temp_1_full = []\n",
        "            # Predicted one\n",
        "            temp_2_full = []\n",
        "            valtemp_full = []\n",
        "\n",
        "            for j, m in enumerate(mask):\n",
        "                # Mark=0, meaning its a pad word, dont compare\n",
        "                if m :\n",
        "                    if tag2name[label_ids[i][j]] != \"X\" and tag2name[label_ids[i][j]] != \"[CLS]\" and tag2name[label_ids[i][j]] != \"[SEP]\" : # Exclude the X label\n",
        "                        temp_1.append(tag2name[label_ids[i][j]])\n",
        "                        temp_2.append(tag2name[logits[i][j]])\n",
        "                        valtemp.append(input_ids[i][j].item())\n",
        "\n",
        "                    if tag2name[label_ids[i][j]] != \"[CLS]\" and tag2name[label_ids[i][j]] != \"[SEP]\" : # Exclude the X label\n",
        "                        temp_1_full.append(tag2name[label_ids[i][j]])\n",
        "                        temp_2_full.append(tag2name[logits[i][j]])\n",
        "                        valtemp_full.append(input_ids[i][j].item())\n",
        "\n",
        "                else:\n",
        "                    break\n",
        "\n",
        "            #here are the two lists that contain true and pred labels.\n",
        "            y_true.append(temp_1)\n",
        "            y_pred.append(temp_2)\n",
        "            valdataset.append(valtemp)\n",
        "\n",
        "\n",
        "            y_true_full.append(temp_1_full)\n",
        "            y_pred_full.append(temp_2_full)\n",
        "            valdataset_full.append(valtemp_full)\n",
        "\n",
        "\n",
        "    avg_val_loss = total_eval_loss / len(valid_dataloader)\n",
        "    validation_time = format_time(time.time() - t0)\n",
        "\n",
        "    print(\"\")\n",
        "    print('\\033[1m'+\"Running Validation...\"+ '\\033[0m')\n",
        "    print(\"  (Num examples ={})\".format(len(val_inputs)))\n",
        "    print(\"  (Batch size = {})\\n\".format(batch_num))\n",
        "    print(\"   Validation loss: {}\".format(avg_val_loss))\n",
        "    print(\"   F1-score: %f\"%(f1_score(y_true, y_pred)))\n",
        "    print(\"   Accuracy: %f\"%(accuracy_score(y_true, y_pred)))\n",
        "    print(\"   Validation took: {:}\".format(validation_time))\n",
        "\n",
        "    training_stats.append(\n",
        "        {   'epoch': _ + 1,\n",
        "            'Training Loss': avg_train_loss,\n",
        "            'Valid. Loss': avg_val_loss,\n",
        "            'Valid. Accur.': accuracy_score(y_true, y_pred),\n",
        "            'Training Time' : training_time,\n",
        "            'Validation Time' : validation_time })\n",
        "\n",
        "\n",
        "print('Training complete')\n",
        "print(\"Total training took {:} (h:mm:ss)\".format(format_time(time.time()-total_t0)))"
      ]
    },
    {
      "cell_type": "markdown",
      "metadata": {
        "id": "60scGHFhtN26"
      },
      "source": [
        "# 5. Evaluation on Validation set"
      ]
    },
    {
      "cell_type": "code",
      "execution_count": null,
      "metadata": {
        "colab": {
          "base_uri": "https://localhost:8080/"
        },
        "id": "rVLCfWjxtN27",
        "outputId": "6440d1e0-9762-4512-dbde-df4876abd6e5",
        "scrolled": true
      },
      "outputs": [
        {
          "name": "stderr",
          "output_type": "stream",
          "text": [
            "/usr/local/lib/python3.10/dist-packages/seqeval/metrics/v1.py:57: UndefinedMetricWarning: Recall and F-score are ill-defined and being set to 0.0 in labels with no true samples. Use `zero_division` parameter to control this behavior.\n",
            "  _warn_prf(average, modifier, msg_start, len(result))\n"
          ]
        },
        {
          "name": "stdout",
          "output_type": "stream",
          "text": [
            "              precision    recall  f1-score   support\n",
            "\n",
            "           _     0.0000    0.0000    0.0000         0\n",
            "     problem     0.7864    0.8573    0.8203      1065\n",
            "        test     0.7961    0.8271    0.8113       746\n",
            "   treatment     0.8054    0.8312    0.8181       717\n",
            "\n",
            "   micro avg     0.7895    0.8410    0.8144      2528\n",
            "   macro avg     0.5970    0.6289    0.6124      2528\n",
            "weighted avg     0.7947    0.8410    0.8170      2528\n",
            "\n"
          ]
        }
      ],
      "source": [
        "report = classification_report(y_true, y_pred,digits=4)\n",
        "print(report)"
      ]
    },
    {
      "cell_type": "code",
      "execution_count": null,
      "metadata": {
        "colab": {
          "base_uri": "https://localhost:8080/"
        },
        "id": "5dwjYw1rtN3A",
        "outputId": "c70775ee-3f90-4358-a055-2afff9aa0ec8"
      },
      "outputs": [
        {
          "data": {
            "text/plain": [
              "0.8144033710017238"
            ]
          },
          "execution_count": 89,
          "metadata": {},
          "output_type": "execute_result"
        }
      ],
      "source": [
        "# without 'O' label\n",
        "f1_score(y_true,y_pred, average='micro')"
      ]
    },
    {
      "cell_type": "code",
      "execution_count": null,
      "metadata": {
        "colab": {
          "base_uri": "https://localhost:8080/",
          "height": 143
        },
        "id": "TEolM8DjtN3B",
        "outputId": "b147be27-5ae2-46f4-a521-0851a3a4688e"
      },
      "outputs": [
        {
          "data": {
            "text/html": [
              "\n",
              "  <div id=\"df-e34b3382-b72f-4b82-908b-6180754b1371\" class=\"colab-df-container\">\n",
              "    <div>\n",
              "<style scoped>\n",
              "    .dataframe tbody tr th:only-of-type {\n",
              "        vertical-align: middle;\n",
              "    }\n",
              "\n",
              "    .dataframe tbody tr th {\n",
              "        vertical-align: top;\n",
              "    }\n",
              "\n",
              "    .dataframe thead th {\n",
              "        text-align: right;\n",
              "    }\n",
              "</style>\n",
              "<table border=\"1\" class=\"dataframe\">\n",
              "  <thead>\n",
              "    <tr style=\"text-align: right;\">\n",
              "      <th></th>\n",
              "      <th>Training Loss</th>\n",
              "      <th>Valid. Loss</th>\n",
              "      <th>Valid. Accur.</th>\n",
              "      <th>Training Time</th>\n",
              "      <th>Validation Time</th>\n",
              "    </tr>\n",
              "    <tr>\n",
              "      <th>epoch</th>\n",
              "      <th></th>\n",
              "      <th></th>\n",
              "      <th></th>\n",
              "      <th></th>\n",
              "      <th></th>\n",
              "    </tr>\n",
              "  </thead>\n",
              "  <tbody>\n",
              "    <tr>\n",
              "      <th>1</th>\n",
              "      <td>0.022804</td>\n",
              "      <td>0.006691</td>\n",
              "      <td>0.941365</td>\n",
              "      <td>0:08:51</td>\n",
              "      <td>0:00:46</td>\n",
              "    </tr>\n",
              "    <tr>\n",
              "      <th>2</th>\n",
              "      <td>0.003983</td>\n",
              "      <td>0.006122</td>\n",
              "      <td>0.948738</td>\n",
              "      <td>0:08:49</td>\n",
              "      <td>0:00:46</td>\n",
              "    </tr>\n",
              "  </tbody>\n",
              "</table>\n",
              "</div>\n",
              "    <div class=\"colab-df-buttons\">\n",
              "\n",
              "  <div class=\"colab-df-container\">\n",
              "    <button class=\"colab-df-convert\" onclick=\"convertToInteractive('df-e34b3382-b72f-4b82-908b-6180754b1371')\"\n",
              "            title=\"Convert this dataframe to an interactive table.\"\n",
              "            style=\"display:none;\">\n",
              "\n",
              "  <svg xmlns=\"http://www.w3.org/2000/svg\" height=\"24px\" viewBox=\"0 -960 960 960\">\n",
              "    <path d=\"M120-120v-720h720v720H120Zm60-500h600v-160H180v160Zm220 220h160v-160H400v160Zm0 220h160v-160H400v160ZM180-400h160v-160H180v160Zm440 0h160v-160H620v160ZM180-180h160v-160H180v160Zm440 0h160v-160H620v160Z\"/>\n",
              "  </svg>\n",
              "    </button>\n",
              "\n",
              "  <style>\n",
              "    .colab-df-container {\n",
              "      display:flex;\n",
              "      gap: 12px;\n",
              "    }\n",
              "\n",
              "    .colab-df-convert {\n",
              "      background-color: #E8F0FE;\n",
              "      border: none;\n",
              "      border-radius: 50%;\n",
              "      cursor: pointer;\n",
              "      display: none;\n",
              "      fill: #1967D2;\n",
              "      height: 32px;\n",
              "      padding: 0 0 0 0;\n",
              "      width: 32px;\n",
              "    }\n",
              "\n",
              "    .colab-df-convert:hover {\n",
              "      background-color: #E2EBFA;\n",
              "      box-shadow: 0px 1px 2px rgba(60, 64, 67, 0.3), 0px 1px 3px 1px rgba(60, 64, 67, 0.15);\n",
              "      fill: #174EA6;\n",
              "    }\n",
              "\n",
              "    .colab-df-buttons div {\n",
              "      margin-bottom: 4px;\n",
              "    }\n",
              "\n",
              "    [theme=dark] .colab-df-convert {\n",
              "      background-color: #3B4455;\n",
              "      fill: #D2E3FC;\n",
              "    }\n",
              "\n",
              "    [theme=dark] .colab-df-convert:hover {\n",
              "      background-color: #434B5C;\n",
              "      box-shadow: 0px 1px 3px 1px rgba(0, 0, 0, 0.15);\n",
              "      filter: drop-shadow(0px 1px 2px rgba(0, 0, 0, 0.3));\n",
              "      fill: #FFFFFF;\n",
              "    }\n",
              "  </style>\n",
              "\n",
              "    <script>\n",
              "      const buttonEl =\n",
              "        document.querySelector('#df-e34b3382-b72f-4b82-908b-6180754b1371 button.colab-df-convert');\n",
              "      buttonEl.style.display =\n",
              "        google.colab.kernel.accessAllowed ? 'block' : 'none';\n",
              "\n",
              "      async function convertToInteractive(key) {\n",
              "        const element = document.querySelector('#df-e34b3382-b72f-4b82-908b-6180754b1371');\n",
              "        const dataTable =\n",
              "          await google.colab.kernel.invokeFunction('convertToInteractive',\n",
              "                                                    [key], {});\n",
              "        if (!dataTable) return;\n",
              "\n",
              "        const docLinkHtml = 'Like what you see? Visit the ' +\n",
              "          '<a target=\"_blank\" href=https://colab.research.google.com/notebooks/data_table.ipynb>data table notebook</a>'\n",
              "          + ' to learn more about interactive tables.';\n",
              "        element.innerHTML = '';\n",
              "        dataTable['output_type'] = 'display_data';\n",
              "        await google.colab.output.renderOutput(dataTable, element);\n",
              "        const docLink = document.createElement('div');\n",
              "        docLink.innerHTML = docLinkHtml;\n",
              "        element.appendChild(docLink);\n",
              "      }\n",
              "    </script>\n",
              "  </div>\n",
              "\n",
              "\n",
              "<div id=\"df-39cbd66e-5a02-4f96-b717-620fc083b06e\">\n",
              "  <button class=\"colab-df-quickchart\" onclick=\"quickchart('df-39cbd66e-5a02-4f96-b717-620fc083b06e')\"\n",
              "            title=\"Suggest charts\"\n",
              "            style=\"display:none;\">\n",
              "\n",
              "<svg xmlns=\"http://www.w3.org/2000/svg\" height=\"24px\"viewBox=\"0 0 24 24\"\n",
              "     width=\"24px\">\n",
              "    <g>\n",
              "        <path d=\"M19 3H5c-1.1 0-2 .9-2 2v14c0 1.1.9 2 2 2h14c1.1 0 2-.9 2-2V5c0-1.1-.9-2-2-2zM9 17H7v-7h2v7zm4 0h-2V7h2v10zm4 0h-2v-4h2v4z\"/>\n",
              "    </g>\n",
              "</svg>\n",
              "  </button>\n",
              "\n",
              "<style>\n",
              "  .colab-df-quickchart {\n",
              "      --bg-color: #E8F0FE;\n",
              "      --fill-color: #1967D2;\n",
              "      --hover-bg-color: #E2EBFA;\n",
              "      --hover-fill-color: #174EA6;\n",
              "      --disabled-fill-color: #AAA;\n",
              "      --disabled-bg-color: #DDD;\n",
              "  }\n",
              "\n",
              "  [theme=dark] .colab-df-quickchart {\n",
              "      --bg-color: #3B4455;\n",
              "      --fill-color: #D2E3FC;\n",
              "      --hover-bg-color: #434B5C;\n",
              "      --hover-fill-color: #FFFFFF;\n",
              "      --disabled-bg-color: #3B4455;\n",
              "      --disabled-fill-color: #666;\n",
              "  }\n",
              "\n",
              "  .colab-df-quickchart {\n",
              "    background-color: var(--bg-color);\n",
              "    border: none;\n",
              "    border-radius: 50%;\n",
              "    cursor: pointer;\n",
              "    display: none;\n",
              "    fill: var(--fill-color);\n",
              "    height: 32px;\n",
              "    padding: 0;\n",
              "    width: 32px;\n",
              "  }\n",
              "\n",
              "  .colab-df-quickchart:hover {\n",
              "    background-color: var(--hover-bg-color);\n",
              "    box-shadow: 0 1px 2px rgba(60, 64, 67, 0.3), 0 1px 3px 1px rgba(60, 64, 67, 0.15);\n",
              "    fill: var(--button-hover-fill-color);\n",
              "  }\n",
              "\n",
              "  .colab-df-quickchart-complete:disabled,\n",
              "  .colab-df-quickchart-complete:disabled:hover {\n",
              "    background-color: var(--disabled-bg-color);\n",
              "    fill: var(--disabled-fill-color);\n",
              "    box-shadow: none;\n",
              "  }\n",
              "\n",
              "  .colab-df-spinner {\n",
              "    border: 2px solid var(--fill-color);\n",
              "    border-color: transparent;\n",
              "    border-bottom-color: var(--fill-color);\n",
              "    animation:\n",
              "      spin 1s steps(1) infinite;\n",
              "  }\n",
              "\n",
              "  @keyframes spin {\n",
              "    0% {\n",
              "      border-color: transparent;\n",
              "      border-bottom-color: var(--fill-color);\n",
              "      border-left-color: var(--fill-color);\n",
              "    }\n",
              "    20% {\n",
              "      border-color: transparent;\n",
              "      border-left-color: var(--fill-color);\n",
              "      border-top-color: var(--fill-color);\n",
              "    }\n",
              "    30% {\n",
              "      border-color: transparent;\n",
              "      border-left-color: var(--fill-color);\n",
              "      border-top-color: var(--fill-color);\n",
              "      border-right-color: var(--fill-color);\n",
              "    }\n",
              "    40% {\n",
              "      border-color: transparent;\n",
              "      border-right-color: var(--fill-color);\n",
              "      border-top-color: var(--fill-color);\n",
              "    }\n",
              "    60% {\n",
              "      border-color: transparent;\n",
              "      border-right-color: var(--fill-color);\n",
              "    }\n",
              "    80% {\n",
              "      border-color: transparent;\n",
              "      border-right-color: var(--fill-color);\n",
              "      border-bottom-color: var(--fill-color);\n",
              "    }\n",
              "    90% {\n",
              "      border-color: transparent;\n",
              "      border-bottom-color: var(--fill-color);\n",
              "    }\n",
              "  }\n",
              "</style>\n",
              "\n",
              "  <script>\n",
              "    async function quickchart(key) {\n",
              "      const quickchartButtonEl =\n",
              "        document.querySelector('#' + key + ' button');\n",
              "      quickchartButtonEl.disabled = true;  // To prevent multiple clicks.\n",
              "      quickchartButtonEl.classList.add('colab-df-spinner');\n",
              "      try {\n",
              "        const charts = await google.colab.kernel.invokeFunction(\n",
              "            'suggestCharts', [key], {});\n",
              "      } catch (error) {\n",
              "        console.error('Error during call to suggestCharts:', error);\n",
              "      }\n",
              "      quickchartButtonEl.classList.remove('colab-df-spinner');\n",
              "      quickchartButtonEl.classList.add('colab-df-quickchart-complete');\n",
              "    }\n",
              "    (() => {\n",
              "      let quickchartButtonEl =\n",
              "        document.querySelector('#df-39cbd66e-5a02-4f96-b717-620fc083b06e button');\n",
              "      quickchartButtonEl.style.display =\n",
              "        google.colab.kernel.accessAllowed ? 'block' : 'none';\n",
              "    })();\n",
              "  </script>\n",
              "</div>\n",
              "\n",
              "  <div id=\"id_8af5b433-6fe7-44d5-b5cc-fd33c1867b45\">\n",
              "    <style>\n",
              "      .colab-df-generate {\n",
              "        background-color: #E8F0FE;\n",
              "        border: none;\n",
              "        border-radius: 50%;\n",
              "        cursor: pointer;\n",
              "        display: none;\n",
              "        fill: #1967D2;\n",
              "        height: 32px;\n",
              "        padding: 0 0 0 0;\n",
              "        width: 32px;\n",
              "      }\n",
              "\n",
              "      .colab-df-generate:hover {\n",
              "        background-color: #E2EBFA;\n",
              "        box-shadow: 0px 1px 2px rgba(60, 64, 67, 0.3), 0px 1px 3px 1px rgba(60, 64, 67, 0.15);\n",
              "        fill: #174EA6;\n",
              "      }\n",
              "\n",
              "      [theme=dark] .colab-df-generate {\n",
              "        background-color: #3B4455;\n",
              "        fill: #D2E3FC;\n",
              "      }\n",
              "\n",
              "      [theme=dark] .colab-df-generate:hover {\n",
              "        background-color: #434B5C;\n",
              "        box-shadow: 0px 1px 3px 1px rgba(0, 0, 0, 0.15);\n",
              "        filter: drop-shadow(0px 1px 2px rgba(0, 0, 0, 0.3));\n",
              "        fill: #FFFFFF;\n",
              "      }\n",
              "    </style>\n",
              "    <button class=\"colab-df-generate\" onclick=\"generateWithVariable('df_stats')\"\n",
              "            title=\"Generate code using this dataframe.\"\n",
              "            style=\"display:none;\">\n",
              "\n",
              "  <svg xmlns=\"http://www.w3.org/2000/svg\" height=\"24px\"viewBox=\"0 0 24 24\"\n",
              "       width=\"24px\">\n",
              "    <path d=\"M7,19H8.4L18.45,9,17,7.55,7,17.6ZM5,21V16.75L18.45,3.32a2,2,0,0,1,2.83,0l1.4,1.43a1.91,1.91,0,0,1,.58,1.4,1.91,1.91,0,0,1-.58,1.4L9.25,21ZM18.45,9,17,7.55Zm-12,3A5.31,5.31,0,0,0,4.9,8.1,5.31,5.31,0,0,0,1,6.5,5.31,5.31,0,0,0,4.9,4.9,5.31,5.31,0,0,0,6.5,1,5.31,5.31,0,0,0,8.1,4.9,5.31,5.31,0,0,0,12,6.5,5.46,5.46,0,0,0,6.5,12Z\"/>\n",
              "  </svg>\n",
              "    </button>\n",
              "    <script>\n",
              "      (() => {\n",
              "      const buttonEl =\n",
              "        document.querySelector('#id_8af5b433-6fe7-44d5-b5cc-fd33c1867b45 button.colab-df-generate');\n",
              "      buttonEl.style.display =\n",
              "        google.colab.kernel.accessAllowed ? 'block' : 'none';\n",
              "\n",
              "      buttonEl.onclick = () => {\n",
              "        google.colab.notebook.generateWithVariable('df_stats');\n",
              "      }\n",
              "      })();\n",
              "    </script>\n",
              "  </div>\n",
              "\n",
              "    </div>\n",
              "  </div>\n"
            ],
            "text/plain": [
              "       Training Loss  Valid. Loss  Valid. Accur. Training Time Validation Time\n",
              "epoch                                                                         \n",
              "1           0.022804     0.006691       0.941365       0:08:51         0:00:46\n",
              "2           0.003983     0.006122       0.948738       0:08:49         0:00:46"
            ]
          },
          "execution_count": 92,
          "metadata": {},
          "output_type": "execute_result"
        }
      ],
      "source": [
        "#table\n",
        "\n",
        "#pd.set_option('precision', 2)\n",
        "df_stats = pd.DataFrame(data=training_stats)\n",
        "\n",
        "# use epoch as row index\n",
        "df_stats = df_stats.set_index('epoch')\n",
        "\n",
        "# hack to force the column headers to wrap.\n",
        "#df = df.style.set_table_styles([dict(selector=\"th\",props=[('max-width', '70px')])])\n",
        "\n",
        "df_stats"
      ]
    },
    {
      "cell_type": "code",
      "execution_count": null,
      "metadata": {
        "colab": {
          "base_uri": "https://localhost:8080/",
          "height": 592
        },
        "id": "P0P8oDdGtN3D",
        "outputId": "92d82a15-3f28-42b3-91e9-8d9d75a2b7d2"
      },
      "outputs": [
        {
          "data": {
            "image/png": "[encoded data removed]",
            "text/plain": [
              "<Figure size 1200x600 with 1 Axes>"
            ]
          },
          "metadata": {},
          "output_type": "display_data"
        }
      ],
      "source": [
        "#plotting\n",
        "sns.set(style='darkgrid')\n",
        "sns.set(font_scale=1.5)\n",
        "plt.rcParams[\"figure.figsize\"] = (12,6)\n",
        "\n",
        "\n",
        "plt.plot(df_stats['Training Loss'], 'b-o', label=\"Training\")\n",
        "plt.plot(df_stats['Valid. Loss'], 'g-o', label=\"Validation\")\n",
        "\n",
        "plt.title(\"Training & Validation Loss\")\n",
        "plt.xlabel(\"Epoch\")\n",
        "plt.ylabel(\"Loss\")\n",
        "plt.legend()\n",
        "\n",
        "ls=[]\n",
        "for i in range(epochs):\n",
        "    ls.append(i+1)\n",
        "plt.xticks(ls)\n",
        "\n",
        "plt.show()"
      ]
    },
    {
      "cell_type": "markdown",
      "metadata": {
        "id": "zwhFV28PtN3F"
      },
      "source": [
        "# 6. Evaluation on test set"
      ]
    },
    {
      "cell_type": "code",
      "execution_count": null,
      "metadata": {
        "colab": {
          "base_uri": "https://localhost:8080/"
        },
        "id": "V8hOtLTctN3F",
        "outputId": "58ea1b29-9c84-4848-86e8-823008ef261a"
      },
      "outputs": [
        {
          "name": "stdout",
          "output_type": "stream",
          "text": [
            "\n",
            "\u001b[1mRunning Test...\u001b[0m\n",
            "  (Num examples =4084)\n",
            "  (Batch size = 8)\n",
            "\n",
            "   Test loss: 0.00965458634711075\n",
            "   F1-score: 0.814434\n",
            "   Accuracy: 0.949709\n",
            "   Test took: 0:01:19\n"
          ]
        },
        {
          "name": "stderr",
          "output_type": "stream",
          "text": [
            "/usr/local/lib/python3.10/dist-packages/seqeval/metrics/sequence_labeling.py:171: UserWarning: X seems not to be NE tag.\n",
            "  warnings.warn('{} seems not to be NE tag.'.format(chunk))\n"
          ]
        }
      ],
      "source": [
        "print(\"\")\n",
        "print('\\033[1m'+\"Running Test...\"+ '\\033[0m')\n",
        "t0 = time.time()\n",
        "\n",
        "y_test_true = []\n",
        "y_test_pred = []\n",
        "testdataset = []\n",
        "\n",
        "y_test_true_full = []\n",
        "y_test_pred_full = []\n",
        "testdataset_full = []\n",
        "\n",
        "model.eval()\n",
        "\n",
        "for step, batch in enumerate(test_dataloader):\n",
        "    batch = tuple(t.to(device) for t in batch)\n",
        "    input_ids, input_mask, label_ids = batch #same as we did in training loop but only 1 epoch now\n",
        "\n",
        "\n",
        "    with torch.no_grad(): #means we don't care about gradients and updating tensors\n",
        "        outputs = model(input_ids, token_type_ids=None,\n",
        "        attention_mask=input_mask,labels=label_ids)\n",
        "        # For eval mode, the first result of outputs is logits (for training mode this was loss)\n",
        "#             logits = outputs[0]\n",
        "        loss, logits = outputs[:2]#  In context of deep learning the logits layer means the layer that feeds in to softmax (or other such normalization).\n",
        "\n",
        "    loss = loss.mean()\n",
        "    total_eval_loss += loss.item()\n",
        "\n",
        "\n",
        "    # Get NER predict result\n",
        "    logits = torch.argmax(F.log_softmax(logits,dim=2),dim=2)#feed logits into softmax and take the prediction that is maximal\n",
        "    logits = logits.detach().cpu().numpy()\n",
        "\n",
        "    # Get NER true result\n",
        "    label_ids = label_ids.to('cpu').numpy()\n",
        "\n",
        "    # Only predict the real word, mark=0, will not calculate\n",
        "    input_mask = input_mask.to('cpu').numpy()\n",
        "\n",
        "\n",
        "    # Compare the valuable predict result\n",
        "    for i,mask in enumerate(input_mask):\n",
        "        # Real one\n",
        "        temp_1 = []\n",
        "        # Predicted one\n",
        "        temp_2 = []\n",
        "        valtemp = []\n",
        "\n",
        "        temp_1_full = []\n",
        "        # Predicted one\n",
        "        temp_2_full = []\n",
        "        valtemp_full = []\n",
        "\n",
        "        for j, m in enumerate(mask):\n",
        "            # Mark=0, meaning its a pad word, dont compare\n",
        "            if m :\n",
        "                if tag2name[label_ids[i][j]] != \"X\" and tag2name[label_ids[i][j]] != \"[CLS]\" and tag2name[label_ids[i][j]] != \"[SEP]\" : # Exclude the X label\n",
        "                    temp_1.append(tag2name[label_ids[i][j]])\n",
        "                    temp_2.append(tag2name[logits[i][j]])\n",
        "                    valtemp.append(input_ids[i][j].item())\n",
        "\n",
        "                if tag2name[label_ids[i][j]] != \"[CLS]\" and tag2name[label_ids[i][j]] != \"[SEP]\" : # Exclude the X label\n",
        "                    temp_1_full.append(tag2name[label_ids[i][j]])\n",
        "                    temp_2_full.append(tag2name[logits[i][j]])\n",
        "                    valtemp_full.append(input_ids[i][j].item())\n",
        "\n",
        "            else:\n",
        "                break\n",
        "\n",
        "        #here are the two lists that contain true and pred labels.\n",
        "        y_test_true.append(temp_1)\n",
        "        y_test_pred.append(temp_2)\n",
        "        testdataset.append(valtemp)\n",
        "\n",
        "        y_test_true_full.append(temp_1_full)\n",
        "        y_test_pred_full.append(temp_2_full)\n",
        "        testdataset_full.append(valtemp_full)\n",
        "\n",
        "\n",
        "avg_test_loss = total_eval_loss / len(test_dataloader)\n",
        "test_time = format_time(time.time() - t0)\n",
        "\n",
        "print(\"  (Num examples ={})\".format(len(test_inputs)))\n",
        "print(\"  (Batch size = {})\\n\".format(batch_num))\n",
        "print(\"   Test loss: {}\".format(avg_test_loss))\n",
        "print(\"   F1-score: %f\"%(f1_score(y_test_true, y_test_pred)))\n",
        "print(\"   Accuracy: %f\"%(accuracy_score(y_test_true, y_test_pred)))\n",
        "print(\"   Test took: {:}\".format(test_time))\n",
        "\n"
      ]
    },
    {
      "cell_type": "code",
      "execution_count": null,
      "metadata": {
        "colab": {
          "base_uri": "https://localhost:8080/"
        },
        "id": "S8zYiF5StN3H",
        "outputId": "24b646c2-4907-4aa8-b18f-aefa83d3b850"
      },
      "outputs": [
        {
          "name": "stderr",
          "output_type": "stream",
          "text": [
            "/usr/local/lib/python3.10/dist-packages/seqeval/metrics/sequence_labeling.py:171: UserWarning: X seems not to be NE tag.\n",
            "  warnings.warn('{} seems not to be NE tag.'.format(chunk))\n",
            "/usr/local/lib/python3.10/dist-packages/seqeval/metrics/v1.py:57: UndefinedMetricWarning: Recall and F-score are ill-defined and being set to 0.0 in labels with no true samples. Use `zero_division` parameter to control this behavior.\n",
            "  _warn_prf(average, modifier, msg_start, len(result))\n"
          ]
        },
        {
          "name": "stdout",
          "output_type": "stream",
          "text": [
            "              precision    recall  f1-score   support\n",
            "\n",
            "           _       0.00      0.00      0.00         0\n",
            "     problem       0.78      0.84      0.81      1824\n",
            "        test       0.81      0.85      0.83      1182\n",
            "   treatment       0.79      0.83      0.81      1233\n",
            "\n",
            "   micro avg       0.79      0.84      0.81      4239\n",
            "   macro avg       0.60      0.63      0.61      4239\n",
            "weighted avg       0.79      0.84      0.82      4239\n",
            "\n"
          ]
        }
      ],
      "source": [
        "# classification report is meant for evaluation of tasks like NER (see doc)\n",
        "# difference between f1_score of scikit-learn and classification_report is that classification_report\n",
        "# merges B and I, resulting in lower f1\n",
        "report = classification_report(y_test_true, y_test_pred)\n",
        "print(report)\n"
      ]
    },
    {
      "cell_type": "code",
      "execution_count": null,
      "metadata": {
        "colab": {
          "base_uri": "https://localhost:8080/",
          "height": 356
        },
        "id": "K8M4yavb6Afn",
        "outputId": "8fcf404d-31ff-45b8-9db3-07d207ad9598"
      },
      "outputs": [
        {
          "ename": "ValueError",
          "evalue": "You appear to be using a legacy multi-label data representation. Sequence of sequences are no longer supported; use a binary array or sparse matrix instead - the MultiLabelBinarizer transformer can convert to this format.",
          "output_type": "error",
          "traceback": [
            "\u001b[0;31m---------------------------------------------------------------------------\u001b[0m",
            "\u001b[0;31mValueError\u001b[0m                                Traceback (most recent call last)",
            "\u001b[0;32m<ipython-input-102-c1334462f5a0>\u001b[0m in \u001b[0;36m<cell line: 2>\u001b[0;34m()\u001b[0m\n\u001b[1;32m      1\u001b[0m \u001b[0;32mfrom\u001b[0m \u001b[0msklearn\u001b[0m\u001b[0;34m.\u001b[0m\u001b[0mmetrics\u001b[0m \u001b[0;32mimport\u001b[0m \u001b[0maccuracy_score\u001b[0m\u001b[0;34m\u001b[0m\u001b[0;34m\u001b[0m\u001b[0m\n\u001b[0;32m----> 2\u001b[0;31m \u001b[0mprint\u001b[0m\u001b[0;34m(\u001b[0m\u001b[0maccuracy_score\u001b[0m\u001b[0;34m(\u001b[0m\u001b[0my_test_true\u001b[0m\u001b[0;34m,\u001b[0m \u001b[0my_test_pred\u001b[0m\u001b[0;34m)\u001b[0m\u001b[0;34m)\u001b[0m\u001b[0;34m\u001b[0m\u001b[0;34m\u001b[0m\u001b[0m\n\u001b[0m",
            "\u001b[0;32m/usr/local/lib/python3.10/dist-packages/sklearn/utils/_param_validation.py\u001b[0m in \u001b[0;36mwrapper\u001b[0;34m(*args, **kwargs)\u001b[0m\n\u001b[1;32m    190\u001b[0m \u001b[0;34m\u001b[0m\u001b[0m\n\u001b[1;32m    191\u001b[0m             \u001b[0;32mtry\u001b[0m\u001b[0;34m:\u001b[0m\u001b[0;34m\u001b[0m\u001b[0;34m\u001b[0m\u001b[0m\n\u001b[0;32m--> 192\u001b[0;31m                 \u001b[0;32mreturn\u001b[0m \u001b[0mfunc\u001b[0m\u001b[0;34m(\u001b[0m\u001b[0;34m*\u001b[0m\u001b[0margs\u001b[0m\u001b[0;34m,\u001b[0m \u001b[0;34m**\u001b[0m\u001b[0mkwargs\u001b[0m\u001b[0;34m)\u001b[0m\u001b[0;34m\u001b[0m\u001b[0;34m\u001b[0m\u001b[0m\n\u001b[0m\u001b[1;32m    193\u001b[0m             \u001b[0;32mexcept\u001b[0m \u001b[0mInvalidParameterError\u001b[0m \u001b[0;32mas\u001b[0m \u001b[0me\u001b[0m\u001b[0;34m:\u001b[0m\u001b[0;34m\u001b[0m\u001b[0;34m\u001b[0m\u001b[0m\n\u001b[1;32m    194\u001b[0m                 \u001b[0;31m# When the function is just a wrapper around an estimator, we allow\u001b[0m\u001b[0;34m\u001b[0m\u001b[0;34m\u001b[0m\u001b[0m\n",
            "\u001b[0;32m/usr/local/lib/python3.10/dist-packages/sklearn/metrics/_classification.py\u001b[0m in \u001b[0;36maccuracy_score\u001b[0;34m(y_true, y_pred, normalize, sample_weight)\u001b[0m\n\u001b[1;32m    219\u001b[0m \u001b[0;34m\u001b[0m\u001b[0m\n\u001b[1;32m    220\u001b[0m     \u001b[0;31m# Compute accuracy for each possible representation\u001b[0m\u001b[0;34m\u001b[0m\u001b[0;34m\u001b[0m\u001b[0m\n\u001b[0;32m--> 221\u001b[0;31m     \u001b[0my_type\u001b[0m\u001b[0;34m,\u001b[0m \u001b[0my_true\u001b[0m\u001b[0;34m,\u001b[0m \u001b[0my_pred\u001b[0m \u001b[0;34m=\u001b[0m \u001b[0m_check_targets\u001b[0m\u001b[0;34m(\u001b[0m\u001b[0my_true\u001b[0m\u001b[0;34m,\u001b[0m \u001b[0my_pred\u001b[0m\u001b[0;34m)\u001b[0m\u001b[0;34m\u001b[0m\u001b[0;34m\u001b[0m\u001b[0m\n\u001b[0m\u001b[1;32m    222\u001b[0m     \u001b[0mcheck_consistent_length\u001b[0m\u001b[0;34m(\u001b[0m\u001b[0my_true\u001b[0m\u001b[0;34m,\u001b[0m \u001b[0my_pred\u001b[0m\u001b[0;34m,\u001b[0m \u001b[0msample_weight\u001b[0m\u001b[0;34m)\u001b[0m\u001b[0;34m\u001b[0m\u001b[0;34m\u001b[0m\u001b[0m\n\u001b[1;32m    223\u001b[0m     \u001b[0;32mif\u001b[0m \u001b[0my_type\u001b[0m\u001b[0;34m.\u001b[0m\u001b[0mstartswith\u001b[0m\u001b[0;34m(\u001b[0m\u001b[0;34m\"multilabel\"\u001b[0m\u001b[0;34m)\u001b[0m\u001b[0;34m:\u001b[0m\u001b[0;34m\u001b[0m\u001b[0;34m\u001b[0m\u001b[0m\n",
            "\u001b[0;32m/usr/local/lib/python3.10/dist-packages/sklearn/metrics/_classification.py\u001b[0m in \u001b[0;36m_check_targets\u001b[0;34m(y_true, y_pred)\u001b[0m\n\u001b[1;32m     85\u001b[0m     \"\"\"\n\u001b[1;32m     86\u001b[0m     \u001b[0mcheck_consistent_length\u001b[0m\u001b[0;34m(\u001b[0m\u001b[0my_true\u001b[0m\u001b[0;34m,\u001b[0m \u001b[0my_pred\u001b[0m\u001b[0;34m)\u001b[0m\u001b[0;34m\u001b[0m\u001b[0;34m\u001b[0m\u001b[0m\n\u001b[0;32m---> 87\u001b[0;31m     \u001b[0mtype_true\u001b[0m \u001b[0;34m=\u001b[0m \u001b[0mtype_of_target\u001b[0m\u001b[0;34m(\u001b[0m\u001b[0my_true\u001b[0m\u001b[0;34m,\u001b[0m \u001b[0minput_name\u001b[0m\u001b[0;34m=\u001b[0m\u001b[0;34m\"y_true\"\u001b[0m\u001b[0;34m)\u001b[0m\u001b[0;34m\u001b[0m\u001b[0;34m\u001b[0m\u001b[0m\n\u001b[0m\u001b[1;32m     88\u001b[0m     \u001b[0mtype_pred\u001b[0m \u001b[0;34m=\u001b[0m \u001b[0mtype_of_target\u001b[0m\u001b[0;34m(\u001b[0m\u001b[0my_pred\u001b[0m\u001b[0;34m,\u001b[0m \u001b[0minput_name\u001b[0m\u001b[0;34m=\u001b[0m\u001b[0;34m\"y_pred\"\u001b[0m\u001b[0;34m)\u001b[0m\u001b[0;34m\u001b[0m\u001b[0;34m\u001b[0m\u001b[0m\n\u001b[1;32m     89\u001b[0m \u001b[0;34m\u001b[0m\u001b[0m\n",
            "\u001b[0;32m/usr/local/lib/python3.10/dist-packages/sklearn/utils/multiclass.py\u001b[0m in \u001b[0;36mtype_of_target\u001b[0;34m(y, input_name)\u001b[0m\n\u001b[1;32m    343\u001b[0m             \u001b[0;32mand\u001b[0m \u001b[0;32mnot\u001b[0m \u001b[0misinstance\u001b[0m\u001b[0;34m(\u001b[0m\u001b[0my\u001b[0m\u001b[0;34m[\u001b[0m\u001b[0;36m0\u001b[0m\u001b[0;34m]\u001b[0m\u001b[0;34m,\u001b[0m \u001b[0mstr\u001b[0m\u001b[0;34m)\u001b[0m\u001b[0;34m\u001b[0m\u001b[0;34m\u001b[0m\u001b[0m\n\u001b[1;32m    344\u001b[0m         ):\n\u001b[0;32m--> 345\u001b[0;31m             raise ValueError(\n\u001b[0m\u001b[1;32m    346\u001b[0m                 \u001b[0;34m\"You appear to be using a legacy multi-label data\"\u001b[0m\u001b[0;34m\u001b[0m\u001b[0;34m\u001b[0m\u001b[0m\n\u001b[1;32m    347\u001b[0m                 \u001b[0;34m\" representation. Sequence of sequences are no\"\u001b[0m\u001b[0;34m\u001b[0m\u001b[0;34m\u001b[0m\u001b[0m\n",
            "\u001b[0;31mValueError\u001b[0m: You appear to be using a legacy multi-label data representation. Sequence of sequences are no longer supported; use a binary array or sparse matrix instead - the MultiLabelBinarizer transformer can convert to this format."
          ]
        }
      ],
      "source": [
        "from sklearn.metrics import accuracy_score\n",
        "print(accuracy_score(y_test_true, y_test_pred))"
      ]
    },
    {
      "cell_type": "code",
      "execution_count": null,
      "metadata": {
        "colab": {
          "base_uri": "https://localhost:8080/",
          "height": 245
        },
        "id": "-g7jEDyz7pzG",
        "outputId": "63d36db6-3084-4e8e-ab2d-d4f8cbe79ac6"
      },
      "outputs": [
        {
          "ename": "TypeError",
          "evalue": "string indices must be integers",
          "output_type": "error",
          "traceback": [
            "\u001b[0;31m---------------------------------------------------------------------------\u001b[0m",
            "\u001b[0;31mTypeError\u001b[0m                                 Traceback (most recent call last)",
            "\u001b[0;32m<ipython-input-103-60678940c793>\u001b[0m in \u001b[0;36m<cell line: 1>\u001b[0;34m()\u001b[0m\n\u001b[0;32m----> 1\u001b[0;31m \u001b[0mtrue_positives\u001b[0m \u001b[0;34m=\u001b[0m \u001b[0mreport\u001b[0m\u001b[0;34m[\u001b[0m\u001b[0;34m'true_positives'\u001b[0m\u001b[0;34m]\u001b[0m\u001b[0;34m\u001b[0m\u001b[0;34m\u001b[0m\u001b[0m\n\u001b[0m\u001b[1;32m      2\u001b[0m \u001b[0;34m\u001b[0m\u001b[0m\n\u001b[1;32m      3\u001b[0m \u001b[0;31m# Create confusion matrix labels\u001b[0m\u001b[0;34m\u001b[0m\u001b[0;34m\u001b[0m\u001b[0m\n\u001b[1;32m      4\u001b[0m \u001b[0mlabels\u001b[0m \u001b[0;34m=\u001b[0m \u001b[0mlist\u001b[0m\u001b[0;34m(\u001b[0m\u001b[0mreport\u001b[0m\u001b[0;34m[\u001b[0m\u001b[0;34m'labels'\u001b[0m\u001b[0;34m]\u001b[0m\u001b[0;34m)\u001b[0m\u001b[0;34m\u001b[0m\u001b[0;34m\u001b[0m\u001b[0m\n\u001b[1;32m      5\u001b[0m \u001b[0;34m\u001b[0m\u001b[0m\n",
            "\u001b[0;31mTypeError\u001b[0m: string indices must be integers"
          ]
        }
      ],
      "source": [
        "true_positives = report['true_positives']\n",
        "\n",
        "# Create confusion matrix labels\n",
        "labels = list(report['labels'])\n",
        "\n",
        "# Initialize confusion matrix\n",
        "cm = np.zeros((len(labels), len(labels)))\n",
        "\n",
        "# Fill in true positives\n",
        "for i, label in enumerate(labels):\n",
        "    cm[i, i] = true_positives[label]\n",
        "\n",
        "# Calculate false positives and negatives\n",
        "for i in range(len(labels)):\n",
        "    for j in range(len(labels)):\n",
        "        if i != j:\n",
        "            cm[i, j] = sum(y_true[k] == labels[i] and y_pred[k] == labels[j] for k in range(len(y_true)))\n",
        "\n",
        "# Print the confusion matrix\n",
        "print(cm)"
      ]
    },
    {
      "cell_type": "markdown",
      "metadata": {
        "id": "xUiozQXetN3J"
      },
      "source": [
        "# 7. Predictions of test set - examples\n"
      ]
    },
    {
      "cell_type": "code",
      "execution_count": null,
      "metadata": {
        "colab": {
          "base_uri": "https://localhost:8080/"
        },
        "id": "hkKVwzc6tN3K",
        "outputId": "e123fb8d-3e9d-40a4-be12-7bdf66306de9"
      },
      "outputs": [
        {
          "data": {
            "text/plain": [
              "(4, 4, 4)"
            ]
          },
          "execution_count": 39,
          "metadata": {},
          "output_type": "execute_result"
        }
      ],
      "source": [
        "len(y_test_true[0]),len(y_test_pred[0]), len(testdataset[0])"
      ]
    },
    {
      "cell_type": "code",
      "execution_count": null,
      "metadata": {
        "id": "eT0kzFMetN3M"
      },
      "outputs": [],
      "source": [
        "text= [tokenizer.decode(test) for test in testdataset]\n",
        "tokenized_text_converted = [tokenizer.convert_ids_to_tokens(test) for test in testdataset]\n"
      ]
    },
    {
      "cell_type": "code",
      "execution_count": null,
      "metadata": {
        "id": "hsN-PEoxtN3N"
      },
      "outputs": [],
      "source": [
        "text_full= [tokenizer.decode(test) for test in testdataset_full]\n",
        "tokenized_text_converted_full = [tokenizer.convert_ids_to_tokens(test) for test in testdataset_full]\n"
      ]
    },
    {
      "cell_type": "code",
      "execution_count": null,
      "metadata": {
        "colab": {
          "base_uri": "https://localhost:8080/"
        },
        "id": "lOkv6SXOtN3P",
        "outputId": "7ddf2df0-d4b5-4a43-fec3-69959fcb5cd0"
      },
      "outputs": [
        {
          "name": "stdout",
          "output_type": "stream",
          "text": [
            "\n",
            "No observed abnormalities Admission Date :\n",
            "\u001b[1mLabels:      \u001b[0m ['O', 'B-problem', 'I-problem', 'O', 'O', 'O']\n",
            "\u001b[1mPredictions: \u001b[0m ['O', 'O', 'O', 'O', 'O', 'O']\n",
            "\n",
            "\n",
            "['No', 'observed', 'abnormal', '##ities', 'Ad', '##mission', 'Date', ':']\n"
          ]
        }
      ],
      "source": [
        "a = 2\n",
        "print( '\\n' + text_full[a])\n",
        "print('\\033[1m' + \"Labels:      \" + '\\033[0m', y_test_true[a])\n",
        "print('\\033[1m' + \"Predictions: \"+ '\\033[0m',y_test_pred[a])\n",
        "print('\\n')\n",
        "\n",
        "print(tokenized_text_converted_full[a])\n",
        "\n"
      ]
    },
    {
      "cell_type": "code",
      "execution_count": null,
      "metadata": {
        "colab": {
          "base_uri": "https://localhost:8080/"
        },
        "id": "yFFKZROBtN3R",
        "outputId": "2c3303b4-c89a-4a29-fed8-8e551d74c0cf"
      },
      "outputs": [
        {
          "name": "stdout",
          "output_type": "stream",
          "text": [
            "\n",
            "CC : Antonio M. Z. Eddings, M. D.\n",
            "\u001b[1mLabels:      \u001b[0m ['O', 'O', 'O', 'O', 'O', 'O', 'O', 'O']\n",
            "\u001b[1mPredictions: \u001b[0m ['O', 'O', 'O', 'O', 'O', 'O', 'O', 'O']\n",
            "\n",
            "\n",
            "['CC', ':', 'Antonio', 'M', '.', 'Z', '.', 'Ed', '##ding', '##s', ',', 'M', '.', 'D', '.']\n"
          ]
        }
      ],
      "source": [
        "a = 7\n",
        "print( '\\n' +text_full[a])\n",
        "print('\\033[1m' + \"Labels:      \" + '\\033[0m', y_test_true[a])\n",
        "print('\\033[1m' + \"Predictions: \"+ '\\033[0m',y_test_pred[a])\n",
        "print('\\n')\n",
        "\n",
        "print(tokenized_text_converted_full[a])\n"
      ]
    },
    {
      "cell_type": "code",
      "execution_count": null,
      "metadata": {
        "colab": {
          "base_uri": "https://localhost:8080/",
          "height": 245
        },
        "id": "VkzOWQMhtN3T",
        "outputId": "633e5c96-ad3c-4573-83ee-570e30b93c70"
      },
      "outputs": [
        {
          "ename": "IndexError",
          "evalue": "list index out of range",
          "output_type": "error",
          "traceback": [
            "\u001b[0;31m---------------------------------------------------------------------------\u001b[0m",
            "\u001b[0;31mIndexError\u001b[0m                                Traceback (most recent call last)",
            "\u001b[0;32m<ipython-input-44-5e54bf5e38d6>\u001b[0m in \u001b[0;36m<cell line: 2>\u001b[0;34m()\u001b[0m\n\u001b[1;32m      1\u001b[0m \u001b[0ma\u001b[0m \u001b[0;34m=\u001b[0m \u001b[0;36m11\u001b[0m\u001b[0;34m\u001b[0m\u001b[0;34m\u001b[0m\u001b[0m\n\u001b[0;32m----> 2\u001b[0;31m \u001b[0mprint\u001b[0m\u001b[0;34m(\u001b[0m \u001b[0;34m'\\n'\u001b[0m \u001b[0;34m+\u001b[0m\u001b[0mtext_full\u001b[0m\u001b[0;34m[\u001b[0m\u001b[0ma\u001b[0m\u001b[0;34m]\u001b[0m\u001b[0;34m)\u001b[0m\u001b[0;34m\u001b[0m\u001b[0;34m\u001b[0m\u001b[0m\n\u001b[0m\u001b[1;32m      3\u001b[0m \u001b[0mprint\u001b[0m\u001b[0;34m(\u001b[0m\u001b[0;34m'\\033[1m'\u001b[0m \u001b[0;34m+\u001b[0m \u001b[0;34m\"Labels:      \"\u001b[0m \u001b[0;34m+\u001b[0m \u001b[0;34m'\\033[0m'\u001b[0m\u001b[0;34m,\u001b[0m \u001b[0my_test_true\u001b[0m\u001b[0;34m[\u001b[0m\u001b[0ma\u001b[0m\u001b[0;34m]\u001b[0m\u001b[0;34m)\u001b[0m\u001b[0;34m\u001b[0m\u001b[0;34m\u001b[0m\u001b[0m\n\u001b[1;32m      4\u001b[0m \u001b[0mprint\u001b[0m\u001b[0;34m(\u001b[0m\u001b[0;34m'\\033[1m'\u001b[0m \u001b[0;34m+\u001b[0m \u001b[0;34m\"Predictions: \"\u001b[0m\u001b[0;34m+\u001b[0m \u001b[0;34m'\\033[0m'\u001b[0m\u001b[0;34m,\u001b[0m\u001b[0my_test_pred\u001b[0m\u001b[0;34m[\u001b[0m\u001b[0ma\u001b[0m\u001b[0;34m]\u001b[0m\u001b[0;34m)\u001b[0m\u001b[0;34m\u001b[0m\u001b[0;34m\u001b[0m\u001b[0m\n\u001b[1;32m      5\u001b[0m \u001b[0mprint\u001b[0m\u001b[0;34m(\u001b[0m\u001b[0;34m'\\n'\u001b[0m\u001b[0;34m)\u001b[0m\u001b[0;34m\u001b[0m\u001b[0;34m\u001b[0m\u001b[0m\n",
            "\u001b[0;31mIndexError\u001b[0m: list index out of range"
          ]
        }
      ],
      "source": [
        "a = 11\n",
        "print( '\\n' +text_full[a])\n",
        "print('\\033[1m' + \"Labels:      \" + '\\033[0m', y_test_true[a])\n",
        "print('\\033[1m' + \"Predictions: \"+ '\\033[0m',y_test_pred[a])\n",
        "print('\\n')\n",
        "\n",
        "print(tokenized_text_converted_full[a])\n"
      ]
    },
    {
      "cell_type": "code",
      "execution_count": null,
      "metadata": {
        "id": "LhloJWLotN3V"
      },
      "outputs": [],
      "source": [
        "a = 12\n",
        "print( '\\n' +text_full[a])\n",
        "print('\\033[1m' + \"Labels:      \" + '\\033[0m', y_test_true[a])\n",
        "print('\\033[1m' + \"Predictions: \"+ '\\033[0m',y_test_pred[a])\n",
        "print('\\n')\n",
        "\n",
        "print(tokenized_text_converted_full[a])\n",
        "\n"
      ]
    },
    {
      "cell_type": "code",
      "execution_count": null,
      "metadata": {
        "id": "E_UyQcattN3W"
      },
      "outputs": [],
      "source": [
        "a = 14\n",
        "print( '\\n' +text_full[a])\n",
        "print('\\033[1m' + \"Labels:      \" + '\\033[0m', y_test_true[a])\n",
        "print('\\033[1m' + \"Predictions: \"+ '\\033[0m',y_test_pred[a])\n",
        "print('\\n')\n",
        "\n",
        "print(tokenized_text_converted_full[a])\n"
      ]
    },
    {
      "cell_type": "code",
      "execution_count": null,
      "metadata": {
        "id": "w1dupjt9tN3Y"
      },
      "outputs": [],
      "source": [
        "a = 17\n",
        "print( '\\n' +text_full[a])\n",
        "print('\\033[1m' + \"Labels:      \" + '\\033[0m', y_test_true[a])\n",
        "print('\\033[1m' + \"Predictions: \"+ '\\033[0m',y_test_pred[a])\n",
        "print('\\n')\n",
        "\n",
        "print(tokenized_text_converted_full[a])\n"
      ]
    },
    {
      "cell_type": "code",
      "execution_count": null,
      "metadata": {
        "id": "-rzBb1AVtN3b"
      },
      "outputs": [],
      "source": [
        "a = 25\n",
        "print( '\\n' +text_full[a])\n",
        "print('\\033[1m' + \"Labels:      \" + '\\033[0m', y_test_true[a])\n",
        "print('\\033[1m' + \"Predictions: \"+ '\\033[0m',y_test_pred[a])\n",
        "print('\\n')\n",
        "\n",
        "print(tokenized_text_converted_full[a])\n"
      ]
    },
    {
      "cell_type": "code",
      "execution_count": null,
      "metadata": {
        "id": "qGY_Kfn2tN3f"
      },
      "outputs": [],
      "source": [
        "a = 37\n",
        "print( '\\n' +text_full[a])\n",
        "print('\\033[1m' + \"Labels:      \" + '\\033[0m', y_test_true[a])\n",
        "print('\\033[1m' + \"Predictions: \"+ '\\033[0m',y_test_pred[a])\n",
        "print('\\n')\n",
        "\n",
        "print(tokenized_text_converted_full[a])\n"
      ]
    },
    {
      "cell_type": "code",
      "execution_count": null,
      "metadata": {
        "id": "VNB7Ux-ytN3g"
      },
      "outputs": [],
      "source": [
        "# text = [tokenizer.convert_tokens_to_string(i) for i in tokenized_text_converted]\n"
      ]
    },
    {
      "cell_type": "code",
      "execution_count": null,
      "metadata": {
        "id": "goc1Y3DMtN3j"
      },
      "outputs": [],
      "source": [
        "for a in range(1,len(y_test_pred)):\n",
        "    print(tokenized_text_converted_full[a])"
      ]
    },
    {
      "cell_type": "code",
      "execution_count": null,
      "metadata": {
        "id": "q5NMsF47tN3k"
      },
      "outputs": [],
      "source": []
    },
    {
      "cell_type": "markdown",
      "metadata": {
        "id": "MNmgf7ZStN3l"
      },
      "source": [
        "# 9. Code snippets"
      ]
    },
    {
      "cell_type": "code",
      "execution_count": null,
      "metadata": {
        "id": "7gUmqq7qtN3m"
      },
      "outputs": [],
      "source": [
        "# flatten1 = list(itertools.chain(*y_true))\n",
        "# flatten2 = list(itertools.chain(*y_pred))\n",
        "# tagsforf1 = []\n",
        "# for tag in tags_vals[:-3]:\n",
        "#     if tag != 'O':\n",
        "#         tagsforf1.append(tag)"
      ]
    },
    {
      "cell_type": "code",
      "execution_count": null,
      "metadata": {
        "id": "K-a_BA26tN3o"
      },
      "outputs": [],
      "source": [
        "#https://datascience.stackexchange.com/questions/54907/model-cuda-in-pytorch\n",
        "# if n_gpu >1:\n",
        "#     model = torch.nn.DataParallel(model)\n",
        "# model.cuda(device='cuda:0')\n",
        "# model.to(torch.device('cuda:0'))"
      ]
    },
    {
      "cell_type": "code",
      "execution_count": null,
      "metadata": {
        "id": "UYZrWIa_tN3q"
      },
      "outputs": [],
      "source": [
        "# params = list(model.named_parameters())\n",
        "# print(len(params))\n",
        "# for p in params[0:201]:\n",
        "#     print(p[0], p[1].size())"
      ]
    },
    {
      "cell_type": "code",
      "execution_count": null,
      "metadata": {
        "id": "vuADEuKXtN3t"
      },
      "outputs": [],
      "source": [
        "# type(param_optimizer)\n",
        "# type(optimizer_grouped_parameters)\n",
        "# len(optimizer_grouped_parameters)\n",
        "\n",
        "# type(optimizer_grouped_parameters[0])\n",
        "\n",
        "# optimizer_grouped_parameters[1].keys()\n",
        "\n",
        "# optimizer_grouped_parameters[0]['weight_decay_rate']\n",
        "\n",
        "# optimizer_grouped_parameters[1]['weight_decay_rate']\n",
        "\n",
        "# optimizer_grouped_parameters[0]['betas']\n",
        "\n",
        "# optimizer_grouped_parameters[1]['betas']\n",
        "\n",
        "# optimizer_grouped_parameters[1]['weight_decay']\n",
        "\n",
        "# optimizer_grouped_parameters[1]['weight_decay']\n",
        "\n",
        "# optimizer_grouped_parameters[0]['correct_bias']\n",
        "\n",
        "# optimizer_grouped_parameters[1]['correct_bias']"
      ]
    },
    {
      "cell_type": "code",
      "execution_count": null,
      "metadata": {
        "id": "xvt7RGaptN3u"
      },
      "outputs": [],
      "source": [
        "# c =28\n",
        "# print(list(attention_masks[c]))\n",
        "# print(attention_masks_deprecated[c])\n",
        "# for i in range(1,150):\n",
        "#     if list(attention_masks[i]) != attention_masks_deprecated[i]:\n",
        "#         print(i)"
      ]
    },
    {
      "cell_type": "code",
      "execution_count": null,
      "metadata": {
        "id": "3Cq8qM_DtN3w"
      },
      "outputs": [],
      "source": [
        "# tokenized_texts[0]\n",
        "# tokenizer.tokenize(' '.join(sentences[0]))"
      ]
    },
    {
      "cell_type": "code",
      "execution_count": null,
      "metadata": {
        "id": "SRJrXzLetN3x"
      },
      "outputs": [],
      "source": [
        "# tokenizer.batch_encode_plus(sentences)['input_ids'][0]\n",
        "# tokenizer.decode(tokenizer.batch_encode_plus(sentences)['input_ids'][0])\n",
        "# tokenizer.decode(tokenizer.encode(' '.join(sentences[0])))\n",
        "# tokenizer.decode(tokenizer.encode(sentences[0]))\n",
        "# tokenizer.decode(tokenizer.encode('Diagnose revisie : ( Meerdere antwoorden mogelijk) Infectie'))"
      ]
    },
    {
      "cell_type": "code",
      "execution_count": null,
      "metadata": {
        "id": "H5_YgvBEtN3y"
      },
      "outputs": [],
      "source": []
    },
    {
      "cell_type": "code",
      "execution_count": null,
      "metadata": {
        "id": "B9lFnbi2tN3z"
      },
      "outputs": [],
      "source": [
        "# def getmaxlength():\n",
        "#     lowestcount =512\n",
        "#     lowestcountindex = 0\n",
        "#     for idx, onearray in enumerate(input_ids):\n",
        "#         count=0\n",
        "#         for number in reversed(onearray):\n",
        "#             if number ==0:\n",
        "#                 count += 1\n",
        "#             else:\n",
        "#                 if count < lowestcount:\n",
        "#                     lowestcount = count\n",
        "#                     lowestcountindex = idx\n",
        "#                 break\n",
        "\n",
        "#     maxlength = len(tokenized_texts[lowestcountindex])\n",
        "#     return maxlength"
      ]
    },
    {
      "cell_type": "code",
      "execution_count": null,
      "metadata": {
        "id": "2RoiGdte0AAG"
      },
      "outputs": [],
      "source": []
    }
  ],
  "metadata": {
    "accelerator": "GPU",
    "colab": {
      "collapsed_sections": [
        "eSVWttO1tN2B",
        "c28hX8JvtN2T",
        "VGw2FXm_tN2j",
        "JlYJo9GjtN2p",
        "TY5SteO8tN2y",
        "60scGHFhtN26",
        "zwhFV28PtN3F",
        "xUiozQXetN3J",
        "MNmgf7ZStN3l"
      ],
      "provenance": []
    },
    "kernelspec": {
      "display_name": "Python 3",
      "name": "python3"
    }
  },
  "nbformat": 4,
  "nbformat_minor": 0
}
